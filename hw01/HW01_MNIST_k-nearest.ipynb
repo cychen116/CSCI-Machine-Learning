{
 "cells": [
  {
   "cell_type": "markdown",
   "id": "ba185217",
   "metadata": {},
   "source": [
    "# 1. Package Loading"
   ]
  },
  {
   "cell_type": "code",
   "execution_count": 1,
   "id": "acb740eb",
   "metadata": {},
   "outputs": [],
   "source": [
    "#Basic\n",
    "import pandas as pd\n",
    "import numpy as np \n",
    "import random   \n",
    "import os\n",
    "import time\n",
    "from datetime import timedelta\n",
    "import pickle"
   ]
  },
  {
   "cell_type": "code",
   "execution_count": 30,
   "id": "2804cd7e",
   "metadata": {},
   "outputs": [],
   "source": [
    "\n",
    "#ML\n",
    "from sklearn.neighbors import KNeighborsClassifier\n",
    "from sklearn.neighbors import NearestNeighbors\n",
    "from sklearn.preprocessing import StandardScaler\n",
    "from sklearn.model_selection import train_test_split\n",
    "from sklearn.model_selection import GridSearchCV\n",
    "from sklearn import metrics\n",
    "from sklearn.metrics import classification_report, accuracy_score, precision_score, recall_score\n",
    "from sklearn.metrics import mean_squared_error\n",
    "from math import sqrt\n"
   ]
  },
  {
   "cell_type": "code",
   "execution_count": 3,
   "id": "a2ffc830",
   "metadata": {},
   "outputs": [],
   "source": [
    "#Visualization               \n",
    "import matplotlib.pyplot as plt\n",
    "import seaborn as sns"
   ]
  },
  {
   "cell_type": "markdown",
   "id": "2fc1b353",
   "metadata": {},
   "source": [
    "# 2. Data Loading"
   ]
  },
  {
   "cell_type": "code",
   "execution_count": 4,
   "id": "21dc39f0",
   "metadata": {},
   "outputs": [
    {
     "name": "stdout",
     "output_type": "stream",
     "text": [
      "data_mnist.csv data_mnist.zip test_mnist.csv test_mnist.zip\r\n"
     ]
    }
   ],
   "source": [
    "data_dir = '/Users/chiyunchen/pythonProject/ML_hw1/data'\n",
    "!ls '/Users/chiyunchen/pythonProject/ML_hw1/data'"
   ]
  },
  {
   "cell_type": "code",
   "execution_count": 5,
   "id": "da2f00a7",
   "metadata": {},
   "outputs": [
    {
     "name": "stdout",
     "output_type": "stream",
     "text": [
      "--- 0:00:01.848464 time elapsed ---\n"
     ]
    }
   ],
   "source": [
    "start_time = time.time()\n",
    "data = pd.read_csv(data_dir+'/data_mnist.csv')\n",
    "test = pd.read_csv(data_dir+'/test_mnist.csv')\n",
    "print(\"--- %s time elapsed ---\" % str(timedelta(seconds=time.time() - start_time)))"
   ]
  },
  {
   "cell_type": "markdown",
   "id": "bda3d9c9",
   "metadata": {},
   "source": [
    "Check out the look of data"
   ]
  },
  {
   "cell_type": "code",
   "execution_count": 6,
   "id": "38951231",
   "metadata": {},
   "outputs": [
    {
     "data": {
      "text/html": [
       "<div>\n",
       "<style scoped>\n",
       "    .dataframe tbody tr th:only-of-type {\n",
       "        vertical-align: middle;\n",
       "    }\n",
       "\n",
       "    .dataframe tbody tr th {\n",
       "        vertical-align: top;\n",
       "    }\n",
       "\n",
       "    .dataframe thead th {\n",
       "        text-align: right;\n",
       "    }\n",
       "</style>\n",
       "<table border=\"1\" class=\"dataframe\">\n",
       "  <thead>\n",
       "    <tr style=\"text-align: right;\">\n",
       "      <th></th>\n",
       "      <th>label</th>\n",
       "      <th>pixel0</th>\n",
       "      <th>pixel1</th>\n",
       "      <th>pixel2</th>\n",
       "      <th>pixel3</th>\n",
       "      <th>pixel4</th>\n",
       "      <th>pixel5</th>\n",
       "      <th>pixel6</th>\n",
       "      <th>pixel7</th>\n",
       "      <th>pixel8</th>\n",
       "      <th>...</th>\n",
       "      <th>pixel774</th>\n",
       "      <th>pixel775</th>\n",
       "      <th>pixel776</th>\n",
       "      <th>pixel777</th>\n",
       "      <th>pixel778</th>\n",
       "      <th>pixel779</th>\n",
       "      <th>pixel780</th>\n",
       "      <th>pixel781</th>\n",
       "      <th>pixel782</th>\n",
       "      <th>pixel783</th>\n",
       "    </tr>\n",
       "  </thead>\n",
       "  <tbody>\n",
       "    <tr>\n",
       "      <th>0</th>\n",
       "      <td>1</td>\n",
       "      <td>0</td>\n",
       "      <td>0</td>\n",
       "      <td>0</td>\n",
       "      <td>0</td>\n",
       "      <td>0</td>\n",
       "      <td>0</td>\n",
       "      <td>0</td>\n",
       "      <td>0</td>\n",
       "      <td>0</td>\n",
       "      <td>...</td>\n",
       "      <td>0</td>\n",
       "      <td>0</td>\n",
       "      <td>0</td>\n",
       "      <td>0</td>\n",
       "      <td>0</td>\n",
       "      <td>0</td>\n",
       "      <td>0</td>\n",
       "      <td>0</td>\n",
       "      <td>0</td>\n",
       "      <td>0</td>\n",
       "    </tr>\n",
       "    <tr>\n",
       "      <th>1</th>\n",
       "      <td>0</td>\n",
       "      <td>0</td>\n",
       "      <td>0</td>\n",
       "      <td>0</td>\n",
       "      <td>0</td>\n",
       "      <td>0</td>\n",
       "      <td>0</td>\n",
       "      <td>0</td>\n",
       "      <td>0</td>\n",
       "      <td>0</td>\n",
       "      <td>...</td>\n",
       "      <td>0</td>\n",
       "      <td>0</td>\n",
       "      <td>0</td>\n",
       "      <td>0</td>\n",
       "      <td>0</td>\n",
       "      <td>0</td>\n",
       "      <td>0</td>\n",
       "      <td>0</td>\n",
       "      <td>0</td>\n",
       "      <td>0</td>\n",
       "    </tr>\n",
       "    <tr>\n",
       "      <th>2</th>\n",
       "      <td>1</td>\n",
       "      <td>0</td>\n",
       "      <td>0</td>\n",
       "      <td>0</td>\n",
       "      <td>0</td>\n",
       "      <td>0</td>\n",
       "      <td>0</td>\n",
       "      <td>0</td>\n",
       "      <td>0</td>\n",
       "      <td>0</td>\n",
       "      <td>...</td>\n",
       "      <td>0</td>\n",
       "      <td>0</td>\n",
       "      <td>0</td>\n",
       "      <td>0</td>\n",
       "      <td>0</td>\n",
       "      <td>0</td>\n",
       "      <td>0</td>\n",
       "      <td>0</td>\n",
       "      <td>0</td>\n",
       "      <td>0</td>\n",
       "    </tr>\n",
       "    <tr>\n",
       "      <th>3</th>\n",
       "      <td>4</td>\n",
       "      <td>0</td>\n",
       "      <td>0</td>\n",
       "      <td>0</td>\n",
       "      <td>0</td>\n",
       "      <td>0</td>\n",
       "      <td>0</td>\n",
       "      <td>0</td>\n",
       "      <td>0</td>\n",
       "      <td>0</td>\n",
       "      <td>...</td>\n",
       "      <td>0</td>\n",
       "      <td>0</td>\n",
       "      <td>0</td>\n",
       "      <td>0</td>\n",
       "      <td>0</td>\n",
       "      <td>0</td>\n",
       "      <td>0</td>\n",
       "      <td>0</td>\n",
       "      <td>0</td>\n",
       "      <td>0</td>\n",
       "    </tr>\n",
       "    <tr>\n",
       "      <th>4</th>\n",
       "      <td>0</td>\n",
       "      <td>0</td>\n",
       "      <td>0</td>\n",
       "      <td>0</td>\n",
       "      <td>0</td>\n",
       "      <td>0</td>\n",
       "      <td>0</td>\n",
       "      <td>0</td>\n",
       "      <td>0</td>\n",
       "      <td>0</td>\n",
       "      <td>...</td>\n",
       "      <td>0</td>\n",
       "      <td>0</td>\n",
       "      <td>0</td>\n",
       "      <td>0</td>\n",
       "      <td>0</td>\n",
       "      <td>0</td>\n",
       "      <td>0</td>\n",
       "      <td>0</td>\n",
       "      <td>0</td>\n",
       "      <td>0</td>\n",
       "    </tr>\n",
       "  </tbody>\n",
       "</table>\n",
       "<p>5 rows × 785 columns</p>\n",
       "</div>"
      ],
      "text/plain": [
       "   label  pixel0  pixel1  pixel2  pixel3  pixel4  pixel5  pixel6  pixel7  \\\n",
       "0      1       0       0       0       0       0       0       0       0   \n",
       "1      0       0       0       0       0       0       0       0       0   \n",
       "2      1       0       0       0       0       0       0       0       0   \n",
       "3      4       0       0       0       0       0       0       0       0   \n",
       "4      0       0       0       0       0       0       0       0       0   \n",
       "\n",
       "   pixel8  ...  pixel774  pixel775  pixel776  pixel777  pixel778  pixel779  \\\n",
       "0       0  ...         0         0         0         0         0         0   \n",
       "1       0  ...         0         0         0         0         0         0   \n",
       "2       0  ...         0         0         0         0         0         0   \n",
       "3       0  ...         0         0         0         0         0         0   \n",
       "4       0  ...         0         0         0         0         0         0   \n",
       "\n",
       "   pixel780  pixel781  pixel782  pixel783  \n",
       "0         0         0         0         0  \n",
       "1         0         0         0         0  \n",
       "2         0         0         0         0  \n",
       "3         0         0         0         0  \n",
       "4         0         0         0         0  \n",
       "\n",
       "[5 rows x 785 columns]"
      ]
     },
     "execution_count": 6,
     "metadata": {},
     "output_type": "execute_result"
    }
   ],
   "source": [
    "data.head()"
   ]
  },
  {
   "cell_type": "code",
   "execution_count": 7,
   "id": "2d1277e1",
   "metadata": {},
   "outputs": [
    {
     "data": {
      "text/html": [
       "<div>\n",
       "<style scoped>\n",
       "    .dataframe tbody tr th:only-of-type {\n",
       "        vertical-align: middle;\n",
       "    }\n",
       "\n",
       "    .dataframe tbody tr th {\n",
       "        vertical-align: top;\n",
       "    }\n",
       "\n",
       "    .dataframe thead th {\n",
       "        text-align: right;\n",
       "    }\n",
       "</style>\n",
       "<table border=\"1\" class=\"dataframe\">\n",
       "  <thead>\n",
       "    <tr style=\"text-align: right;\">\n",
       "      <th></th>\n",
       "      <th>pixel0</th>\n",
       "      <th>pixel1</th>\n",
       "      <th>pixel2</th>\n",
       "      <th>pixel3</th>\n",
       "      <th>pixel4</th>\n",
       "      <th>pixel5</th>\n",
       "      <th>pixel6</th>\n",
       "      <th>pixel7</th>\n",
       "      <th>pixel8</th>\n",
       "      <th>pixel9</th>\n",
       "      <th>...</th>\n",
       "      <th>pixel774</th>\n",
       "      <th>pixel775</th>\n",
       "      <th>pixel776</th>\n",
       "      <th>pixel777</th>\n",
       "      <th>pixel778</th>\n",
       "      <th>pixel779</th>\n",
       "      <th>pixel780</th>\n",
       "      <th>pixel781</th>\n",
       "      <th>pixel782</th>\n",
       "      <th>pixel783</th>\n",
       "    </tr>\n",
       "  </thead>\n",
       "  <tbody>\n",
       "    <tr>\n",
       "      <th>0</th>\n",
       "      <td>0</td>\n",
       "      <td>0</td>\n",
       "      <td>0</td>\n",
       "      <td>0</td>\n",
       "      <td>0</td>\n",
       "      <td>0</td>\n",
       "      <td>0</td>\n",
       "      <td>0</td>\n",
       "      <td>0</td>\n",
       "      <td>0</td>\n",
       "      <td>...</td>\n",
       "      <td>0</td>\n",
       "      <td>0</td>\n",
       "      <td>0</td>\n",
       "      <td>0</td>\n",
       "      <td>0</td>\n",
       "      <td>0</td>\n",
       "      <td>0</td>\n",
       "      <td>0</td>\n",
       "      <td>0</td>\n",
       "      <td>0</td>\n",
       "    </tr>\n",
       "    <tr>\n",
       "      <th>1</th>\n",
       "      <td>0</td>\n",
       "      <td>0</td>\n",
       "      <td>0</td>\n",
       "      <td>0</td>\n",
       "      <td>0</td>\n",
       "      <td>0</td>\n",
       "      <td>0</td>\n",
       "      <td>0</td>\n",
       "      <td>0</td>\n",
       "      <td>0</td>\n",
       "      <td>...</td>\n",
       "      <td>0</td>\n",
       "      <td>0</td>\n",
       "      <td>0</td>\n",
       "      <td>0</td>\n",
       "      <td>0</td>\n",
       "      <td>0</td>\n",
       "      <td>0</td>\n",
       "      <td>0</td>\n",
       "      <td>0</td>\n",
       "      <td>0</td>\n",
       "    </tr>\n",
       "    <tr>\n",
       "      <th>2</th>\n",
       "      <td>0</td>\n",
       "      <td>0</td>\n",
       "      <td>0</td>\n",
       "      <td>0</td>\n",
       "      <td>0</td>\n",
       "      <td>0</td>\n",
       "      <td>0</td>\n",
       "      <td>0</td>\n",
       "      <td>0</td>\n",
       "      <td>0</td>\n",
       "      <td>...</td>\n",
       "      <td>0</td>\n",
       "      <td>0</td>\n",
       "      <td>0</td>\n",
       "      <td>0</td>\n",
       "      <td>0</td>\n",
       "      <td>0</td>\n",
       "      <td>0</td>\n",
       "      <td>0</td>\n",
       "      <td>0</td>\n",
       "      <td>0</td>\n",
       "    </tr>\n",
       "    <tr>\n",
       "      <th>3</th>\n",
       "      <td>0</td>\n",
       "      <td>0</td>\n",
       "      <td>0</td>\n",
       "      <td>0</td>\n",
       "      <td>0</td>\n",
       "      <td>0</td>\n",
       "      <td>0</td>\n",
       "      <td>0</td>\n",
       "      <td>0</td>\n",
       "      <td>0</td>\n",
       "      <td>...</td>\n",
       "      <td>0</td>\n",
       "      <td>0</td>\n",
       "      <td>0</td>\n",
       "      <td>0</td>\n",
       "      <td>0</td>\n",
       "      <td>0</td>\n",
       "      <td>0</td>\n",
       "      <td>0</td>\n",
       "      <td>0</td>\n",
       "      <td>0</td>\n",
       "    </tr>\n",
       "    <tr>\n",
       "      <th>4</th>\n",
       "      <td>0</td>\n",
       "      <td>0</td>\n",
       "      <td>0</td>\n",
       "      <td>0</td>\n",
       "      <td>0</td>\n",
       "      <td>0</td>\n",
       "      <td>0</td>\n",
       "      <td>0</td>\n",
       "      <td>0</td>\n",
       "      <td>0</td>\n",
       "      <td>...</td>\n",
       "      <td>0</td>\n",
       "      <td>0</td>\n",
       "      <td>0</td>\n",
       "      <td>0</td>\n",
       "      <td>0</td>\n",
       "      <td>0</td>\n",
       "      <td>0</td>\n",
       "      <td>0</td>\n",
       "      <td>0</td>\n",
       "      <td>0</td>\n",
       "    </tr>\n",
       "  </tbody>\n",
       "</table>\n",
       "<p>5 rows × 784 columns</p>\n",
       "</div>"
      ],
      "text/plain": [
       "   pixel0  pixel1  pixel2  pixel3  pixel4  pixel5  pixel6  pixel7  pixel8  \\\n",
       "0       0       0       0       0       0       0       0       0       0   \n",
       "1       0       0       0       0       0       0       0       0       0   \n",
       "2       0       0       0       0       0       0       0       0       0   \n",
       "3       0       0       0       0       0       0       0       0       0   \n",
       "4       0       0       0       0       0       0       0       0       0   \n",
       "\n",
       "   pixel9  ...  pixel774  pixel775  pixel776  pixel777  pixel778  pixel779  \\\n",
       "0       0  ...         0         0         0         0         0         0   \n",
       "1       0  ...         0         0         0         0         0         0   \n",
       "2       0  ...         0         0         0         0         0         0   \n",
       "3       0  ...         0         0         0         0         0         0   \n",
       "4       0  ...         0         0         0         0         0         0   \n",
       "\n",
       "   pixel780  pixel781  pixel782  pixel783  \n",
       "0         0         0         0         0  \n",
       "1         0         0         0         0  \n",
       "2         0         0         0         0  \n",
       "3         0         0         0         0  \n",
       "4         0         0         0         0  \n",
       "\n",
       "[5 rows x 784 columns]"
      ]
     },
     "execution_count": 7,
     "metadata": {},
     "output_type": "execute_result"
    }
   ],
   "source": [
    "test.head()"
   ]
  },
  {
   "cell_type": "markdown",
   "id": "f62f5cbd",
   "metadata": {},
   "source": [
    "Data Structure\n",
    "- 28 x 28 = 784 pixel\n",
    "- pixel-value 0-255\n",
    "- x = i * 28 + j,  i and j are integers between 0 and 27\n",
    "- row i and column j \n",
    "- For example,  pixel31 = 4th col, 2nd row"
   ]
  },
  {
   "cell_type": "code",
   "execution_count": 8,
   "id": "93ced0c3",
   "metadata": {},
   "outputs": [
    {
     "name": "stdout",
     "output_type": "stream",
     "text": [
      "X Data Shape is  (42000, 784)\n",
      "y Data Shape is  (42000,)\n",
      "The Data Shape for Prediction is  (10000, 784)\n",
      "--- 0:00:00.134430 time elapsed ---\n"
     ]
    }
   ],
   "source": [
    "#Convert the dataframe into a numpy array (matrix)\n",
    "start_time = time.time()\n",
    "\n",
    "mnist = np.array(data)\n",
    "mnist_prediction= np.array(test)\n",
    "X, y= mnist[:,1:], mnist[:,0]\n",
    "print(\"X Data Shape is \", X.shape)\n",
    "print(\"y Data Shape is \", y.shape)\n",
    "print(\"The Data Shape for Prediction is \",mnist_prediction.shape)\n",
    "\n",
    "print(\"--- %s time elapsed ---\" % str(timedelta(seconds=time.time() - start_time)))"
   ]
  },
  {
   "cell_type": "code",
   "execution_count": 9,
   "id": "4c430221",
   "metadata": {},
   "outputs": [
    {
     "data": {
      "image/png": "[encoded data removed]",
      "text/plain": [
       "<Figure size 640x480 with 100 Axes>"
      ]
     },
     "metadata": {},
     "output_type": "display_data"
    },
    {
     "name": "stdout",
     "output_type": "stream",
     "text": [
      "--- 0:00:01.563025 time elapsed ---\n"
     ]
    }
   ],
   "source": [
    "#Visualize the pixels data, randomly pick some samples\n",
    "#Reshape the array data into 28x28 matrix and show the image by matplotlib package\n",
    "start_time = time.time()\n",
    "\n",
    "categories = [\"0\", \"1\", \"2\", \"3\", \"4\", \"5\", \"6\", \"7\", \"8\", \"9\"]\n",
    "num_cat = len(categories)\n",
    "samples = 10\n",
    "for element, cat in enumerate(categories):\n",
    "    idxs = np.nonzero([i == element for i in y])\n",
    "    idxs = np.random.choice(idxs[0], samples, replace=False)\n",
    "    for i , idx in enumerate(idxs):\n",
    "        plt_idx = i * num_cat + element + 1\n",
    "        plt.subplot(samples, num_cat, plt_idx)\n",
    "        plt.imshow(X[idx].reshape((28, 28)))\n",
    "        plt.axis(\"off\")\n",
    "        if i == 0:\n",
    "            plt.title(cat)\n",
    "        \n",
    "plt.show()\n",
    "\n",
    "print(\"--- %s time elapsed ---\" % str(timedelta(seconds=time.time() - start_time)))"
   ]
  },
  {
   "cell_type": "code",
   "execution_count": 10,
   "id": "40852a95",
   "metadata": {
    "scrolled": false
   },
   "outputs": [
    {
     "data": {
      "image/png": "[encoded data removed]",
      "text/plain": [
       "<Figure size 640x480 with 1 Axes>"
      ]
     },
     "metadata": {},
     "output_type": "display_data"
    },
    {
     "name": "stdout",
     "output_type": "stream",
     "text": [
      "--- 0:00:00.112070 time elapsed ---\n"
     ]
    }
   ],
   "source": [
    "# Randomly pick one in the dataset we will need to predict\n",
    "# And visualize the image\n",
    "start_time = time.time()\n",
    "\n",
    "plt.imshow(mnist_prediction[6666].reshape((28, 28)))\n",
    "plt.show()\n",
    "\n",
    "print(\"--- %s time elapsed ---\" % str(timedelta(seconds=time.time() - start_time)))"
   ]
  },
  {
   "cell_type": "markdown",
   "id": "85fc5d02",
   "metadata": {},
   "source": [
    "# 3. Model"
   ]
  },
  {
   "cell_type": "markdown",
   "id": "c98dbe38",
   "metadata": {},
   "source": [
    "## 3.0 Normalization"
   ]
  },
  {
   "cell_type": "code",
   "execution_count": 11,
   "id": "8f201e28",
   "metadata": {},
   "outputs": [],
   "source": [
    "#Model Training dataset\n",
    "norm_X = X/ 255.0"
   ]
  },
  {
   "cell_type": "markdown",
   "id": "10789072",
   "metadata": {},
   "source": [
    "## 3.1 Split Data"
   ]
  },
  {
   "cell_type": "markdown",
   "id": "dc838225",
   "metadata": {},
   "source": [
    "Spilt the data into training and testing part.\n",
    "Testing part still from mnist data but for evaluate the model"
   ]
  },
  {
   "cell_type": "code",
   "execution_count": null,
   "id": "c0d0341e",
   "metadata": {},
   "outputs": [],
   "source": [
    "start_time = time.time()\n",
    "X_train,X_test,y_train,y_test = train_test_split(X,y,test_size=0.25,random_state = 41, stratify=y)\n",
    "print(\"--- %s time elapsed ---\" % str(timedelta(seconds=time.time() - start_time)))"
   ]
  },
  {
   "cell_type": "code",
   "execution_count": 12,
   "id": "1ed4b9c8",
   "metadata": {},
   "outputs": [
    {
     "name": "stdout",
     "output_type": "stream",
     "text": [
      "--- 0:00:00.309896 time elapsed ---\n"
     ]
    }
   ],
   "source": [
    "start_time = time.time()\n",
    "\n",
    "#Using the normalized data to prepare for traning\n",
    "X_train,X_test,y_train,y_test = train_test_split(norm_X,y,test_size=0.25,random_state = 41, stratify=y)\n",
    "#X_train,X_test,y_train,y_test = train_test_split(X,y,test_size=0.25,random_state = 41, stratify=y)\n",
    "\n",
    "print(\"--- %s time elapsed ---\" % str(timedelta(seconds=time.time() - start_time)))"
   ]
  },
  {
   "cell_type": "markdown",
   "id": "1e685ef1",
   "metadata": {},
   "source": [
    "## 3.2 Finding the Best Model"
   ]
  },
  {
   "cell_type": "markdown",
   "id": "851cca26",
   "metadata": {},
   "source": [
    "### Using Plot to Find the Best K"
   ]
  },
  {
   "cell_type": "code",
   "execution_count": 13,
   "id": "c1d01809",
   "metadata": {},
   "outputs": [],
   "source": [
    "error = []\n",
    "\n",
    "# Calculating error for K values between 1 and 40\n",
    "# There are 4,2000 * 0.75 = 31,500 images in training data\n",
    "# Rule of thumb is k < sqrt(n), which n is the number of training sample\n",
    "# In here k < 178, lets find out the result of 1 to 40 first, since it takes many times to train\n",
    "for i in range(1, 40):\n",
    "    knn = KNeighborsClassifier(n_neighbors=i)\n",
    "    knn.fit(X_train, y_train)\n",
    "    pred_i = knn.predict(X_test)\n",
    "    error.append(np.mean(pred_i != y_test))"
   ]
  },
  {
   "cell_type": "code",
   "execution_count": 14,
   "id": "dc27875a",
   "metadata": {},
   "outputs": [
    {
     "data": {
      "image/png": "[encoded data removed]",
      "text/plain": [
       "<Figure size 1200x600 with 1 Axes>"
      ]
     },
     "metadata": {},
     "output_type": "display_data"
    }
   ],
   "source": [
    "plt.figure(figsize=(12, 6))\n",
    "plt.plot(range(1, 40), error, color='dimgray', linestyle='dotted', marker='.',\n",
    "         markerfacecolor='darkgrey', markersize = 8)\n",
    "plt.title('Error Rate K Value')\n",
    "plt.xlabel('K Value')\n",
    "plt.ylabel('Mean Error')\n",
    "plt.show()"
   ]
  },
  {
   "cell_type": "markdown",
   "id": "f3b557cc",
   "metadata": {},
   "source": [
    "### Model fitting with K-cross Validation and GridSearchCV"
   ]
  },
  {
   "cell_type": "code",
   "execution_count": 15,
   "id": "a187e6f9",
   "metadata": {},
   "outputs": [
    {
     "name": "stdout",
     "output_type": "stream",
     "text": [
      "Fitting 10 folds for each of 14 candidates, totalling 140 fits\n"
     ]
    }
   ],
   "source": [
    "# In previous section we know the best model may happened when n_neighbors < 10 \n",
    "# Let's use GridSearchCV() to double check\n",
    "knn = KNeighborsClassifier()\n",
    "parameters = {\"n_neighbors\": range(1, 15)}\n",
    "gridsearch = GridSearchCV(knn, parameters,cv=10,scoring='accuracy',verbose=1)\n",
    "gridsearch_result = gridsearch.fit(X_train, y_train)"
   ]
  },
  {
   "cell_type": "code",
   "execution_count": 17,
   "id": "6684b8dd",
   "metadata": {},
   "outputs": [
    {
     "name": "stdout",
     "output_type": "stream",
     "text": [
      "Best Parameters of the Model is:  {'n_neighbors': 3}\n",
      "Accuarcy : 96.59%\n"
     ]
    }
   ],
   "source": [
    "# Get the best Parameters of the Model\n",
    "accuracy = gridsearch_result.best_score_*100\n",
    "print(\"Best Parameters of the Model is: \",gridsearch_result.best_params_)\n",
    "print(\"Accuarcy : {:.2f}%\".format(accuracy))"
   ]
  },
  {
   "cell_type": "markdown",
   "id": "c3ed9869",
   "metadata": {},
   "source": [
    "### Checking Accuracy on Test Data"
   ]
  },
  {
   "cell_type": "markdown",
   "id": "f1326489",
   "metadata": {},
   "source": [
    "#### n_neighbors=3"
   ]
  },
  {
   "cell_type": "code",
   "execution_count": 26,
   "id": "cd7a4b28",
   "metadata": {
    "scrolled": true
   },
   "outputs": [
    {
     "name": "stdout",
     "output_type": "stream",
     "text": [
      "--- 0:00:00.021538 time elapsed ---\n"
     ]
    }
   ],
   "source": [
    "start_time = time.time()\n",
    "\n",
    "knn_3 = KNeighborsClassifier(n_neighbors=3,weights=\"distance\")\n",
    "knn_3.fit(X_train, y_train)\n",
    "\n",
    "print(\"--- %s time elapsed ---\" % str(timedelta(seconds=time.time() - start_time)))"
   ]
  },
  {
   "cell_type": "code",
   "execution_count": 28,
   "id": "01cb4c29",
   "metadata": {},
   "outputs": [],
   "source": [
    "y_pred = knn_3.predict(X_test)"
   ]
  },
  {
   "cell_type": "code",
   "execution_count": 42,
   "id": "d3b7c32a",
   "metadata": {},
   "outputs": [],
   "source": [
    "class_report_3 = classification_report(y_test, y_pred)\n",
    "accuracy_3 = accuracy_score(y_test,y_pred)*100\n",
    "precision_3 = precision_score(y_test,y_pred,average='micro')*100\n",
    "recall_3 = recall_score(y_test,y_pred,average='micro')*100"
   ]
  },
  {
   "cell_type": "code",
   "execution_count": 43,
   "id": "97e772c3",
   "metadata": {},
   "outputs": [
    {
     "name": "stdout",
     "output_type": "stream",
     "text": [
      "              precision    recall  f1-score   support\n",
      "\n",
      "           0       0.98      0.99      0.98      1033\n",
      "           1       0.96      0.99      0.98      1171\n",
      "           2       0.98      0.96      0.97      1044\n",
      "           3       0.97      0.97      0.97      1088\n",
      "           4       0.98      0.96      0.97      1018\n",
      "           5       0.96      0.96      0.96       949\n",
      "           6       0.98      0.98      0.98      1034\n",
      "           7       0.95      0.97      0.96      1100\n",
      "           8       0.98      0.93      0.95      1016\n",
      "           9       0.95      0.96      0.95      1047\n",
      "\n",
      "    accuracy                           0.97     10500\n",
      "   macro avg       0.97      0.97      0.97     10500\n",
      "weighted avg       0.97      0.97      0.97     10500\n",
      "\n",
      "Accuracy of testing dataset of n_neighbors=3 is : 96.79%\n",
      "Precision of testing dataset of n_neighbors=3 is : 96.79%\n",
      "Recall of testing dataset of n_neighbors=3 is : 96.79%\n"
     ]
    }
   ],
   "source": [
    "print(class_report_3)\n",
    "print(\"Accuracy of testing dataset of n_neighbors=3 is : {:.2f}%\".format(accuracy_3) )\n",
    "print(\"Precision of testing dataset of n_neighbors=3 is : {:.2f}%\".format(precision_3) )\n",
    "print(\"Recall of testing dataset of n_neighbors=3 is : {:.2f}%\".format(accuracy_3) )"
   ]
  },
  {
   "cell_type": "markdown",
   "id": "0ea1c45c",
   "metadata": {},
   "source": [
    "#### n_neighbors=4"
   ]
  },
  {
   "cell_type": "code",
   "execution_count": 25,
   "id": "c788b97a",
   "metadata": {},
   "outputs": [
    {
     "name": "stdout",
     "output_type": "stream",
     "text": [
      "--- 0:00:00.019586 time elapsed ---\n"
     ]
    }
   ],
   "source": [
    "start_time = time.time()\n",
    "\n",
    "knn_4 = KNeighborsClassifier(n_neighbors=3,weights=\"distance\")\n",
    "knn_4.fit(X_train, y_train)\n",
    "\n",
    "print(\"--- %s time elapsed ---\" % str(timedelta(seconds=time.time() - start_time)))"
   ]
  },
  {
   "cell_type": "code",
   "execution_count": 44,
   "id": "e91eb871",
   "metadata": {},
   "outputs": [],
   "source": [
    "y_pred = knn_4.predict(X_test)"
   ]
  },
  {
   "cell_type": "code",
   "execution_count": 45,
   "id": "54a9034d",
   "metadata": {},
   "outputs": [],
   "source": [
    "class_report_4 = classification_report(y_test, y_pred)\n",
    "accuracy_4 = accuracy_score(y_test,y_pred)*100\n",
    "precision_4 = precision_score(y_test,y_pred,average='micro')*100\n",
    "recall_4 = recall_score(y_test,y_pred,average='micro')*100"
   ]
  },
  {
   "cell_type": "code",
   "execution_count": 46,
   "id": "845b428d",
   "metadata": {},
   "outputs": [
    {
     "name": "stdout",
     "output_type": "stream",
     "text": [
      "              precision    recall  f1-score   support\n",
      "\n",
      "           0       0.98      0.99      0.99      1033\n",
      "           1       0.96      0.99      0.98      1171\n",
      "           2       0.98      0.96      0.97      1044\n",
      "           3       0.97      0.97      0.97      1088\n",
      "           4       0.98      0.96      0.97      1018\n",
      "           5       0.97      0.96      0.96       949\n",
      "           6       0.98      0.98      0.98      1034\n",
      "           7       0.95      0.97      0.96      1100\n",
      "           8       0.99      0.93      0.96      1016\n",
      "           9       0.94      0.96      0.95      1047\n",
      "\n",
      "    accuracy                           0.97     10500\n",
      "   macro avg       0.97      0.97      0.97     10500\n",
      "weighted avg       0.97      0.97      0.97     10500\n",
      "\n",
      "Accuracy of testing dataset of n_neighbors=3 is : 96.83%\n",
      "Precision of testing dataset of n_neighbors=3 is : 96.83%\n",
      "Recall of testing dataset of n_neighbors=3 is : 96.83%\n"
     ]
    }
   ],
   "source": [
    "print(class_report_4)\n",
    "print(\"Accuracy of testing dataset of n_neighbors=3 is : {:.2f}%\".format(accuracy_4) )\n",
    "print(\"Precision of testing dataset of n_neighbors=3 is : {:.2f}%\".format(precision_4) )\n",
    "print(\"Recall of testing dataset of n_neighbors=3 is : {:.2f}%\".format(accuracy_4) )"
   ]
  },
  {
   "cell_type": "markdown",
   "id": "4b291d8b",
   "metadata": {},
   "source": [
    "#### n_neighbors=5"
   ]
  },
  {
   "cell_type": "code",
   "execution_count": 47,
   "id": "c8ed4565",
   "metadata": {},
   "outputs": [
    {
     "name": "stdout",
     "output_type": "stream",
     "text": [
      "--- 0:00:00.023425 time elapsed ---\n"
     ]
    }
   ],
   "source": [
    "start_time = time.time()\n",
    "\n",
    "knn_5 = KNeighborsClassifier(n_neighbors=5,weights=\"distance\")\n",
    "knn_5.fit(X_train, y_train)\n",
    "\n",
    "print(\"--- %s time elapsed ---\" % str(timedelta(seconds=time.time() - start_time)))"
   ]
  },
  {
   "cell_type": "code",
   "execution_count": 48,
   "id": "df073ab7",
   "metadata": {},
   "outputs": [],
   "source": [
    "y_pred = knn_5.predict(X_test)"
   ]
  },
  {
   "cell_type": "code",
   "execution_count": 49,
   "id": "6aa1bb9a",
   "metadata": {},
   "outputs": [],
   "source": [
    "class_report_5 = classification_report(y_test, y_pred)\n",
    "accuracy_5 = accuracy_score(y_test,y_pred)*100\n",
    "precision_5 = precision_score(y_test,y_pred,average='micro')*100\n",
    "recall_5 = recall_score(y_test,y_pred,average='micro')*100"
   ]
  },
  {
   "cell_type": "code",
   "execution_count": 50,
   "id": "1ebccc9d",
   "metadata": {
    "scrolled": true
   },
   "outputs": [
    {
     "name": "stdout",
     "output_type": "stream",
     "text": [
      "              precision    recall  f1-score   support\n",
      "\n",
      "           0       0.98      0.99      0.98      1033\n",
      "           1       0.95      0.99      0.97      1171\n",
      "           2       0.99      0.95      0.97      1044\n",
      "           3       0.96      0.96      0.96      1088\n",
      "           4       0.98      0.96      0.97      1018\n",
      "           5       0.96      0.96      0.96       949\n",
      "           6       0.98      0.99      0.98      1034\n",
      "           7       0.95      0.97      0.96      1100\n",
      "           8       0.99      0.92      0.95      1016\n",
      "           9       0.94      0.97      0.95      1047\n",
      "\n",
      "    accuracy                           0.97     10500\n",
      "   macro avg       0.97      0.97      0.97     10500\n",
      "weighted avg       0.97      0.97      0.97     10500\n",
      "\n",
      "Accuracy of testing dataset of n_neighbors=3 is : 96.66%\n",
      "Precision of testing dataset of n_neighbors=3 is : 96.66%\n",
      "Recall of testing dataset of n_neighbors=3 is : 96.66%\n"
     ]
    }
   ],
   "source": [
    "print(class_report_5)\n",
    "print(\"Accuracy of testing dataset of n_neighbors=3 is : {:.2f}%\".format(accuracy_5) )\n",
    "print(\"Precision of testing dataset of n_neighbors=3 is : {:.2f}%\".format(precision_5) )\n",
    "print(\"Recall of testing dataset of n_neighbors=3 is : {:.2f}%\".format(accuracy_5) )"
   ]
  },
  {
   "cell_type": "markdown",
   "id": "22585a94",
   "metadata": {},
   "source": [
    "Consider the Result, I will chose n_neighbors=4 has the best knn model"
   ]
  },
  {
   "cell_type": "markdown",
   "id": "5b318b72",
   "metadata": {},
   "source": [
    "## 3.4 Model Saving"
   ]
  },
  {
   "cell_type": "code",
   "execution_count": 51,
   "id": "b500d0d5",
   "metadata": {},
   "outputs": [],
   "source": [
    "pickle.dump(knn_4, open(\"Best_knn_model.pkl\", \"wb\"))"
   ]
  },
  {
   "cell_type": "markdown",
   "id": "f2961424",
   "metadata": {},
   "source": [
    "## 3.5 Model Loading"
   ]
  },
  {
   "cell_type": "code",
   "execution_count": 52,
   "id": "95c655c4",
   "metadata": {},
   "outputs": [],
   "source": [
    "loaded_model = pickle.load(open(\"Best_knn_model.pkl\", 'rb'))"
   ]
  },
  {
   "cell_type": "markdown",
   "id": "7a8709c7",
   "metadata": {},
   "source": [
    "# 5. Prediction"
   ]
  },
  {
   "cell_type": "markdown",
   "id": "9734fa94",
   "metadata": {},
   "source": [
    "Normalization"
   ]
  },
  {
   "cell_type": "code",
   "execution_count": 53,
   "id": "40b9799f",
   "metadata": {},
   "outputs": [],
   "source": [
    "mnist_prediction = mnist_prediction/255.0"
   ]
  },
  {
   "cell_type": "markdown",
   "id": "b31448bd",
   "metadata": {},
   "source": [
    "Prediction"
   ]
  },
  {
   "cell_type": "code",
   "execution_count": 54,
   "id": "9c6cb7eb",
   "metadata": {},
   "outputs": [],
   "source": [
    "results = loaded_model.predict(mnist_prediction)"
   ]
  },
  {
   "cell_type": "markdown",
   "id": "e174b29b",
   "metadata": {},
   "source": [
    "# 6. Submission"
   ]
  },
  {
   "cell_type": "code",
   "execution_count": 55,
   "id": "edaf2f79",
   "metadata": {
    "scrolled": false
   },
   "outputs": [
    {
     "data": {
      "text/html": [
       "<div>\n",
       "<style scoped>\n",
       "    .dataframe tbody tr th:only-of-type {\n",
       "        vertical-align: middle;\n",
       "    }\n",
       "\n",
       "    .dataframe tbody tr th {\n",
       "        vertical-align: top;\n",
       "    }\n",
       "\n",
       "    .dataframe thead th {\n",
       "        text-align: right;\n",
       "    }\n",
       "</style>\n",
       "<table border=\"1\" class=\"dataframe\">\n",
       "  <thead>\n",
       "    <tr style=\"text-align: right;\">\n",
       "      <th></th>\n",
       "      <th>ImageId</th>\n",
       "      <th>Label</th>\n",
       "    </tr>\n",
       "  </thead>\n",
       "  <tbody>\n",
       "    <tr>\n",
       "      <th>0</th>\n",
       "      <td>1</td>\n",
       "      <td>7</td>\n",
       "    </tr>\n",
       "    <tr>\n",
       "      <th>1</th>\n",
       "      <td>2</td>\n",
       "      <td>2</td>\n",
       "    </tr>\n",
       "    <tr>\n",
       "      <th>2</th>\n",
       "      <td>3</td>\n",
       "      <td>1</td>\n",
       "    </tr>\n",
       "    <tr>\n",
       "      <th>3</th>\n",
       "      <td>4</td>\n",
       "      <td>0</td>\n",
       "    </tr>\n",
       "    <tr>\n",
       "      <th>4</th>\n",
       "      <td>5</td>\n",
       "      <td>4</td>\n",
       "    </tr>\n",
       "  </tbody>\n",
       "</table>\n",
       "</div>"
      ],
      "text/plain": [
       "   ImageId  Label\n",
       "0        1      7\n",
       "1        2      2\n",
       "2        3      1\n",
       "3        4      0\n",
       "4        5      4"
      ]
     },
     "execution_count": 55,
     "metadata": {},
     "output_type": "execute_result"
    }
   ],
   "source": [
    "sub = pd.DataFrame({'ImageId':np.arange(10000),'Label':results.squeeze().astype(np.int)})\n",
    "sub[\"ImageId\"]=sub[\"ImageId\"]+1\n",
    "sub.head()"
   ]
  },
  {
   "cell_type": "code",
   "execution_count": 65,
   "id": "d07f50c7",
   "metadata": {},
   "outputs": [
    {
     "name": "stdout",
     "output_type": "stream",
     "text": [
      "ImageId    778\n",
      "Label        1\n",
      "Name: 777, dtype: int64\n"
     ]
    }
   ],
   "source": [
    "print(sub.iloc[777])"
   ]
  },
  {
   "cell_type": "code",
   "execution_count": 66,
   "id": "e7781091",
   "metadata": {},
   "outputs": [
    {
     "data": {
      "image/png": "[encoded data removed]",
      "text/plain": [
       "<Figure size 640x480 with 1 Axes>"
      ]
     },
     "metadata": {},
     "output_type": "display_data"
    }
   ],
   "source": [
    "plt.imshow(mnist_prediction[777].reshape((28, 28)))\n",
    "plt.show()"
   ]
  },
  {
   "cell_type": "code",
   "execution_count": 68,
   "id": "ff26db2b",
   "metadata": {},
   "outputs": [],
   "source": [
    "sub.to_csv('hw01_submission.csv', index=False)"
   ]
  },
  {
   "cell_type": "code",
   "execution_count": null,
   "id": "c85b294d",
   "metadata": {},
   "outputs": [],
   "source": []
  }
 ],
 "metadata": {
  "kernelspec": {
   "display_name": "Python 3",
   "language": "python",
   "name": "python3"
  },
  "language_info": {
   "codemirror_mode": {
    "name": "ipython",
    "version": 3
   },
   "file_extension": ".py",
   "mimetype": "text/x-python",
   "name": "python",
   "nbconvert_exporter": "python",
   "pygments_lexer": "ipython3",
   "version": "3.7.0"
  }
 },
 "nbformat": 4,
 "nbformat_minor": 5
}
