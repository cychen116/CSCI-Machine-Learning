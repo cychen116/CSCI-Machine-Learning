{
 "cells": [
  {
   "cell_type": "markdown",
   "id": "bac7fa44",
   "metadata": {},
   "source": [
    "# Machine Learning Homework 02"
   ]
  },
  {
   "cell_type": "code",
   "execution_count": 1,
   "id": "17ffe088",
   "metadata": {},
   "outputs": [],
   "source": [
    "#Basic\n",
    "import pandas as pd\n",
    "import numpy as np \n",
    "import random   \n",
    "import os\n",
    "import time\n",
    "from datetime import timedelta\n",
    "import pickle"
   ]
  },
  {
   "cell_type": "code",
   "execution_count": 2,
   "id": "871fc030",
   "metadata": {},
   "outputs": [],
   "source": [
    "#ML\n",
    "from sklearn import datasets, linear_model\n",
    "from sklearn.linear_model import LinearRegression, LogisticRegression\n",
    "from sklearn.model_selection import train_test_split,GridSearchCV\n",
    "from sklearn.model_selection import KFold\n",
    "from sklearn import metrics\n",
    "from sklearn.metrics import mean_squared_error, mean_absolute_error, r2_score, accuracy_score, classification_report, precision_score, recall_score\n",
    "from math import sqrt\n",
    "from scipy import stats as st\n",
    "import statsmodels.api as sm"
   ]
  },
  {
   "cell_type": "code",
   "execution_count": 3,
   "id": "03b002ba",
   "metadata": {},
   "outputs": [],
   "source": [
    "#Visualization               \n",
    "import matplotlib.pyplot as plt\n",
    "import seaborn as sns"
   ]
  },
  {
   "cell_type": "code",
   "execution_count": 4,
   "id": "cdc03c5d",
   "metadata": {},
   "outputs": [],
   "source": [
    "import warnings\n",
    "warnings.filterwarnings('ignore')"
   ]
  },
  {
   "cell_type": "markdown",
   "id": "fdf3ed61",
   "metadata": {},
   "source": [
    "# Problem 1"
   ]
  },
  {
   "cell_type": "markdown",
   "id": "f4b5bfca",
   "metadata": {},
   "source": [
    "\n",
    "\n",
    "**1. Example of regression with one variable. Consider the following simple data set of four points:**\n",
    "\n",
    "(x, y): (1, 1), (1, 3), (4, 4), (4, 6)."
   ]
  },
  {
   "cell_type": "markdown",
   "id": "5038e556",
   "metadata": {},
   "source": [
    "**(a) Suppose you had to predict y without knowledge of x. What value would you predict? What would be its mean squared error (MSE) on these four points?**\n",
    "\n",
    "According to the MSE formula without knowledge of x, we know that :\n",
    "\n",
    "$\\hat{Y} = \\frac{1}{n}\\sum \\limits _{i=1} ^{n} Y_{i} $\n",
    "\n",
    "$ MSE = \\frac{1}{n}\\sum \\limits _{i=1} ^{n} (Y_{i}-\\hat{Y})^2$\n",
    "\n",
    "Let's caculate the MSE by the formula."
   ]
  },
  {
   "cell_type": "code",
   "execution_count": 5,
   "id": "0d0467dc",
   "metadata": {},
   "outputs": [],
   "source": [
    "x = np.array([1.0,1.0,4.0,4.0])\n",
    "y = np.array([1.0,3.0,4.0,6.0])"
   ]
  },
  {
   "cell_type": "code",
   "execution_count": 6,
   "id": "426e0b85",
   "metadata": {
    "scrolled": true
   },
   "outputs": [
    {
     "data": {
      "text/plain": [
       "3.25"
      ]
     },
     "execution_count": 6,
     "metadata": {},
     "output_type": "execute_result"
    }
   ],
   "source": [
    "y_mean = sum(y)/len(y)\n",
    "\n",
    "MSE_y = sum((y - y_mean) ** 2)/len(y)\n",
    "MSE_y"
   ]
  },
  {
   "cell_type": "markdown",
   "id": "a1ff9603",
   "metadata": {},
   "source": [
    "We can get the result of MSE = 3.25"
   ]
  },
  {
   "cell_type": "markdown",
   "id": "e4800fdf",
   "metadata": {},
   "source": [
    "**(b) Now let’s say you want to predict y based on x. What is the MSE of the linear function y = ax on these four points?**\n",
    "\n",
    "Suppose that we predict y based on x, our linear function is $\\hat{Y} =  \\hat{\\beta}_{1}X$\n",
    "\n",
    "$ MSE = \\frac{1}{n}\\sum \\limits _{i=1} ^{n} (Y_{i}-\\hat{Y})^2$\n",
    "\n",
    "Then we can caculate the MSE by MSE = f(a).\n",
    "\n",
    "$ MSE = \\frac{1}{n}\\sum \\limits _{i=1} ^{n} (Y_{i}-\\hat{Y})^2 \n",
    "      = \\frac{1}{4}((1-1a)^2+(3-1a)^2+(4-4a)^2+(6-4a)^2)\n",
    "      = \\frac{1}{4}(34a^2-88a+62)\n",
    "      = \\frac{17}{2}a^2 -22a + \\frac{31}{2}$\n",
    "      \n",
    "In order to obtain the local minimum, we need to obtain the derivative funtion of MSE, which is f'(a)\n",
    "\n",
    "$ f'(a) = 17a -22 = 0$\n",
    "\n",
    "$ a = \\frac{22}{17}$\n",
    "\n",
    "When a is $\\frac{22}{17}$, we will have the minimum MSE."
   ]
  },
  {
   "cell_type": "markdown",
   "id": "64065cf2",
   "metadata": {},
   "source": [
    "**(c) Find the line y = ax + b that minimizes the MSE on these points. What is its MSE?**\n",
    "\n",
    "When the linear regression function is $\\hat{Y} = \\hat{\\beta}_{0} + \\hat{\\beta}_{1}X$ ,\n",
    "\n",
    "we know that ${\\beta}_{1} = \\frac{\\sum (X_{i}-\\hat{X})(Y_{i}-\\hat{Y})}{\\sum (X_{i}-\\hat{X})^2}$"
   ]
  },
  {
   "cell_type": "code",
   "execution_count": 7,
   "id": "1f3b8bd8",
   "metadata": {},
   "outputs": [
    {
     "name": "stdout",
     "output_type": "stream",
     "text": [
      "2.5 3.5\n"
     ]
    }
   ],
   "source": [
    "x_mean = sum(x)/len(x)\n",
    "y_mean = sum(y)/len(y)\n",
    "print(x_mean, y_mean)"
   ]
  },
  {
   "cell_type": "markdown",
   "id": "00dc3a6b",
   "metadata": {},
   "source": [
    "Let's use the table to see the process of caculation\n",
    "\n",
    "| X | Y | X–X_mean |Y–Y_mean| (X–X_mean)^2|(X–X_mean)(Y–Y_mean)|\n",
    "| --- | --- | ---   | --- | --- | --- | \n",
    "|  1  |  1  | -1.5| -2.5 | 2.25 | 3.75|\n",
    "|  1  |  3  | -1.5| -0.5 | 2.25 | 0.75 |\n",
    "|  4  |  4  | 1.5 | 0.5 | 2.25 | 0.75 |\n",
    "|  4  |  6  | 1.5 | 2.5 | 2.25 | 3.75 |"
   ]
  },
  {
   "cell_type": "markdown",
   "id": "86aa8066",
   "metadata": {},
   "source": [
    "Let's find out the value of $\\hat{\\beta}_{1}$"
   ]
  },
  {
   "cell_type": "code",
   "execution_count": 8,
   "id": "9b93fd39",
   "metadata": {
    "scrolled": true
   },
   "outputs": [
    {
     "data": {
      "text/plain": [
       "1.0"
      ]
     },
     "execution_count": 8,
     "metadata": {},
     "output_type": "execute_result"
    }
   ],
   "source": [
    "b1 = sum((x - x_mean)*(y - y_mean)) / sum((x - x_mean)**2)\n",
    "b1"
   ]
  },
  {
   "cell_type": "markdown",
   "id": "2a2e666b",
   "metadata": {},
   "source": [
    "Let's find out the value of  $\\hat{\\beta}_{0}$ by mean point of (x,y)\n",
    "\n",
    "$\\hat{Y} = \\hat{\\beta}_{0} + \\hat{\\beta}_{1}X$ "
   ]
  },
  {
   "cell_type": "code",
   "execution_count": 16,
   "id": "11c7cbcf",
   "metadata": {},
   "outputs": [
    {
     "data": {
      "text/plain": [
       "1.0"
      ]
     },
     "execution_count": 16,
     "metadata": {},
     "output_type": "execute_result"
    }
   ],
   "source": [
    "y1 = y_mean\n",
    "x1 = x_mean\n",
    "b0 = y1 - b1*x1 \n",
    "b0"
   ]
  },
  {
   "cell_type": "markdown",
   "id": "15b72a5b",
   "metadata": {},
   "source": [
    "Therefore, we can obtain the function of the data is  \n",
    "\n",
    "$\\hat{Y} = 1 + X$ "
   ]
  },
  {
   "cell_type": "markdown",
   "id": "a9183ae8",
   "metadata": {},
   "source": [
    "Then, we caculate the MSE by formula.\n",
    "\n",
    "$ MSE = \\frac{1}{n}\\sum \\limits _{i=1} ^{n} (Y_{i}-\\hat{Y})^2\n",
    "      =\\frac{1}{4}((-1)^2+1^2+(-1)^2+1^2)\n",
    "      = 1$\n",
    "\n",
    "We can get the result of MSE = 1"
   ]
  },
  {
   "cell_type": "markdown",
   "id": "d3acf440",
   "metadata": {},
   "source": [
    "# Problem 2\n",
    "## Linear Regression\n",
    "\n",
    "In this problem, you will analyze potential relationships between baseball player salaries and the players’ statistics. \n",
    "\n",
    "You have several features: batting average, on base, runs, hits, doubles, triples, home runs, RBI, walks, strike outs, and stolen bases. \n",
    "\n",
    "Your goal will be to see if any one of these listed features makes for a good linear relationship. Report your linear models for each feature, the overall error in the model, and the feature (if any) that you would advice is the best single indicator for salary."
   ]
  },
  {
   "cell_type": "markdown",
   "id": "102d0ffe",
   "metadata": {},
   "source": [
    "### Data Loading"
   ]
  },
  {
   "cell_type": "code",
   "execution_count": 1,
   "id": "01b48289",
   "metadata": {
    "scrolled": true
   },
   "outputs": [
    {
     "name": "stdout",
     "output_type": "stream",
     "text": [
      "baseball-9192.csv\r\n"
     ]
    }
   ],
   "source": [
    "data_dir = '/Users/chiyunchen/pythonProject/ML_hw2/data'\n",
    "!ls '/Users/chiyunchen/pythonProject/ML_hw2/data'"
   ]
  },
  {
   "cell_type": "code",
   "execution_count": 5,
   "id": "84de552a",
   "metadata": {},
   "outputs": [],
   "source": [
    "baseball = pd.read_csv(data_dir + '/baseball-9192.csv')\n",
    "baseball.drop(columns = ['Unnamed: 0'],inplace =True)"
   ]
  },
  {
   "cell_type": "code",
   "execution_count": 6,
   "id": "23f4e07b",
   "metadata": {
    "scrolled": true
   },
   "outputs": [
    {
     "data": {
      "text/html": [
       "<div>\n",
       "<style scoped>\n",
       "    .dataframe tbody tr th:only-of-type {\n",
       "        vertical-align: middle;\n",
       "    }\n",
       "\n",
       "    .dataframe tbody tr th {\n",
       "        vertical-align: top;\n",
       "    }\n",
       "\n",
       "    .dataframe thead th {\n",
       "        text-align: right;\n",
       "    }\n",
       "</style>\n",
       "<table border=\"1\" class=\"dataframe\">\n",
       "  <thead>\n",
       "    <tr style=\"text-align: right;\">\n",
       "      <th></th>\n",
       "      <th>Salary</th>\n",
       "      <th>BattingAvg</th>\n",
       "      <th>OnBasePct</th>\n",
       "      <th>Runs</th>\n",
       "      <th>Hits</th>\n",
       "      <th>Doubles</th>\n",
       "      <th>Triples</th>\n",
       "      <th>HomeRuns</th>\n",
       "      <th>RBI</th>\n",
       "      <th>Walks</th>\n",
       "      <th>Strikeouts</th>\n",
       "      <th>StolenBases</th>\n",
       "      <th>Errors</th>\n",
       "      <th>FreeAgencyElig</th>\n",
       "      <th>FreeAgent9192</th>\n",
       "      <th>ArbitrationElig</th>\n",
       "      <th>Arbitration9192</th>\n",
       "      <th>Name</th>\n",
       "    </tr>\n",
       "  </thead>\n",
       "  <tbody>\n",
       "    <tr>\n",
       "      <th>0</th>\n",
       "      <td>3300</td>\n",
       "      <td>0.272</td>\n",
       "      <td>0.302</td>\n",
       "      <td>69</td>\n",
       "      <td>153</td>\n",
       "      <td>21</td>\n",
       "      <td>4</td>\n",
       "      <td>31</td>\n",
       "      <td>104</td>\n",
       "      <td>22</td>\n",
       "      <td>80</td>\n",
       "      <td>4</td>\n",
       "      <td>3</td>\n",
       "      <td>1</td>\n",
       "      <td>0</td>\n",
       "      <td>0</td>\n",
       "      <td>0</td>\n",
       "      <td>Andre Dawson</td>\n",
       "    </tr>\n",
       "    <tr>\n",
       "      <th>1</th>\n",
       "      <td>2600</td>\n",
       "      <td>0.269</td>\n",
       "      <td>0.335</td>\n",
       "      <td>58</td>\n",
       "      <td>111</td>\n",
       "      <td>17</td>\n",
       "      <td>2</td>\n",
       "      <td>18</td>\n",
       "      <td>66</td>\n",
       "      <td>39</td>\n",
       "      <td>69</td>\n",
       "      <td>0</td>\n",
       "      <td>3</td>\n",
       "      <td>1</td>\n",
       "      <td>1</td>\n",
       "      <td>0</td>\n",
       "      <td>0</td>\n",
       "      <td>Steve Buchele</td>\n",
       "    </tr>\n",
       "    <tr>\n",
       "      <th>2</th>\n",
       "      <td>2500</td>\n",
       "      <td>0.249</td>\n",
       "      <td>0.337</td>\n",
       "      <td>54</td>\n",
       "      <td>115</td>\n",
       "      <td>15</td>\n",
       "      <td>1</td>\n",
       "      <td>17</td>\n",
       "      <td>73</td>\n",
       "      <td>63</td>\n",
       "      <td>116</td>\n",
       "      <td>6</td>\n",
       "      <td>5</td>\n",
       "      <td>1</td>\n",
       "      <td>0</td>\n",
       "      <td>0</td>\n",
       "      <td>0</td>\n",
       "      <td>Kal Daniels</td>\n",
       "    </tr>\n",
       "    <tr>\n",
       "      <th>3</th>\n",
       "      <td>2475</td>\n",
       "      <td>0.260</td>\n",
       "      <td>0.292</td>\n",
       "      <td>59</td>\n",
       "      <td>128</td>\n",
       "      <td>22</td>\n",
       "      <td>7</td>\n",
       "      <td>12</td>\n",
       "      <td>50</td>\n",
       "      <td>23</td>\n",
       "      <td>64</td>\n",
       "      <td>21</td>\n",
       "      <td>21</td>\n",
       "      <td>0</td>\n",
       "      <td>0</td>\n",
       "      <td>1</td>\n",
       "      <td>0</td>\n",
       "      <td>Shawon Dunston</td>\n",
       "    </tr>\n",
       "    <tr>\n",
       "      <th>4</th>\n",
       "      <td>2313</td>\n",
       "      <td>0.273</td>\n",
       "      <td>0.346</td>\n",
       "      <td>87</td>\n",
       "      <td>169</td>\n",
       "      <td>28</td>\n",
       "      <td>5</td>\n",
       "      <td>8</td>\n",
       "      <td>58</td>\n",
       "      <td>70</td>\n",
       "      <td>53</td>\n",
       "      <td>3</td>\n",
       "      <td>8</td>\n",
       "      <td>0</td>\n",
       "      <td>0</td>\n",
       "      <td>1</td>\n",
       "      <td>0</td>\n",
       "      <td>Mark Grace</td>\n",
       "    </tr>\n",
       "  </tbody>\n",
       "</table>\n",
       "</div>"
      ],
      "text/plain": [
       "   Salary  BattingAvg  OnBasePct  Runs  Hits  Doubles  Triples  HomeRuns  RBI  \\\n",
       "0    3300       0.272      0.302    69   153       21        4        31  104   \n",
       "1    2600       0.269      0.335    58   111       17        2        18   66   \n",
       "2    2500       0.249      0.337    54   115       15        1        17   73   \n",
       "3    2475       0.260      0.292    59   128       22        7        12   50   \n",
       "4    2313       0.273      0.346    87   169       28        5         8   58   \n",
       "\n",
       "   Walks  Strikeouts  StolenBases  Errors  FreeAgencyElig  FreeAgent9192  \\\n",
       "0     22          80            4       3               1              0   \n",
       "1     39          69            0       3               1              1   \n",
       "2     63         116            6       5               1              0   \n",
       "3     23          64           21      21               0              0   \n",
       "4     70          53            3       8               0              0   \n",
       "\n",
       "   ArbitrationElig  Arbitration9192            Name  \n",
       "0                0                0    Andre Dawson  \n",
       "1                0                0   Steve Buchele  \n",
       "2                0                0     Kal Daniels  \n",
       "3                1                0  Shawon Dunston  \n",
       "4                1                0      Mark Grace  "
      ]
     },
     "execution_count": 6,
     "metadata": {},
     "output_type": "execute_result"
    }
   ],
   "source": [
    "baseball.head()"
   ]
  },
  {
   "cell_type": "markdown",
   "id": "75abb420",
   "metadata": {},
   "source": [
    "### Data Wrangling"
   ]
  },
  {
   "cell_type": "code",
   "execution_count": 7,
   "id": "7da56973",
   "metadata": {},
   "outputs": [],
   "source": [
    "df = baseball.drop(columns = ['Name'])"
   ]
  },
  {
   "cell_type": "code",
   "execution_count": 8,
   "id": "c012f0d7",
   "metadata": {},
   "outputs": [
    {
     "data": {
      "text/plain": [
       "0"
      ]
     },
     "execution_count": 8,
     "metadata": {},
     "output_type": "execute_result"
    }
   ],
   "source": [
    "df.isnull().sum().sum()"
   ]
  },
  {
   "cell_type": "code",
   "execution_count": 11,
   "id": "5eb60a99",
   "metadata": {
    "scrolled": false
   },
   "outputs": [
    {
     "data": {
      "text/plain": [
       "Text(0.5, 1.0, 'Correlation of All Features')"
      ]
     },
     "execution_count": 11,
     "metadata": {},
     "output_type": "execute_result"
    },
    {
     "data": {
      "image/png": "[encoded data removed]",
      "text/plain": [
       "<Figure size 1296x432 with 2 Axes>"
      ]
     },
     "metadata": {
      "needs_background": "light"
     },
     "output_type": "display_data"
    }
   ],
   "source": [
    "plt.figure(figsize=(18,6))\n",
    "corr = df.corr()\n",
    "sns.heatmap(corr, vmin=0.5, vmax=0, annot= True)\n",
    "plt.title('Correlation of All Features')"
   ]
  },
  {
   "cell_type": "code",
   "execution_count": 25,
   "id": "82e525b7",
   "metadata": {
    "scrolled": false
   },
   "outputs": [
    {
     "name": "stdout",
     "output_type": "stream",
     "text": [
      "['Salary', 'BattingAvg', 'OnBasePct', 'Runs', 'Hits', 'Doubles', 'Triples', 'HomeRuns', 'RBI', 'Walks', 'Strikeouts', 'StolenBases', 'Errors', 'FreeAgencyElig', 'FreeAgent9192', 'ArbitrationElig', 'Arbitration9192']\n"
     ]
    }
   ],
   "source": [
    "cols = df.columns.to_list()\n",
    "print(cols)"
   ]
  },
  {
   "cell_type": "code",
   "execution_count": 14,
   "id": "7aa4dd43",
   "metadata": {},
   "outputs": [],
   "source": [
    "features = ['BattingAvg', 'OnBasePct', 'Runs', 'Hits', 'Doubles', 'Triples',\n",
    "       'HomeRuns', 'RBI', 'Walks', 'Strikeouts', 'StolenBases', 'Errors',\n",
    "       'FreeAgencyElig', 'FreeAgent9192', 'ArbitrationElig','Arbitration9192']"
   ]
  },
  {
   "cell_type": "markdown",
   "id": "2fda59d4",
   "metadata": {},
   "source": [
    "## Model Training and Evaluation"
   ]
  },
  {
   "cell_type": "code",
   "execution_count": 15,
   "id": "5c369179",
   "metadata": {},
   "outputs": [],
   "source": [
    "def caculate_plot_LR_model(df, feature, test_size=0.25,random_state = 41):\n",
    "    \n",
    "    ## Data Loading\n",
    "    X = df[[feature]]\n",
    "    y = df.Salary\n",
    "    ## Data Spliting\n",
    "    X_train,X_test,y_train,y_test = train_test_split(X,y,test_size=0.25,random_state = 41)\n",
    "    ## Model Training\n",
    "    lm = linear_model.LinearRegression()\n",
    "    lm.fit(X_train,y_train) \n",
    "    ## Prediction\n",
    "    y_pred = lm.predict(X_test) \n",
    "    ##Metrics\n",
    "    ttest = lm.coef_/st.sem(X_train)\n",
    "    score = lm.score(X_train, y_train)\n",
    "    r2 = r2_score(y_test,y_pred)\n",
    "    MAE = mean_absolute_error(y_test, y_pred)\n",
    "    MSE = mean_squared_error(y_test, y_pred)\n",
    "    RMSE = np.sqrt(metrics.mean_squared_error(y_test, y_pred))\n",
    "    \n",
    "    result = [ttest, lm.coef_, MAE, MSE, RMSE, score, r2]\n",
    "    return result "
   ]
  },
  {
   "cell_type": "code",
   "execution_count": 16,
   "id": "dbfc856b",
   "metadata": {
    "scrolled": false
   },
   "outputs": [],
   "source": [
    "result_list = []\n",
    "for feature in features:\n",
    "    data = caculate_plot_LR_model(df, feature)\n",
    "    result_list.append(data)   "
   ]
  },
  {
   "cell_type": "code",
   "execution_count": 17,
   "id": "76b3d251",
   "metadata": {},
   "outputs": [],
   "source": [
    "metrics = ['T-test','Coefficients','MAE', 'MSE', 'RMSE', 'score', 'r2']"
   ]
  },
  {
   "cell_type": "markdown",
   "id": "49e45a42",
   "metadata": {},
   "source": [
    "## Results"
   ]
  },
  {
   "cell_type": "code",
   "execution_count": 21,
   "id": "a0f4cb2b",
   "metadata": {
    "scrolled": false
   },
   "outputs": [
    {
     "data": {
      "text/html": [
       "<div>\n",
       "<style scoped>\n",
       "    .dataframe tbody tr th:only-of-type {\n",
       "        vertical-align: middle;\n",
       "    }\n",
       "\n",
       "    .dataframe tbody tr th {\n",
       "        vertical-align: top;\n",
       "    }\n",
       "\n",
       "    .dataframe thead th {\n",
       "        text-align: right;\n",
       "    }\n",
       "</style>\n",
       "<table border=\"1\" class=\"dataframe\">\n",
       "  <thead>\n",
       "    <tr style=\"text-align: right;\">\n",
       "      <th></th>\n",
       "      <th>Runs</th>\n",
       "      <th>RBI</th>\n",
       "      <th>Walks</th>\n",
       "      <th>FreeAgencyElig</th>\n",
       "      <th>Hits</th>\n",
       "      <th>HomeRuns</th>\n",
       "      <th>Doubles</th>\n",
       "      <th>Strikeouts</th>\n",
       "      <th>OnBasePct</th>\n",
       "      <th>StolenBases</th>\n",
       "      <th>Triples</th>\n",
       "      <th>BattingAvg</th>\n",
       "      <th>FreeAgent9192</th>\n",
       "      <th>Errors</th>\n",
       "      <th>Arbitration9192</th>\n",
       "      <th>ArbitrationElig</th>\n",
       "    </tr>\n",
       "  </thead>\n",
       "  <tbody>\n",
       "    <tr>\n",
       "      <th>T-test</th>\n",
       "      <td>[14.062652982530922]</td>\n",
       "      <td>[14.028867733001517]</td>\n",
       "      <td>[17.704675703250675]</td>\n",
       "      <td>[40803.13718629444]</td>\n",
       "      <td>[4.274803415040396]</td>\n",
       "      <td>[123.61348965305218]</td>\n",
       "      <td>[94.03681525018324]</td>\n",
       "      <td>[6.426422031977003]</td>\n",
       "      <td>[3014600.5850220583]</td>\n",
       "      <td>[25.764046558205095]</td>\n",
       "      <td>[658.9432846663101]</td>\n",
       "      <td>[3510402.6740431557]</td>\n",
       "      <td>[23957.768831391193]</td>\n",
       "      <td>[77.65629606052258]</td>\n",
       "      <td>[68993.76857969235]</td>\n",
       "      <td>[20695.644910440675]</td>\n",
       "    </tr>\n",
       "    <tr>\n",
       "      <th>Coefficients</th>\n",
       "      <td>[25.241290236044403]</td>\n",
       "      <td>[26.163618099255256]</td>\n",
       "      <td>[26.19512358827454]</td>\n",
       "      <td>[1255.5371057513905]</td>\n",
       "      <td>[13.927545842861278]</td>\n",
       "      <td>[71.99893739861275]</td>\n",
       "      <td>[63.32405853260086]</td>\n",
       "      <td>[13.237380678795637]</td>\n",
       "      <td>[8404.630047696985]</td>\n",
       "      <td>[17.459300701287827]</td>\n",
       "      <td>[103.73784397457541]</td>\n",
       "      <td>[8622.870218590613]</td>\n",
       "      <td>[489.71801801801803]</td>\n",
       "      <td>[28.864818645979597]</td>\n",
       "      <td>[850.1198347107442]</td>\n",
       "      <td>[524.8372841673986]</td>\n",
       "    </tr>\n",
       "    <tr>\n",
       "      <th>MAE</th>\n",
       "      <td>693.860376</td>\n",
       "      <td>706.116011</td>\n",
       "      <td>739.220125</td>\n",
       "      <td>757.609582</td>\n",
       "      <td>741.457832</td>\n",
       "      <td>783.300726</td>\n",
       "      <td>790.405974</td>\n",
       "      <td>907.208163</td>\n",
       "      <td>1019.930586</td>\n",
       "      <td>1039.813115</td>\n",
       "      <td>1047.276575</td>\n",
       "      <td>1071.262002</td>\n",
       "      <td>1094.491966</td>\n",
       "      <td>1112.676241</td>\n",
       "      <td>1104.252261</td>\n",
       "      <td>1129.466687</td>\n",
       "    </tr>\n",
       "    <tr>\n",
       "      <th>MSE</th>\n",
       "      <td>882991.123462</td>\n",
       "      <td>926373.105066</td>\n",
       "      <td>1024254.793939</td>\n",
       "      <td>1050535.041598</td>\n",
       "      <td>1050574.335147</td>\n",
       "      <td>1059705.320418</td>\n",
       "      <td>1208799.422229</td>\n",
       "      <td>1416969.510121</td>\n",
       "      <td>1610355.277247</td>\n",
       "      <td>1611117.813958</td>\n",
       "      <td>1717564.959568</td>\n",
       "      <td>1720818.146909</td>\n",
       "      <td>1843317.655797</td>\n",
       "      <td>1850777.690902</td>\n",
       "      <td>1866955.290199</td>\n",
       "      <td>1900512.011459</td>\n",
       "    </tr>\n",
       "    <tr>\n",
       "      <th>RMSE</th>\n",
       "      <td>939.676074</td>\n",
       "      <td>962.482782</td>\n",
       "      <td>1012.054739</td>\n",
       "      <td>1024.956117</td>\n",
       "      <td>1024.975285</td>\n",
       "      <td>1029.419895</td>\n",
       "      <td>1099.454147</td>\n",
       "      <td>1190.365284</td>\n",
       "      <td>1268.997745</td>\n",
       "      <td>1269.298158</td>\n",
       "      <td>1310.559026</td>\n",
       "      <td>1311.799583</td>\n",
       "      <td>1357.68835</td>\n",
       "      <td>1360.432906</td>\n",
       "      <td>1366.365723</td>\n",
       "      <td>1378.590589</td>\n",
       "    </tr>\n",
       "    <tr>\n",
       "      <th>score</th>\n",
       "      <td>0.360679</td>\n",
       "      <td>0.418365</td>\n",
       "      <td>0.263946</td>\n",
       "      <td>0.262265</td>\n",
       "      <td>0.361806</td>\n",
       "      <td>0.309017</td>\n",
       "      <td>0.319513</td>\n",
       "      <td>0.130641</td>\n",
       "      <td>0.096477</td>\n",
       "      <td>0.024597</td>\n",
       "      <td>0.046866</td>\n",
       "      <td>0.078832</td>\n",
       "      <td>0.017608</td>\n",
       "      <td>0.020227</td>\n",
       "      <td>0.01928</td>\n",
       "      <td>0.031128</td>\n",
       "    </tr>\n",
       "    <tr>\n",
       "      <th>r2</th>\n",
       "      <td>0.513537</td>\n",
       "      <td>0.489637</td>\n",
       "      <td>0.435711</td>\n",
       "      <td>0.421233</td>\n",
       "      <td>0.421211</td>\n",
       "      <td>0.416181</td>\n",
       "      <td>0.334041</td>\n",
       "      <td>0.219355</td>\n",
       "      <td>0.112813</td>\n",
       "      <td>0.112393</td>\n",
       "      <td>0.053749</td>\n",
       "      <td>0.051957</td>\n",
       "      <td>-0.015532</td>\n",
       "      <td>-0.019642</td>\n",
       "      <td>-0.028554</td>\n",
       "      <td>-0.047042</td>\n",
       "    </tr>\n",
       "  </tbody>\n",
       "</table>\n",
       "</div>"
      ],
      "text/plain": [
       "                              Runs                   RBI  \\\n",
       "T-test        [14.062652982530922]  [14.028867733001517]   \n",
       "Coefficients  [25.241290236044403]  [26.163618099255256]   \n",
       "MAE                     693.860376            706.116011   \n",
       "MSE                  882991.123462         926373.105066   \n",
       "RMSE                    939.676074            962.482782   \n",
       "score                     0.360679              0.418365   \n",
       "r2                        0.513537              0.489637   \n",
       "\n",
       "                             Walks        FreeAgencyElig  \\\n",
       "T-test        [17.704675703250675]   [40803.13718629444]   \n",
       "Coefficients   [26.19512358827454]  [1255.5371057513905]   \n",
       "MAE                     739.220125            757.609582   \n",
       "MSE                 1024254.793939        1050535.041598   \n",
       "RMSE                   1012.054739           1024.956117   \n",
       "score                     0.263946              0.262265   \n",
       "r2                        0.435711              0.421233   \n",
       "\n",
       "                              Hits              HomeRuns              Doubles  \\\n",
       "T-test         [4.274803415040396]  [123.61348965305218]  [94.03681525018324]   \n",
       "Coefficients  [13.927545842861278]   [71.99893739861275]  [63.32405853260086]   \n",
       "MAE                     741.457832            783.300726           790.405974   \n",
       "MSE                 1050574.335147        1059705.320418       1208799.422229   \n",
       "RMSE                   1024.975285           1029.419895          1099.454147   \n",
       "score                     0.361806              0.309017             0.319513   \n",
       "r2                        0.421211              0.416181             0.334041   \n",
       "\n",
       "                        Strikeouts             OnBasePct  \\\n",
       "T-test         [6.426422031977003]  [3014600.5850220583]   \n",
       "Coefficients  [13.237380678795637]   [8404.630047696985]   \n",
       "MAE                     907.208163           1019.930586   \n",
       "MSE                 1416969.510121        1610355.277247   \n",
       "RMSE                   1190.365284           1268.997745   \n",
       "score                     0.130641              0.096477   \n",
       "r2                        0.219355              0.112813   \n",
       "\n",
       "                       StolenBases               Triples  \\\n",
       "T-test        [25.764046558205095]   [658.9432846663101]   \n",
       "Coefficients  [17.459300701287827]  [103.73784397457541]   \n",
       "MAE                    1039.813115           1047.276575   \n",
       "MSE                 1611117.813958        1717564.959568   \n",
       "RMSE                   1269.298158           1310.559026   \n",
       "score                     0.024597              0.046866   \n",
       "r2                        0.112393              0.053749   \n",
       "\n",
       "                        BattingAvg         FreeAgent9192  \\\n",
       "T-test        [3510402.6740431557]  [23957.768831391193]   \n",
       "Coefficients   [8622.870218590613]  [489.71801801801803]   \n",
       "MAE                    1071.262002           1094.491966   \n",
       "MSE                 1720818.146909        1843317.655797   \n",
       "RMSE                   1311.799583            1357.68835   \n",
       "score                     0.078832              0.017608   \n",
       "r2                        0.051957             -0.015532   \n",
       "\n",
       "                            Errors      Arbitration9192       ArbitrationElig  \n",
       "T-test         [77.65629606052258]  [68993.76857969235]  [20695.644910440675]  \n",
       "Coefficients  [28.864818645979597]  [850.1198347107442]   [524.8372841673986]  \n",
       "MAE                    1112.676241          1104.252261           1129.466687  \n",
       "MSE                 1850777.690902       1866955.290199        1900512.011459  \n",
       "RMSE                   1360.432906          1366.365723           1378.590589  \n",
       "score                     0.020227              0.01928              0.031128  \n",
       "r2                       -0.019642            -0.028554             -0.047042  "
      ]
     },
     "execution_count": 21,
     "metadata": {},
     "output_type": "execute_result"
    }
   ],
   "source": [
    "result = pd.DataFrame(result_list, columns = metrics).transpose()\n",
    "result.columns = features\n",
    "result.sort_values(by = 'r2', axis = 1, ascending = False)"
   ]
  },
  {
   "cell_type": "markdown",
   "id": "29e9c63f",
   "metadata": {},
   "source": [
    "Featrue \"Runs\" has a the best performance in single feature linear regression mode by having the greatest r2 vlaue.\n",
    "\n"
   ]
  },
  {
   "cell_type": "code",
   "execution_count": 22,
   "id": "d337328c",
   "metadata": {},
   "outputs": [
    {
     "data": {
      "text/plain": [
       "<seaborn.axisgrid.JointGrid at 0x7fafb805ceb0>"
      ]
     },
     "execution_count": 22,
     "metadata": {},
     "output_type": "execute_result"
    },
    {
     "data": {
      "image/png": "[encoded data removed]",
      "text/plain": [
       "<Figure size 432x432 with 3 Axes>"
      ]
     },
     "metadata": {},
     "output_type": "display_data"
    }
   ],
   "source": [
    "sns.set_style(\"darkgrid\")\n",
    "sns.jointplot(x=\"Runs\", y=\"Salary\", data=df, kind=\"reg\")"
   ]
  },
  {
   "cell_type": "markdown",
   "id": "892f9efd",
   "metadata": {},
   "source": [
    "# Problem 3\n",
    "##  Logistic Regression\n",
    "\n",
    "In this problem, you are going to build a logistic regression digit classifier using the same MNIST dataset you used in the past homework. If you don’t already have the files, first go and download them from the class website. (For a description of the data format, please see the last Homework) \n",
    "\n",
    "Please append your final code for this problem to the end of your submission. \n",
    "\n",
    "Since the label set for this task consists of ten possible digits, you will be building a multi-class logistic regression classifier. \n",
    "\n",
    "Your submission file should be in the following format: For each of the 10k images in the test_mnist.csv set, output a single line containing the ImageId and the digit you predict. You will also submit a short 1 to 2 (max) page writeup of how you evaluated the performance of your logistic regression model. \n",
    "\n",
    "Compare and contrast your kNN MNIST classifier model to your Logistic Regression MNIST classifier model."
   ]
  },
  {
   "cell_type": "markdown",
   "id": "2749e2ac",
   "metadata": {},
   "source": [
    "## 1. Data Loading"
   ]
  },
  {
   "cell_type": "code",
   "execution_count": 17,
   "id": "ef63803a",
   "metadata": {},
   "outputs": [
    {
     "name": "stdout",
     "output_type": "stream",
     "text": [
      "data_mnist.csv data_mnist.zip test_mnist.csv test_mnist.zip\r\n"
     ]
    }
   ],
   "source": [
    "data_dir = '/Users/chiyunchen/pythonProject/ML_hw1/data'\n",
    "!ls '/Users/chiyunchen/pythonProject/ML_hw1/data'"
   ]
  },
  {
   "cell_type": "code",
   "execution_count": 18,
   "id": "df088db9",
   "metadata": {},
   "outputs": [],
   "source": [
    "data = pd.read_csv(data_dir+'/data_mnist.csv')\n",
    "test = pd.read_csv(data_dir+'/test_mnist.csv')"
   ]
  },
  {
   "cell_type": "code",
   "execution_count": 19,
   "id": "94963aab",
   "metadata": {},
   "outputs": [
    {
     "name": "stdout",
     "output_type": "stream",
     "text": [
      "X Data Shape is  (42000, 784)\n",
      "y Data Shape is  (42000,)\n",
      "The Data Shape for Prediction is  (10000, 784)\n",
      "--- 0:00:00.120003 time elapsed ---\n"
     ]
    }
   ],
   "source": [
    "start_time = time.time()\n",
    "\n",
    "mnist = np.array(data)\n",
    "mnist_prediction= np.array(test)\n",
    "X, y= mnist[:,1:], mnist[:,0]\n",
    "print(\"X Data Shape is \", X.shape)\n",
    "print(\"y Data Shape is \", y.shape)\n",
    "print(\"The Data Shape for Prediction is \",mnist_prediction.shape)\n",
    "\n",
    "print(\"--- %s time elapsed ---\" % str(timedelta(seconds=time.time() - start_time)))"
   ]
  },
  {
   "cell_type": "markdown",
   "id": "55b74afa",
   "metadata": {},
   "source": [
    "## 2. Model"
   ]
  },
  {
   "cell_type": "markdown",
   "id": "a3df426f",
   "metadata": {},
   "source": [
    "### 2.1 Normalization"
   ]
  },
  {
   "cell_type": "code",
   "execution_count": 21,
   "id": "11c34013",
   "metadata": {},
   "outputs": [],
   "source": [
    "norm_X = X/ 255.0"
   ]
  },
  {
   "cell_type": "markdown",
   "id": "ce34156e",
   "metadata": {},
   "source": [
    "### 2.2 Data Spliting"
   ]
  },
  {
   "cell_type": "markdown",
   "id": "b8e003da",
   "metadata": {},
   "source": [
    "According to many test run of logistic model, we noticed that the cost of caculation of logistic is more expensize than knn. Therefore, consider we only use local computer, we would like to have a smaller training dataset and set the  a bigger test_size as 33% of the dataset."
   ]
  },
  {
   "cell_type": "code",
   "execution_count": 22,
   "id": "3324f079",
   "metadata": {},
   "outputs": [],
   "source": [
    "X_train,X_test,y_train,y_test = train_test_split(norm_X,y,test_size=0.33,random_state = 41, stratify=y)"
   ]
  },
  {
   "cell_type": "markdown",
   "id": "972c9997",
   "metadata": {},
   "source": [
    "### 2.3 Model Training\n",
    "**Cross Validation by GrindsearchCV**"
   ]
  },
  {
   "cell_type": "markdown",
   "id": "a71ddf6e",
   "metadata": {},
   "source": [
    "The parameters:\n",
    " - solver: Algorithm to use in the optimization problem.\n",
    "    - 'lbfgs': Stands for limited-memory BFGS. \n",
    "    - 'newton-cg': It use an exact Hessian matrix to find the parameter weights that minimize a cost function.\n",
    "    - 'sag': Stochastic Average Gradient descent\n",
    "    - 'saga': It is a variant of “sag” and supports the non-smooth penalty=\"l1\" that is a choice for sparse multinomial logistic regression.\n",
    " - penalty : Specify the norm of the penalty, also known as regularization, which is adopted universally as simple data models generalize better and are less prone to overfitting.\n",
    "    - l1 : L1 regularization is equal to the absolute value of the magnitude of coefficient, or simply restricting the size of coefficients.\n",
    "    - l2 : L2 regularization is equal to the square of the magnitude of coefficients.\n",
    "\n",
    " - C: Inverse of regularization strength that usually search logarithmically: [.001, .01, .1, 1, 10, 100, 1000]\n",
    " - tol: Tolerance for stopping criteria, which tells when to stop searching for a minimum (or maximum) once some tolerance is achieved.\n",
    " \n",
    "For a multiclass problem, we can only consider 'lbfgs',‘newton-cg’, ‘sag’, ‘saga’. \n",
    "\n",
    "The 'lbfgs' solver only calculates an approximation to the Hessian based on the gradient which makes it computationally more effective. Its memory usage is limited compared to regular bfgs, and we have to increase the setting of **max_iter** to complete the training. Considering the max_iter needs to be very high and the lead to high time-consuming calculation, we don't include 'lbfgs' into the GrindSearchCV( ).\n",
    "\n",
    "According to many test runs of the logistic model, we noticed that the time consuming of 'saga' as the solver is significantly higher than others. Besides, 'Saga' is a variant of ‘sag’, which adopt Stochastic Average Gradient descent as well, we decided to only include ‘sag’ but ‘saga’ in the GrindSearchCV( ) to review for further analysis."
   ]
  },
  {
   "cell_type": "code",
   "execution_count": 23,
   "id": "b465858d",
   "metadata": {
    "scrolled": true
   },
   "outputs": [
    {
     "name": "stdout",
     "output_type": "stream",
     "text": [
      "Fitting 4 folds for each of 24 candidates, totalling 96 fits\n",
      "[CV] END .....C=0.1, penalty=l1, solver=newton-cg, tol=0.001; total time=   0.1s\n",
      "[CV] END .....C=0.1, penalty=l1, solver=newton-cg, tol=0.001; total time=   0.0s\n",
      "[CV] END .....C=0.1, penalty=l1, solver=newton-cg, tol=0.001; total time=   0.0s\n",
      "[CV] END .....C=0.1, penalty=l1, solver=newton-cg, tol=0.001; total time=   0.0s\n",
      "[CV] END ....C=0.1, penalty=l1, solver=newton-cg, tol=0.0001; total time=   0.0s\n",
      "[CV] END ....C=0.1, penalty=l1, solver=newton-cg, tol=0.0001; total time=   0.0s\n",
      "[CV] END ....C=0.1, penalty=l1, solver=newton-cg, tol=0.0001; total time=   0.0s\n",
      "[CV] END ....C=0.1, penalty=l1, solver=newton-cg, tol=0.0001; total time=   0.0s\n",
      "[CV] END ...........C=0.1, penalty=l1, solver=sag, tol=0.001; total time=   0.0s\n",
      "[CV] END ...........C=0.1, penalty=l1, solver=sag, tol=0.001; total time=   0.0s\n",
      "[CV] END ...........C=0.1, penalty=l1, solver=sag, tol=0.001; total time=   0.0s\n",
      "[CV] END ...........C=0.1, penalty=l1, solver=sag, tol=0.001; total time=   0.0s\n",
      "[CV] END ..........C=0.1, penalty=l1, solver=sag, tol=0.0001; total time=   0.0s\n",
      "[CV] END ..........C=0.1, penalty=l1, solver=sag, tol=0.0001; total time=   0.0s\n",
      "[CV] END ..........C=0.1, penalty=l1, solver=sag, tol=0.0001; total time=   0.0s\n",
      "[CV] END ..........C=0.1, penalty=l1, solver=sag, tol=0.0001; total time=   0.0s\n",
      "[CV] END .....C=0.1, penalty=l2, solver=newton-cg, tol=0.001; total time=   6.0s\n",
      "[CV] END .....C=0.1, penalty=l2, solver=newton-cg, tol=0.001; total time=   6.2s\n",
      "[CV] END .....C=0.1, penalty=l2, solver=newton-cg, tol=0.001; total time=   6.2s\n",
      "[CV] END .....C=0.1, penalty=l2, solver=newton-cg, tol=0.001; total time=   6.1s\n",
      "[CV] END ....C=0.1, penalty=l2, solver=newton-cg, tol=0.0001; total time=   7.4s\n",
      "[CV] END ....C=0.1, penalty=l2, solver=newton-cg, tol=0.0001; total time=   7.5s\n",
      "[CV] END ....C=0.1, penalty=l2, solver=newton-cg, tol=0.0001; total time=   7.6s\n",
      "[CV] END ....C=0.1, penalty=l2, solver=newton-cg, tol=0.0001; total time=   7.2s\n",
      "[CV] END ...........C=0.1, penalty=l2, solver=sag, tol=0.001; total time=  10.7s\n",
      "[CV] END ...........C=0.1, penalty=l2, solver=sag, tol=0.001; total time=  11.1s\n",
      "[CV] END ...........C=0.1, penalty=l2, solver=sag, tol=0.001; total time=  11.2s\n",
      "[CV] END ...........C=0.1, penalty=l2, solver=sag, tol=0.001; total time=  11.1s\n",
      "[CV] END ..........C=0.1, penalty=l2, solver=sag, tol=0.0001; total time=  16.8s\n",
      "[CV] END ..........C=0.1, penalty=l2, solver=sag, tol=0.0001; total time=  18.0s\n",
      "[CV] END ..........C=0.1, penalty=l2, solver=sag, tol=0.0001; total time=  19.0s\n",
      "[CV] END ..........C=0.1, penalty=l2, solver=sag, tol=0.0001; total time=  17.7s\n",
      "[CV] END .......C=1, penalty=l1, solver=newton-cg, tol=0.001; total time=   0.0s\n",
      "[CV] END .......C=1, penalty=l1, solver=newton-cg, tol=0.001; total time=   0.0s\n",
      "[CV] END .......C=1, penalty=l1, solver=newton-cg, tol=0.001; total time=   0.0s\n",
      "[CV] END .......C=1, penalty=l1, solver=newton-cg, tol=0.001; total time=   0.0s\n",
      "[CV] END ......C=1, penalty=l1, solver=newton-cg, tol=0.0001; total time=   0.0s\n",
      "[CV] END ......C=1, penalty=l1, solver=newton-cg, tol=0.0001; total time=   0.0s\n",
      "[CV] END ......C=1, penalty=l1, solver=newton-cg, tol=0.0001; total time=   0.0s\n",
      "[CV] END ......C=1, penalty=l1, solver=newton-cg, tol=0.0001; total time=   0.0s\n",
      "[CV] END .............C=1, penalty=l1, solver=sag, tol=0.001; total time=   0.0s\n",
      "[CV] END .............C=1, penalty=l1, solver=sag, tol=0.001; total time=   0.0s\n",
      "[CV] END .............C=1, penalty=l1, solver=sag, tol=0.001; total time=   0.0s\n",
      "[CV] END .............C=1, penalty=l1, solver=sag, tol=0.001; total time=   0.0s\n",
      "[CV] END ............C=1, penalty=l1, solver=sag, tol=0.0001; total time=   0.0s\n",
      "[CV] END ............C=1, penalty=l1, solver=sag, tol=0.0001; total time=   0.0s\n",
      "[CV] END ............C=1, penalty=l1, solver=sag, tol=0.0001; total time=   0.0s\n",
      "[CV] END ............C=1, penalty=l1, solver=sag, tol=0.0001; total time=   0.0s\n",
      "[CV] END .......C=1, penalty=l2, solver=newton-cg, tol=0.001; total time=  10.6s\n",
      "[CV] END .......C=1, penalty=l2, solver=newton-cg, tol=0.001; total time=  10.5s\n",
      "[CV] END .......C=1, penalty=l2, solver=newton-cg, tol=0.001; total time=   9.9s\n",
      "[CV] END .......C=1, penalty=l2, solver=newton-cg, tol=0.001; total time=  11.2s\n",
      "[CV] END ......C=1, penalty=l2, solver=newton-cg, tol=0.0001; total time=  13.6s\n",
      "[CV] END ......C=1, penalty=l2, solver=newton-cg, tol=0.0001; total time=  12.1s\n",
      "[CV] END ......C=1, penalty=l2, solver=newton-cg, tol=0.0001; total time=  13.3s\n",
      "[CV] END ......C=1, penalty=l2, solver=newton-cg, tol=0.0001; total time=  12.5s\n",
      "[CV] END .............C=1, penalty=l2, solver=sag, tol=0.001; total time=  56.4s\n",
      "[CV] END .............C=1, penalty=l2, solver=sag, tol=0.001; total time=  56.3s\n",
      "[CV] END .............C=1, penalty=l2, solver=sag, tol=0.001; total time=  54.2s\n",
      "[CV] END .............C=1, penalty=l2, solver=sag, tol=0.001; total time=  55.6s\n",
      "[CV] END ............C=1, penalty=l2, solver=sag, tol=0.0001; total time= 2.0min\n",
      "[CV] END ............C=1, penalty=l2, solver=sag, tol=0.0001; total time= 2.0min\n",
      "[CV] END ............C=1, penalty=l2, solver=sag, tol=0.0001; total time= 2.0min\n",
      "[CV] END ............C=1, penalty=l2, solver=sag, tol=0.0001; total time= 1.8min\n",
      "[CV] END ......C=10, penalty=l1, solver=newton-cg, tol=0.001; total time=   0.0s\n",
      "[CV] END ......C=10, penalty=l1, solver=newton-cg, tol=0.001; total time=   0.0s\n",
      "[CV] END ......C=10, penalty=l1, solver=newton-cg, tol=0.001; total time=   0.0s\n",
      "[CV] END ......C=10, penalty=l1, solver=newton-cg, tol=0.001; total time=   0.0s\n",
      "[CV] END .....C=10, penalty=l1, solver=newton-cg, tol=0.0001; total time=   0.0s\n",
      "[CV] END .....C=10, penalty=l1, solver=newton-cg, tol=0.0001; total time=   0.0s\n",
      "[CV] END .....C=10, penalty=l1, solver=newton-cg, tol=0.0001; total time=   0.0s\n",
      "[CV] END .....C=10, penalty=l1, solver=newton-cg, tol=0.0001; total time=   0.0s\n",
      "[CV] END ............C=10, penalty=l1, solver=sag, tol=0.001; total time=   0.0s\n",
      "[CV] END ............C=10, penalty=l1, solver=sag, tol=0.001; total time=   0.0s\n",
      "[CV] END ............C=10, penalty=l1, solver=sag, tol=0.001; total time=   0.0s\n",
      "[CV] END ............C=10, penalty=l1, solver=sag, tol=0.001; total time=   0.0s\n",
      "[CV] END ...........C=10, penalty=l1, solver=sag, tol=0.0001; total time=   0.0s\n",
      "[CV] END ...........C=10, penalty=l1, solver=sag, tol=0.0001; total time=   0.0s\n",
      "[CV] END ...........C=10, penalty=l1, solver=sag, tol=0.0001; total time=   0.0s\n",
      "[CV] END ...........C=10, penalty=l1, solver=sag, tol=0.0001; total time=   0.0s\n",
      "[CV] END ......C=10, penalty=l2, solver=newton-cg, tol=0.001; total time=  23.7s\n",
      "[CV] END ......C=10, penalty=l2, solver=newton-cg, tol=0.001; total time=  23.8s\n",
      "[CV] END ......C=10, penalty=l2, solver=newton-cg, tol=0.001; total time=  27.1s\n",
      "[CV] END ......C=10, penalty=l2, solver=newton-cg, tol=0.001; total time=  22.9s\n",
      "[CV] END .....C=10, penalty=l2, solver=newton-cg, tol=0.0001; total time=  30.0s\n",
      "[CV] END .....C=10, penalty=l2, solver=newton-cg, tol=0.0001; total time=  30.6s\n",
      "[CV] END .....C=10, penalty=l2, solver=newton-cg, tol=0.0001; total time=  28.9s\n",
      "[CV] END .....C=10, penalty=l2, solver=newton-cg, tol=0.0001; total time=  29.0s\n",
      "[CV] END ............C=10, penalty=l2, solver=sag, tol=0.001; total time= 3.2min\n",
      "[CV] END ............C=10, penalty=l2, solver=sag, tol=0.001; total time= 3.5min\n",
      "[CV] END ............C=10, penalty=l2, solver=sag, tol=0.001; total time= 3.9min\n",
      "[CV] END ............C=10, penalty=l2, solver=sag, tol=0.001; total time= 2.9min\n",
      "[CV] END ...........C=10, penalty=l2, solver=sag, tol=0.0001; total time=10.3min\n",
      "[CV] END ...........C=10, penalty=l2, solver=sag, tol=0.0001; total time= 8.8min\n",
      "[CV] END ...........C=10, penalty=l2, solver=sag, tol=0.0001; total time=10.2min\n",
      "[CV] END ...........C=10, penalty=l2, solver=sag, tol=0.0001; total time=10.1min\n"
     ]
    }
   ],
   "source": [
    "lr = LogisticRegression(max_iter= 3000)\n",
    "parameters = {'solver':['newton-cg','sag'],\n",
    "              'penalty': ['l1', 'l2'],\n",
    "              'C':[0.1,1,10],\n",
    "              'tol':[1e-3,1e-4]}\n",
    "# Evaluate an algorithm using a cross Validation and set folds = 4\n",
    "gridsearch = GridSearchCV(lr, parameters, cv=4,scoring='accuracy',verbose=2)\n",
    "gridsearch_result = gridsearch.fit(X_train, y_train)"
   ]
  },
  {
   "cell_type": "markdown",
   "id": "fd6505db",
   "metadata": {},
   "source": [
    "#### Get the best Parameters of the Model"
   ]
  },
  {
   "cell_type": "code",
   "execution_count": 24,
   "id": "eac5ad0f",
   "metadata": {},
   "outputs": [
    {
     "name": "stdout",
     "output_type": "stream",
     "text": [
      "Best Parameters of the Model is:  {'C': 0.1, 'penalty': 'l2', 'solver': 'sag', 'tol': 0.001}\n",
      "Accuarcy : 91.60%\n"
     ]
    }
   ],
   "source": [
    "accuracy = gridsearch_result.best_score_*100\n",
    "print(\"Best Parameters of the Model is: \",gridsearch_result.best_params_)\n",
    "print(\"Accuarcy : {:.2f}%\".format(accuracy))"
   ]
  },
  {
   "cell_type": "markdown",
   "id": "84ed6fe9",
   "metadata": {},
   "source": [
    "By the attributes of GridSearchCV( ) we can obtain the best model parameters combination, which is\n",
    " - C = 0.1\n",
    " - penalty = l2\n",
    " - solver = sag\n",
    " - tol = 0.001"
   ]
  },
  {
   "cell_type": "markdown",
   "id": "ecca30c3",
   "metadata": {},
   "source": [
    "Next,  we print out all model results from the GridSearchCV( ). We can see that most of the model has very close accuracy but the one that C = 10. Since'newton-cg' and 'sag' do not support 'l1', the accuracy will show 'NaN' in the table.\n",
    "\n",
    "However, if we consider the time-consuming issue, 'newton-cg' is a better choice. Therefore, let take create a model for both 'sag' and 'newton-cg' to check it out."
   ]
  },
  {
   "cell_type": "code",
   "execution_count": 25,
   "id": "4e96f109",
   "metadata": {
    "scrolled": true
   },
   "outputs": [
    {
     "data": {
      "text/html": [
       "<div>\n",
       "<style scoped>\n",
       "    .dataframe tbody tr th:only-of-type {\n",
       "        vertical-align: middle;\n",
       "    }\n",
       "\n",
       "    .dataframe tbody tr th {\n",
       "        vertical-align: top;\n",
       "    }\n",
       "\n",
       "    .dataframe thead th {\n",
       "        text-align: right;\n",
       "    }\n",
       "</style>\n",
       "<table border=\"1\" class=\"dataframe\">\n",
       "  <thead>\n",
       "    <tr style=\"text-align: right;\">\n",
       "      <th></th>\n",
       "      <th>C</th>\n",
       "      <th>penalty</th>\n",
       "      <th>solver</th>\n",
       "      <th>tol</th>\n",
       "      <th>Accuracy</th>\n",
       "    </tr>\n",
       "  </thead>\n",
       "  <tbody>\n",
       "    <tr>\n",
       "      <th>0</th>\n",
       "      <td>0.1</td>\n",
       "      <td>l1</td>\n",
       "      <td>newton-cg</td>\n",
       "      <td>0.0010</td>\n",
       "      <td>NaN</td>\n",
       "    </tr>\n",
       "    <tr>\n",
       "      <th>1</th>\n",
       "      <td>0.1</td>\n",
       "      <td>l1</td>\n",
       "      <td>newton-cg</td>\n",
       "      <td>0.0001</td>\n",
       "      <td>NaN</td>\n",
       "    </tr>\n",
       "    <tr>\n",
       "      <th>2</th>\n",
       "      <td>0.1</td>\n",
       "      <td>l1</td>\n",
       "      <td>sag</td>\n",
       "      <td>0.0010</td>\n",
       "      <td>NaN</td>\n",
       "    </tr>\n",
       "    <tr>\n",
       "      <th>3</th>\n",
       "      <td>0.1</td>\n",
       "      <td>l1</td>\n",
       "      <td>sag</td>\n",
       "      <td>0.0001</td>\n",
       "      <td>NaN</td>\n",
       "    </tr>\n",
       "    <tr>\n",
       "      <th>4</th>\n",
       "      <td>0.1</td>\n",
       "      <td>l2</td>\n",
       "      <td>newton-cg</td>\n",
       "      <td>0.0010</td>\n",
       "      <td>0.915956</td>\n",
       "    </tr>\n",
       "    <tr>\n",
       "      <th>5</th>\n",
       "      <td>0.1</td>\n",
       "      <td>l2</td>\n",
       "      <td>newton-cg</td>\n",
       "      <td>0.0001</td>\n",
       "      <td>0.915956</td>\n",
       "    </tr>\n",
       "    <tr>\n",
       "      <th>6</th>\n",
       "      <td>0.1</td>\n",
       "      <td>l2</td>\n",
       "      <td>sag</td>\n",
       "      <td>0.0010</td>\n",
       "      <td>0.915991</td>\n",
       "    </tr>\n",
       "    <tr>\n",
       "      <th>7</th>\n",
       "      <td>0.1</td>\n",
       "      <td>l2</td>\n",
       "      <td>sag</td>\n",
       "      <td>0.0001</td>\n",
       "      <td>0.915956</td>\n",
       "    </tr>\n",
       "    <tr>\n",
       "      <th>8</th>\n",
       "      <td>1.0</td>\n",
       "      <td>l1</td>\n",
       "      <td>newton-cg</td>\n",
       "      <td>0.0010</td>\n",
       "      <td>NaN</td>\n",
       "    </tr>\n",
       "    <tr>\n",
       "      <th>9</th>\n",
       "      <td>1.0</td>\n",
       "      <td>l1</td>\n",
       "      <td>newton-cg</td>\n",
       "      <td>0.0001</td>\n",
       "      <td>NaN</td>\n",
       "    </tr>\n",
       "    <tr>\n",
       "      <th>10</th>\n",
       "      <td>1.0</td>\n",
       "      <td>l1</td>\n",
       "      <td>sag</td>\n",
       "      <td>0.0010</td>\n",
       "      <td>NaN</td>\n",
       "    </tr>\n",
       "    <tr>\n",
       "      <th>11</th>\n",
       "      <td>1.0</td>\n",
       "      <td>l1</td>\n",
       "      <td>sag</td>\n",
       "      <td>0.0001</td>\n",
       "      <td>NaN</td>\n",
       "    </tr>\n",
       "    <tr>\n",
       "      <th>12</th>\n",
       "      <td>1.0</td>\n",
       "      <td>l2</td>\n",
       "      <td>newton-cg</td>\n",
       "      <td>0.0010</td>\n",
       "      <td>0.913397</td>\n",
       "    </tr>\n",
       "    <tr>\n",
       "      <th>13</th>\n",
       "      <td>1.0</td>\n",
       "      <td>l2</td>\n",
       "      <td>newton-cg</td>\n",
       "      <td>0.0001</td>\n",
       "      <td>0.913397</td>\n",
       "    </tr>\n",
       "    <tr>\n",
       "      <th>14</th>\n",
       "      <td>1.0</td>\n",
       "      <td>l2</td>\n",
       "      <td>sag</td>\n",
       "      <td>0.0010</td>\n",
       "      <td>0.913611</td>\n",
       "    </tr>\n",
       "    <tr>\n",
       "      <th>15</th>\n",
       "      <td>1.0</td>\n",
       "      <td>l2</td>\n",
       "      <td>sag</td>\n",
       "      <td>0.0001</td>\n",
       "      <td>0.913397</td>\n",
       "    </tr>\n",
       "    <tr>\n",
       "      <th>16</th>\n",
       "      <td>10.0</td>\n",
       "      <td>l1</td>\n",
       "      <td>newton-cg</td>\n",
       "      <td>0.0010</td>\n",
       "      <td>NaN</td>\n",
       "    </tr>\n",
       "    <tr>\n",
       "      <th>17</th>\n",
       "      <td>10.0</td>\n",
       "      <td>l1</td>\n",
       "      <td>newton-cg</td>\n",
       "      <td>0.0001</td>\n",
       "      <td>NaN</td>\n",
       "    </tr>\n",
       "    <tr>\n",
       "      <th>18</th>\n",
       "      <td>10.0</td>\n",
       "      <td>l1</td>\n",
       "      <td>sag</td>\n",
       "      <td>0.0010</td>\n",
       "      <td>NaN</td>\n",
       "    </tr>\n",
       "    <tr>\n",
       "      <th>19</th>\n",
       "      <td>10.0</td>\n",
       "      <td>l1</td>\n",
       "      <td>sag</td>\n",
       "      <td>0.0001</td>\n",
       "      <td>NaN</td>\n",
       "    </tr>\n",
       "    <tr>\n",
       "      <th>20</th>\n",
       "      <td>10.0</td>\n",
       "      <td>l2</td>\n",
       "      <td>newton-cg</td>\n",
       "      <td>0.0010</td>\n",
       "      <td>0.899538</td>\n",
       "    </tr>\n",
       "    <tr>\n",
       "      <th>21</th>\n",
       "      <td>10.0</td>\n",
       "      <td>l2</td>\n",
       "      <td>newton-cg</td>\n",
       "      <td>0.0001</td>\n",
       "      <td>0.899538</td>\n",
       "    </tr>\n",
       "    <tr>\n",
       "      <th>22</th>\n",
       "      <td>10.0</td>\n",
       "      <td>l2</td>\n",
       "      <td>sag</td>\n",
       "      <td>0.0010</td>\n",
       "      <td>0.902345</td>\n",
       "    </tr>\n",
       "    <tr>\n",
       "      <th>23</th>\n",
       "      <td>10.0</td>\n",
       "      <td>l2</td>\n",
       "      <td>sag</td>\n",
       "      <td>0.0001</td>\n",
       "      <td>0.899893</td>\n",
       "    </tr>\n",
       "  </tbody>\n",
       "</table>\n",
       "</div>"
      ],
      "text/plain": [
       "       C penalty     solver     tol  Accuracy\n",
       "0    0.1      l1  newton-cg  0.0010       NaN\n",
       "1    0.1      l1  newton-cg  0.0001       NaN\n",
       "2    0.1      l1        sag  0.0010       NaN\n",
       "3    0.1      l1        sag  0.0001       NaN\n",
       "4    0.1      l2  newton-cg  0.0010  0.915956\n",
       "5    0.1      l2  newton-cg  0.0001  0.915956\n",
       "6    0.1      l2        sag  0.0010  0.915991\n",
       "7    0.1      l2        sag  0.0001  0.915956\n",
       "8    1.0      l1  newton-cg  0.0010       NaN\n",
       "9    1.0      l1  newton-cg  0.0001       NaN\n",
       "10   1.0      l1        sag  0.0010       NaN\n",
       "11   1.0      l1        sag  0.0001       NaN\n",
       "12   1.0      l2  newton-cg  0.0010  0.913397\n",
       "13   1.0      l2  newton-cg  0.0001  0.913397\n",
       "14   1.0      l2        sag  0.0010  0.913611\n",
       "15   1.0      l2        sag  0.0001  0.913397\n",
       "16  10.0      l1  newton-cg  0.0010       NaN\n",
       "17  10.0      l1  newton-cg  0.0001       NaN\n",
       "18  10.0      l1        sag  0.0010       NaN\n",
       "19  10.0      l1        sag  0.0001       NaN\n",
       "20  10.0      l2  newton-cg  0.0010  0.899538\n",
       "21  10.0      l2  newton-cg  0.0001  0.899538\n",
       "22  10.0      l2        sag  0.0010  0.902345\n",
       "23  10.0      l2        sag  0.0001  0.899893"
      ]
     },
     "execution_count": 25,
     "metadata": {},
     "output_type": "execute_result"
    }
   ],
   "source": [
    "cv_resultDF = pd.concat([pd.DataFrame(gridsearch_result.cv_results_[\"params\"]),pd.DataFrame(gridsearch_result.cv_results_[\"mean_test_score\"], columns=[\"Accuracy\"])],axis=1)\n",
    "cv_resultDF"
   ]
  },
  {
   "cell_type": "markdown",
   "id": "4ccb5fe8",
   "metadata": {},
   "source": [
    "**Model - solver ='sag'**"
   ]
  },
  {
   "cell_type": "code",
   "execution_count": 27,
   "id": "923650fd",
   "metadata": {},
   "outputs": [
    {
     "data": {
      "text/plain": [
       "LogisticRegression(C=0.1, max_iter=3000, solver='sag', tol=0.001)"
      ]
     },
     "execution_count": 27,
     "metadata": {},
     "output_type": "execute_result"
    }
   ],
   "source": [
    "sag_model = LogisticRegression(C =0.1, solver ='sag',penalty=\"l2\",max_iter=3000, tol=1e-3)\n",
    "sag_model.fit(X_train,y_train)"
   ]
  },
  {
   "cell_type": "code",
   "execution_count": 28,
   "id": "2ef2820b",
   "metadata": {},
   "outputs": [],
   "source": [
    "y_pred_sag = sag_model.predict(X_test)"
   ]
  },
  {
   "cell_type": "code",
   "execution_count": 29,
   "id": "88d8e457",
   "metadata": {},
   "outputs": [],
   "source": [
    "class_report_sag = classification_report(y_test, y_pred_sag)\n",
    "accuracy_sag = accuracy_score(y_test,y_pred_sag)*100\n",
    "precision_sag = precision_score(y_test,y_pred_sag,average='micro')*100\n",
    "recall_sag = recall_score(y_test,y_pred_sag,average='micro')*100"
   ]
  },
  {
   "cell_type": "code",
   "execution_count": 30,
   "id": "b841d495",
   "metadata": {
    "scrolled": true
   },
   "outputs": [
    {
     "name": "stdout",
     "output_type": "stream",
     "text": [
      "================= Logistic Model Evaluation =================\n",
      "======================= Solver : Sag ========================\n",
      "Model Score is 0.935\n",
      "              precision    recall  f1-score   support\n",
      "\n",
      "           0       0.96      0.96      0.96      1364\n",
      "           1       0.95      0.98      0.97      1546\n",
      "           2       0.92      0.89      0.90      1378\n",
      "           3       0.90      0.89      0.89      1436\n",
      "           4       0.92      0.93      0.92      1344\n",
      "           5       0.88      0.86      0.87      1252\n",
      "           6       0.95      0.96      0.95      1365\n",
      "           7       0.92      0.94      0.93      1452\n",
      "           8       0.89      0.87      0.88      1341\n",
      "           9       0.90      0.90      0.90      1382\n",
      "\n",
      "    accuracy                           0.92     13860\n",
      "   macro avg       0.92      0.92      0.92     13860\n",
      "weighted avg       0.92      0.92      0.92     13860\n",
      "\n",
      "\n",
      "Accuracy is : 91.934%\n",
      "Precision is : 91.934%\n",
      "Recall is : 91.934%\n"
     ]
    }
   ],
   "source": [
    "print('================= Logistic Model Evaluation =================')\n",
    "print('======================= Solver : Sag ========================')\n",
    "print(\"Model Score is %.3f\" % sag_model.score(X_train, y_train))\n",
    "print(class_report_sag)\n",
    "print('')\n",
    "print(\"Accuracy is : {:.3f}%\".format(accuracy_sag) )\n",
    "print(\"Precision is : {:.3f}%\".format(precision_sag) )\n",
    "print(\"Recall is : {:.3f}%\".format(recall_sag) )"
   ]
  },
  {
   "cell_type": "markdown",
   "id": "31c6af36",
   "metadata": {},
   "source": [
    "**Model - solver = 'newton-cg'**"
   ]
  },
  {
   "cell_type": "code",
   "execution_count": 31,
   "id": "6a32e0a6",
   "metadata": {},
   "outputs": [
    {
     "data": {
      "text/plain": [
       "LogisticRegression(C=0.1, max_iter=3000, solver='newton-cg', tol=0.001)"
      ]
     },
     "execution_count": 31,
     "metadata": {},
     "output_type": "execute_result"
    }
   ],
   "source": [
    "newton_model = LogisticRegression(C =0.1, solver ='newton-cg',penalty=\"l2\",max_iter=3000, tol=1e-3)\n",
    "newton_model.fit(X_train,y_train)"
   ]
  },
  {
   "cell_type": "code",
   "execution_count": 32,
   "id": "c6aa7f13",
   "metadata": {},
   "outputs": [],
   "source": [
    "y_pred_newton = newton_model.predict(X_test)"
   ]
  },
  {
   "cell_type": "code",
   "execution_count": 33,
   "id": "0cf03d38",
   "metadata": {},
   "outputs": [],
   "source": [
    "class_report_newton = classification_report(y_test, y_pred_newton)\n",
    "accuracy_newton = accuracy_score(y_test,y_pred_newton)*100\n",
    "precision_newton = precision_score(y_test,y_pred_newton,average='micro')*100\n",
    "recall_newton = recall_score(y_test,y_pred_newton,average='micro')*100"
   ]
  },
  {
   "cell_type": "code",
   "execution_count": 37,
   "id": "7aae3879",
   "metadata": {
    "scrolled": false
   },
   "outputs": [
    {
     "name": "stdout",
     "output_type": "stream",
     "text": [
      "================= Logistic Model Evaluation =================\n",
      "===================== Solver : newton-cg ====================\n",
      "Model Score is 0.935\n",
      "              precision    recall  f1-score   support\n",
      "\n",
      "           0       0.96      0.96      0.96      1364\n",
      "           1       0.95      0.98      0.97      1546\n",
      "           2       0.92      0.89      0.90      1378\n",
      "           3       0.90      0.89      0.89      1436\n",
      "           4       0.92      0.93      0.92      1344\n",
      "           5       0.88      0.86      0.87      1252\n",
      "           6       0.95      0.96      0.95      1365\n",
      "           7       0.92      0.94      0.93      1452\n",
      "           8       0.89      0.87      0.88      1341\n",
      "           9       0.90      0.90      0.90      1382\n",
      "\n",
      "    accuracy                           0.92     13860\n",
      "   macro avg       0.92      0.92      0.92     13860\n",
      "weighted avg       0.92      0.92      0.92     13860\n",
      "\n",
      "\n",
      "Accuracy is : 91.934%\n",
      "Precision is : 91.934%\n",
      "Recall is : 91.934%\n"
     ]
    }
   ],
   "source": [
    "print('================= Logistic Model Evaluation =================')\n",
    "print('===================== Solver : newton-cg ====================')\n",
    "print(\"Model Score is %.3f\" % newton_model.score(X_train, y_train))\n",
    "print(class_report_newton)\n",
    "print('')\n",
    "print(\"Accuracy is : {:.3f}%\".format(accuracy_newton) )\n",
    "print(\"Precision is : {:.3f}%\".format(precision_newton) )\n",
    "print(\"Recall is : {:.3f}%\".format(recall_newton) )"
   ]
  },
  {
   "cell_type": "markdown",
   "id": "c3d436f2",
   "metadata": {},
   "source": [
    "To review the accuracy of the logistic model from two solvers, we can see that the model that adopts 'newton-cg' as solver has a better prediction accuracy, precision, and recall. Thus, we decide to adopt this model as our best logistic model."
   ]
  },
  {
   "cell_type": "markdown",
   "id": "48239c28",
   "metadata": {},
   "source": [
    "### 2.4 Model Saving"
   ]
  },
  {
   "cell_type": "code",
   "execution_count": 38,
   "id": "eb5cf265",
   "metadata": {},
   "outputs": [],
   "source": [
    "pickle.dump(sag_model, open(\"logistic_sag_model.pkl\", \"wb\"))\n",
    "pickle.dump(newton_model, open(\"logistic_newton_model.pkl\", \"wb\"))"
   ]
  },
  {
   "cell_type": "markdown",
   "id": "3fa87187",
   "metadata": {},
   "source": [
    "## 3. Prediction"
   ]
  },
  {
   "cell_type": "markdown",
   "id": "2ca4ed40",
   "metadata": {},
   "source": [
    "### 3.1 Model Loading"
   ]
  },
  {
   "cell_type": "code",
   "execution_count": 45,
   "id": "c5bea356",
   "metadata": {},
   "outputs": [],
   "source": [
    "loaded_model = pickle.load(open(\"logistic_newton_model.pkl\", 'rb'))"
   ]
  },
  {
   "cell_type": "markdown",
   "id": "4cc7bca9",
   "metadata": {},
   "source": [
    "### 3.2 Normalization"
   ]
  },
  {
   "cell_type": "code",
   "execution_count": 46,
   "id": "ed085e3f",
   "metadata": {},
   "outputs": [],
   "source": [
    "mnist_prediction = mnist_prediction/255.0"
   ]
  },
  {
   "cell_type": "markdown",
   "id": "16dc01e8",
   "metadata": {},
   "source": [
    "### 3.3 Prediction"
   ]
  },
  {
   "cell_type": "code",
   "execution_count": 47,
   "id": "f7b03562",
   "metadata": {},
   "outputs": [],
   "source": [
    "results = loaded_model.predict(mnist_prediction)"
   ]
  },
  {
   "cell_type": "markdown",
   "id": "187bb8f8",
   "metadata": {},
   "source": [
    "## 4. Submission"
   ]
  },
  {
   "cell_type": "code",
   "execution_count": 48,
   "id": "af1a6538",
   "metadata": {
    "scrolled": true
   },
   "outputs": [
    {
     "data": {
      "text/html": [
       "<div>\n",
       "<style scoped>\n",
       "    .dataframe tbody tr th:only-of-type {\n",
       "        vertical-align: middle;\n",
       "    }\n",
       "\n",
       "    .dataframe tbody tr th {\n",
       "        vertical-align: top;\n",
       "    }\n",
       "\n",
       "    .dataframe thead th {\n",
       "        text-align: right;\n",
       "    }\n",
       "</style>\n",
       "<table border=\"1\" class=\"dataframe\">\n",
       "  <thead>\n",
       "    <tr style=\"text-align: right;\">\n",
       "      <th></th>\n",
       "      <th>ImageId</th>\n",
       "      <th>Label</th>\n",
       "    </tr>\n",
       "  </thead>\n",
       "  <tbody>\n",
       "    <tr>\n",
       "      <th>0</th>\n",
       "      <td>1</td>\n",
       "      <td>7</td>\n",
       "    </tr>\n",
       "    <tr>\n",
       "      <th>1</th>\n",
       "      <td>2</td>\n",
       "      <td>2</td>\n",
       "    </tr>\n",
       "    <tr>\n",
       "      <th>2</th>\n",
       "      <td>3</td>\n",
       "      <td>1</td>\n",
       "    </tr>\n",
       "    <tr>\n",
       "      <th>3</th>\n",
       "      <td>4</td>\n",
       "      <td>0</td>\n",
       "    </tr>\n",
       "    <tr>\n",
       "      <th>4</th>\n",
       "      <td>5</td>\n",
       "      <td>4</td>\n",
       "    </tr>\n",
       "  </tbody>\n",
       "</table>\n",
       "</div>"
      ],
      "text/plain": [
       "   ImageId  Label\n",
       "0        1      7\n",
       "1        2      2\n",
       "2        3      1\n",
       "3        4      0\n",
       "4        5      4"
      ]
     },
     "execution_count": 48,
     "metadata": {},
     "output_type": "execute_result"
    }
   ],
   "source": [
    "sub = pd.DataFrame({'ImageId':np.arange(10000),'Label':results.squeeze().astype(np.int)})\n",
    "sub[\"ImageId\"]=sub[\"ImageId\"]+1\n",
    "sub.head()"
   ]
  },
  {
   "cell_type": "code",
   "execution_count": 49,
   "id": "b1c7b087",
   "metadata": {
    "scrolled": true
   },
   "outputs": [
    {
     "data": {
      "text/plain": [
       "(10000, 2)"
      ]
     },
     "execution_count": 49,
     "metadata": {},
     "output_type": "execute_result"
    }
   ],
   "source": [
    "sub.shape"
   ]
  },
  {
   "cell_type": "code",
   "execution_count": 50,
   "id": "62c54809",
   "metadata": {},
   "outputs": [],
   "source": [
    "sub.to_csv('hw02_submission.csv', index=False)"
   ]
  },
  {
   "cell_type": "markdown",
   "id": "478fdd0b",
   "metadata": {},
   "source": [
    "## 5. Compare with kNN Classifier and Logistic Regression Model"
   ]
  },
  {
   "cell_type": "markdown",
   "id": "ed7677ed",
   "metadata": {},
   "source": [
    "Let's compare our logistic model with the kNN classifier model we have made before from the same dataset."
   ]
  },
  {
   "cell_type": "markdown",
   "id": "7d668d21",
   "metadata": {},
   "source": [
    "**Model Lodaing**"
   ]
  },
  {
   "cell_type": "code",
   "execution_count": 51,
   "id": "a234f5e6",
   "metadata": {},
   "outputs": [],
   "source": [
    "knn_model = pickle.load(open(\"Best_knn_model.pkl\", 'rb'))"
   ]
  },
  {
   "cell_type": "code",
   "execution_count": 52,
   "id": "5ed28c81",
   "metadata": {},
   "outputs": [],
   "source": [
    "y_pred_knn = knn_model.predict(X_test)"
   ]
  },
  {
   "cell_type": "markdown",
   "id": "886c00c0",
   "metadata": {},
   "source": [
    "**Model Evaluation**"
   ]
  },
  {
   "cell_type": "code",
   "execution_count": 53,
   "id": "e61f6948",
   "metadata": {},
   "outputs": [],
   "source": [
    "knn_class_report = classification_report(y_test, y_pred_knn)\n",
    "knn_accuracy = accuracy_score(y_test,y_pred_knn)*100\n",
    "knn_precision = precision_score(y_test,y_pred_knn,average='micro')*100\n",
    "knn_recall = recall_score(y_test,y_pred_knn,average='micro')*100"
   ]
  },
  {
   "cell_type": "code",
   "execution_count": 56,
   "id": "5676fdd0",
   "metadata": {
    "scrolled": true
   },
   "outputs": [
    {
     "name": "stdout",
     "output_type": "stream",
     "text": [
      "================= kNN = 4 Classifier Model Evaluation =================\n",
      "\n",
      "              precision    recall  f1-score   support\n",
      "\n",
      "           0       0.98      0.99      0.99      1364\n",
      "           1       0.97      1.00      0.98      1546\n",
      "           2       0.99      0.97      0.98      1378\n",
      "           3       0.98      0.98      0.98      1436\n",
      "           4       0.98      0.97      0.98      1344\n",
      "           5       0.97      0.97      0.97      1252\n",
      "           6       0.98      0.99      0.99      1365\n",
      "           7       0.96      0.98      0.97      1452\n",
      "           8       0.99      0.95      0.97      1341\n",
      "           9       0.96      0.97      0.96      1382\n",
      "\n",
      "    accuracy                           0.98     13860\n",
      "   macro avg       0.98      0.98      0.98     13860\n",
      "weighted avg       0.98      0.98      0.98     13860\n",
      "\n",
      "Accuracy of testing dataset of n_neighbors=4 is : 97.605%\n",
      "Precision of testing dataset of n_neighbors=4 is : 97.605%\n",
      "Recall of testing dataset of n_neighbors=4 is : 97.605%\n"
     ]
    }
   ],
   "source": [
    "print('================= kNN = 4 Classifier Model Evaluation =================')\n",
    "print('')\n",
    "print(knn_class_report)\n",
    "print(\"Accuracy of testing dataset of n_neighbors=4 is : {:.3f}%\".format(knn_accuracy ) )\n",
    "print(\"Precision of testing dataset of n_neighbors=4 is : {:.3f}%\".format(knn_precision) )\n",
    "print(\"Recall of testing dataset of n_neighbors=4 is : {:.3f}%\".format(knn_recall) )"
   ]
  },
  {
   "cell_type": "markdown",
   "id": "ea387919",
   "metadata": {},
   "source": [
    "We can see that all model evaluation metrics (accuracy, precision, and recall) of knn have a better result than the logistic model we have."
   ]
  },
  {
   "cell_type": "markdown",
   "id": "f0f6ca7b",
   "metadata": {},
   "source": [
    "From the class_report, we noticed that knn model in digits 1, 5, and 9 have a lower accuracy rate; the Logistic model in digit 3, 5, and 8 have a lower accuracy rate. Let's see some incorrectly predicted images to see what kind of image may be difficult for the algorithm to recognize."
   ]
  },
  {
   "cell_type": "code",
   "execution_count": 60,
   "id": "1989c2e0",
   "metadata": {},
   "outputs": [
    {
     "name": "stdout",
     "output_type": "stream",
     "text": [
      "Incorrectly predicted Images by kNN = 4 Classifier:\n"
     ]
    },
    {
     "data": {
      "image/png": "[encoded data removed]",
      "text/plain": [
       "<Figure size 720x720 with 16 Axes>"
      ]
     },
     "metadata": {},
     "output_type": "display_data"
    }
   ],
   "source": [
    "print(\"Incorrectly predicted Images by kNN = 4 Classifier:\")\n",
    "X_test_incorrect = X_test[y_test!=y_pred_knn,:]\n",
    "y_test_incorrect = y_test[y_test!=y_pred_knn]\n",
    "y_pred_knn_incorrect = y_pred_knn[y_test!=y_pred_knn]\n",
    "\n",
    "fig, ax = plt.subplots(4, 4, figsize=(10,10))\n",
    "for i in range(4):\n",
    "    for j in range(4):\n",
    "        ax[i, j].imshow(X_test_incorrect[i*4+j*4].reshape(28,28), cmap='gray')\n",
    "        ax[i, j].set_title('Label:%s, pred:%s' % (y_test_incorrect[i*4+j*4], y_pred_knn_incorrect[i*4+j*4]))\n",
    "        ax[i, j].set_xticks([])\n",
    "        ax[i, j].set_yticks([])"
   ]
  },
  {
   "cell_type": "code",
   "execution_count": 59,
   "id": "d6cdcb69",
   "metadata": {
    "scrolled": true
   },
   "outputs": [
    {
     "name": "stdout",
     "output_type": "stream",
     "text": [
      "Incorrectly predicted Images by Logistic Model:\n"
     ]
    },
    {
     "data": {
      "image/png": "[encoded data removed]",
      "text/plain": [
       "<Figure size 720x720 with 16 Axes>"
      ]
     },
     "metadata": {},
     "output_type": "display_data"
    }
   ],
   "source": [
    "print(\"Incorrectly predicted Images by Logistic Model:\")\n",
    "X_test_incorrect = X_test[y_test!=y_pred_newton,:]\n",
    "y_test_incorrect = y_test[y_test!=y_pred_newton]\n",
    "y_pred_newton_incorrect = y_pred_newton[y_test!=y_pred_newton]\n",
    "\n",
    "fig, ax = plt.subplots(4, 4, figsize=(10,10))\n",
    "for i in range(4):\n",
    "    for j in range(4):\n",
    "        ax[i, j].imshow(X_test_incorrect[i*4+j*4].reshape(28,28), cmap='gray')\n",
    "        ax[i, j].set_title('Label:%s, pred:%s' % (y_test_incorrect[i*4+j*4], y_pred_newton_incorrect[i*4+j*4]))\n",
    "        ax[i, j].set_xticks([])\n",
    "        ax[i, j].set_yticks([])"
   ]
  }
 ],
 "metadata": {
  "kernelspec": {
   "display_name": "Python [conda env:root]",
   "language": "python",
   "name": "conda-root-py"
  },
  "language_info": {
   "codemirror_mode": {
    "name": "ipython",
    "version": 3
   },
   "file_extension": ".py",
   "mimetype": "text/x-python",
   "name": "python",
   "nbconvert_exporter": "python",
   "pygments_lexer": "ipython3",
   "version": "3.9.7"
  }
 },
 "nbformat": 4,
 "nbformat_minor": 5
}
