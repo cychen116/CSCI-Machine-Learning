{
 "cells": [
  {
   "cell_type": "markdown",
   "id": "ba185217",
   "metadata": {},
   "source": [
    "# 1. Package Loading"
   ]
  },
  {
   "cell_type": "code",
   "execution_count": 1,
   "id": "acb740eb",
   "metadata": {},
   "outputs": [],
   "source": [
    "#Basic\n",
    "import pandas as pd\n",
    "import numpy as np \n",
    "import random   \n",
    "import os\n",
    "import time\n",
    "from datetime import timedelta\n",
    "import pickle"
   ]
  },
  {
   "cell_type": "code",
   "execution_count": 2,
   "id": "2804cd7e",
   "metadata": {},
   "outputs": [],
   "source": [
    "\n",
    "#ML\n",
    "from sklearn.neighbors import KNeighborsClassifier\n",
    "from sklearn.neighbors import NearestNeighbors\n",
    "from sklearn.preprocessing import StandardScaler\n",
    "from sklearn.model_selection import train_test_split\n",
    "from sklearn.model_selection import GridSearchCV\n",
    "from sklearn import metrics\n",
    "from sklearn.metrics import classification_report, accuracy_score, precision_score, recall_score\n",
    "from sklearn.metrics import mean_squared_error\n",
    "from math import sqrt\n"
   ]
  },
  {
   "cell_type": "code",
   "execution_count": 67,
   "id": "a2ffc830",
   "metadata": {},
   "outputs": [],
   "source": [
    "#Visualization               \n",
    "import matplotlib.pyplot as plt\n",
    "import seaborn as sns"
   ]
  },
  {
   "cell_type": "markdown",
   "id": "2fc1b353",
   "metadata": {},
   "source": [
    "# 2. Data Loading"
   ]
  },
  {
   "cell_type": "code",
   "execution_count": 4,
   "id": "21dc39f0",
   "metadata": {},
   "outputs": [
    {
     "name": "stdout",
     "output_type": "stream",
     "text": [
      "data_mnist.csv data_mnist.zip test_mnist.csv test_mnist.zip\n"
     ]
    }
   ],
   "source": [
    "data_dir = '/Users/chiyunchen/pythonProject/ML_hw1/data'\n",
    "!ls '/Users/chiyunchen/pythonProject/ML_hw1/data'"
   ]
  },
  {
   "cell_type": "code",
   "execution_count": 5,
   "id": "da2f00a7",
   "metadata": {},
   "outputs": [
    {
     "name": "stdout",
     "output_type": "stream",
     "text": [
      "--- 0:00:01.623983 time elapsed ---\n"
     ]
    }
   ],
   "source": [
    "start_time = time.time()\n",
    "data = pd.read_csv(data_dir+'/data_mnist.csv')\n",
    "test = pd.read_csv(data_dir+'/test_mnist.csv')\n",
    "print(\"--- %s time elapsed ---\" % str(timedelta(seconds=time.time() - start_time)))"
   ]
  },
  {
   "cell_type": "markdown",
   "id": "bda3d9c9",
   "metadata": {},
   "source": [
    "Check out the look of data"
   ]
  },
  {
   "cell_type": "code",
   "execution_count": 6,
   "id": "38951231",
   "metadata": {},
   "outputs": [
    {
     "data": {
      "text/html": [
       "<div>\n",
       "<style scoped>\n",
       "    .dataframe tbody tr th:only-of-type {\n",
       "        vertical-align: middle;\n",
       "    }\n",
       "\n",
       "    .dataframe tbody tr th {\n",
       "        vertical-align: top;\n",
       "    }\n",
       "\n",
       "    .dataframe thead th {\n",
       "        text-align: right;\n",
       "    }\n",
       "</style>\n",
       "<table border=\"1\" class=\"dataframe\">\n",
       "  <thead>\n",
       "    <tr style=\"text-align: right;\">\n",
       "      <th></th>\n",
       "      <th>label</th>\n",
       "      <th>pixel0</th>\n",
       "      <th>pixel1</th>\n",
       "      <th>pixel2</th>\n",
       "      <th>pixel3</th>\n",
       "      <th>pixel4</th>\n",
       "      <th>pixel5</th>\n",
       "      <th>pixel6</th>\n",
       "      <th>pixel7</th>\n",
       "      <th>pixel8</th>\n",
       "      <th>...</th>\n",
       "      <th>pixel774</th>\n",
       "      <th>pixel775</th>\n",
       "      <th>pixel776</th>\n",
       "      <th>pixel777</th>\n",
       "      <th>pixel778</th>\n",
       "      <th>pixel779</th>\n",
       "      <th>pixel780</th>\n",
       "      <th>pixel781</th>\n",
       "      <th>pixel782</th>\n",
       "      <th>pixel783</th>\n",
       "    </tr>\n",
       "  </thead>\n",
       "  <tbody>\n",
       "    <tr>\n",
       "      <th>0</th>\n",
       "      <td>1</td>\n",
       "      <td>0</td>\n",
       "      <td>0</td>\n",
       "      <td>0</td>\n",
       "      <td>0</td>\n",
       "      <td>0</td>\n",
       "      <td>0</td>\n",
       "      <td>0</td>\n",
       "      <td>0</td>\n",
       "      <td>0</td>\n",
       "      <td>...</td>\n",
       "      <td>0</td>\n",
       "      <td>0</td>\n",
       "      <td>0</td>\n",
       "      <td>0</td>\n",
       "      <td>0</td>\n",
       "      <td>0</td>\n",
       "      <td>0</td>\n",
       "      <td>0</td>\n",
       "      <td>0</td>\n",
       "      <td>0</td>\n",
       "    </tr>\n",
       "    <tr>\n",
       "      <th>1</th>\n",
       "      <td>0</td>\n",
       "      <td>0</td>\n",
       "      <td>0</td>\n",
       "      <td>0</td>\n",
       "      <td>0</td>\n",
       "      <td>0</td>\n",
       "      <td>0</td>\n",
       "      <td>0</td>\n",
       "      <td>0</td>\n",
       "      <td>0</td>\n",
       "      <td>...</td>\n",
       "      <td>0</td>\n",
       "      <td>0</td>\n",
       "      <td>0</td>\n",
       "      <td>0</td>\n",
       "      <td>0</td>\n",
       "      <td>0</td>\n",
       "      <td>0</td>\n",
       "      <td>0</td>\n",
       "      <td>0</td>\n",
       "      <td>0</td>\n",
       "    </tr>\n",
       "    <tr>\n",
       "      <th>2</th>\n",
       "      <td>1</td>\n",
       "      <td>0</td>\n",
       "      <td>0</td>\n",
       "      <td>0</td>\n",
       "      <td>0</td>\n",
       "      <td>0</td>\n",
       "      <td>0</td>\n",
       "      <td>0</td>\n",
       "      <td>0</td>\n",
       "      <td>0</td>\n",
       "      <td>...</td>\n",
       "      <td>0</td>\n",
       "      <td>0</td>\n",
       "      <td>0</td>\n",
       "      <td>0</td>\n",
       "      <td>0</td>\n",
       "      <td>0</td>\n",
       "      <td>0</td>\n",
       "      <td>0</td>\n",
       "      <td>0</td>\n",
       "      <td>0</td>\n",
       "    </tr>\n",
       "    <tr>\n",
       "      <th>3</th>\n",
       "      <td>4</td>\n",
       "      <td>0</td>\n",
       "      <td>0</td>\n",
       "      <td>0</td>\n",
       "      <td>0</td>\n",
       "      <td>0</td>\n",
       "      <td>0</td>\n",
       "      <td>0</td>\n",
       "      <td>0</td>\n",
       "      <td>0</td>\n",
       "      <td>...</td>\n",
       "      <td>0</td>\n",
       "      <td>0</td>\n",
       "      <td>0</td>\n",
       "      <td>0</td>\n",
       "      <td>0</td>\n",
       "      <td>0</td>\n",
       "      <td>0</td>\n",
       "      <td>0</td>\n",
       "      <td>0</td>\n",
       "      <td>0</td>\n",
       "    </tr>\n",
       "    <tr>\n",
       "      <th>4</th>\n",
       "      <td>0</td>\n",
       "      <td>0</td>\n",
       "      <td>0</td>\n",
       "      <td>0</td>\n",
       "      <td>0</td>\n",
       "      <td>0</td>\n",
       "      <td>0</td>\n",
       "      <td>0</td>\n",
       "      <td>0</td>\n",
       "      <td>0</td>\n",
       "      <td>...</td>\n",
       "      <td>0</td>\n",
       "      <td>0</td>\n",
       "      <td>0</td>\n",
       "      <td>0</td>\n",
       "      <td>0</td>\n",
       "      <td>0</td>\n",
       "      <td>0</td>\n",
       "      <td>0</td>\n",
       "      <td>0</td>\n",
       "      <td>0</td>\n",
       "    </tr>\n",
       "  </tbody>\n",
       "</table>\n",
       "<p>5 rows × 785 columns</p>\n",
       "</div>"
      ],
      "text/plain": [
       "   label  pixel0  pixel1  pixel2  pixel3  pixel4  pixel5  pixel6  pixel7  \\\n",
       "0      1       0       0       0       0       0       0       0       0   \n",
       "1      0       0       0       0       0       0       0       0       0   \n",
       "2      1       0       0       0       0       0       0       0       0   \n",
       "3      4       0       0       0       0       0       0       0       0   \n",
       "4      0       0       0       0       0       0       0       0       0   \n",
       "\n",
       "   pixel8  ...  pixel774  pixel775  pixel776  pixel777  pixel778  pixel779  \\\n",
       "0       0  ...         0         0         0         0         0         0   \n",
       "1       0  ...         0         0         0         0         0         0   \n",
       "2       0  ...         0         0         0         0         0         0   \n",
       "3       0  ...         0         0         0         0         0         0   \n",
       "4       0  ...         0         0         0         0         0         0   \n",
       "\n",
       "   pixel780  pixel781  pixel782  pixel783  \n",
       "0         0         0         0         0  \n",
       "1         0         0         0         0  \n",
       "2         0         0         0         0  \n",
       "3         0         0         0         0  \n",
       "4         0         0         0         0  \n",
       "\n",
       "[5 rows x 785 columns]"
      ]
     },
     "execution_count": 6,
     "metadata": {},
     "output_type": "execute_result"
    }
   ],
   "source": [
    "data.head()"
   ]
  },
  {
   "cell_type": "code",
   "execution_count": 6,
   "id": "2d1277e1",
   "metadata": {},
   "outputs": [
    {
     "data": {
      "text/html": [
       "<div>\n",
       "<style scoped>\n",
       "    .dataframe tbody tr th:only-of-type {\n",
       "        vertical-align: middle;\n",
       "    }\n",
       "\n",
       "    .dataframe tbody tr th {\n",
       "        vertical-align: top;\n",
       "    }\n",
       "\n",
       "    .dataframe thead th {\n",
       "        text-align: right;\n",
       "    }\n",
       "</style>\n",
       "<table border=\"1\" class=\"dataframe\">\n",
       "  <thead>\n",
       "    <tr style=\"text-align: right;\">\n",
       "      <th></th>\n",
       "      <th>pixel0</th>\n",
       "      <th>pixel1</th>\n",
       "      <th>pixel2</th>\n",
       "      <th>pixel3</th>\n",
       "      <th>pixel4</th>\n",
       "      <th>pixel5</th>\n",
       "      <th>pixel6</th>\n",
       "      <th>pixel7</th>\n",
       "      <th>pixel8</th>\n",
       "      <th>pixel9</th>\n",
       "      <th>...</th>\n",
       "      <th>pixel774</th>\n",
       "      <th>pixel775</th>\n",
       "      <th>pixel776</th>\n",
       "      <th>pixel777</th>\n",
       "      <th>pixel778</th>\n",
       "      <th>pixel779</th>\n",
       "      <th>pixel780</th>\n",
       "      <th>pixel781</th>\n",
       "      <th>pixel782</th>\n",
       "      <th>pixel783</th>\n",
       "    </tr>\n",
       "  </thead>\n",
       "  <tbody>\n",
       "    <tr>\n",
       "      <th>0</th>\n",
       "      <td>0</td>\n",
       "      <td>0</td>\n",
       "      <td>0</td>\n",
       "      <td>0</td>\n",
       "      <td>0</td>\n",
       "      <td>0</td>\n",
       "      <td>0</td>\n",
       "      <td>0</td>\n",
       "      <td>0</td>\n",
       "      <td>0</td>\n",
       "      <td>...</td>\n",
       "      <td>0</td>\n",
       "      <td>0</td>\n",
       "      <td>0</td>\n",
       "      <td>0</td>\n",
       "      <td>0</td>\n",
       "      <td>0</td>\n",
       "      <td>0</td>\n",
       "      <td>0</td>\n",
       "      <td>0</td>\n",
       "      <td>0</td>\n",
       "    </tr>\n",
       "    <tr>\n",
       "      <th>1</th>\n",
       "      <td>0</td>\n",
       "      <td>0</td>\n",
       "      <td>0</td>\n",
       "      <td>0</td>\n",
       "      <td>0</td>\n",
       "      <td>0</td>\n",
       "      <td>0</td>\n",
       "      <td>0</td>\n",
       "      <td>0</td>\n",
       "      <td>0</td>\n",
       "      <td>...</td>\n",
       "      <td>0</td>\n",
       "      <td>0</td>\n",
       "      <td>0</td>\n",
       "      <td>0</td>\n",
       "      <td>0</td>\n",
       "      <td>0</td>\n",
       "      <td>0</td>\n",
       "      <td>0</td>\n",
       "      <td>0</td>\n",
       "      <td>0</td>\n",
       "    </tr>\n",
       "    <tr>\n",
       "      <th>2</th>\n",
       "      <td>0</td>\n",
       "      <td>0</td>\n",
       "      <td>0</td>\n",
       "      <td>0</td>\n",
       "      <td>0</td>\n",
       "      <td>0</td>\n",
       "      <td>0</td>\n",
       "      <td>0</td>\n",
       "      <td>0</td>\n",
       "      <td>0</td>\n",
       "      <td>...</td>\n",
       "      <td>0</td>\n",
       "      <td>0</td>\n",
       "      <td>0</td>\n",
       "      <td>0</td>\n",
       "      <td>0</td>\n",
       "      <td>0</td>\n",
       "      <td>0</td>\n",
       "      <td>0</td>\n",
       "      <td>0</td>\n",
       "      <td>0</td>\n",
       "    </tr>\n",
       "    <tr>\n",
       "      <th>3</th>\n",
       "      <td>0</td>\n",
       "      <td>0</td>\n",
       "      <td>0</td>\n",
       "      <td>0</td>\n",
       "      <td>0</td>\n",
       "      <td>0</td>\n",
       "      <td>0</td>\n",
       "      <td>0</td>\n",
       "      <td>0</td>\n",
       "      <td>0</td>\n",
       "      <td>...</td>\n",
       "      <td>0</td>\n",
       "      <td>0</td>\n",
       "      <td>0</td>\n",
       "      <td>0</td>\n",
       "      <td>0</td>\n",
       "      <td>0</td>\n",
       "      <td>0</td>\n",
       "      <td>0</td>\n",
       "      <td>0</td>\n",
       "      <td>0</td>\n",
       "    </tr>\n",
       "    <tr>\n",
       "      <th>4</th>\n",
       "      <td>0</td>\n",
       "      <td>0</td>\n",
       "      <td>0</td>\n",
       "      <td>0</td>\n",
       "      <td>0</td>\n",
       "      <td>0</td>\n",
       "      <td>0</td>\n",
       "      <td>0</td>\n",
       "      <td>0</td>\n",
       "      <td>0</td>\n",
       "      <td>...</td>\n",
       "      <td>0</td>\n",
       "      <td>0</td>\n",
       "      <td>0</td>\n",
       "      <td>0</td>\n",
       "      <td>0</td>\n",
       "      <td>0</td>\n",
       "      <td>0</td>\n",
       "      <td>0</td>\n",
       "      <td>0</td>\n",
       "      <td>0</td>\n",
       "    </tr>\n",
       "  </tbody>\n",
       "</table>\n",
       "<p>5 rows × 784 columns</p>\n",
       "</div>"
      ],
      "text/plain": [
       "   pixel0  pixel1  pixel2  pixel3  pixel4  pixel5  pixel6  pixel7  pixel8  \\\n",
       "0       0       0       0       0       0       0       0       0       0   \n",
       "1       0       0       0       0       0       0       0       0       0   \n",
       "2       0       0       0       0       0       0       0       0       0   \n",
       "3       0       0       0       0       0       0       0       0       0   \n",
       "4       0       0       0       0       0       0       0       0       0   \n",
       "\n",
       "   pixel9  ...  pixel774  pixel775  pixel776  pixel777  pixel778  pixel779  \\\n",
       "0       0  ...         0         0         0         0         0         0   \n",
       "1       0  ...         0         0         0         0         0         0   \n",
       "2       0  ...         0         0         0         0         0         0   \n",
       "3       0  ...         0         0         0         0         0         0   \n",
       "4       0  ...         0         0         0         0         0         0   \n",
       "\n",
       "   pixel780  pixel781  pixel782  pixel783  \n",
       "0         0         0         0         0  \n",
       "1         0         0         0         0  \n",
       "2         0         0         0         0  \n",
       "3         0         0         0         0  \n",
       "4         0         0         0         0  \n",
       "\n",
       "[5 rows x 784 columns]"
      ]
     },
     "execution_count": 6,
     "metadata": {},
     "output_type": "execute_result"
    }
   ],
   "source": [
    "test.head()"
   ]
  },
  {
   "cell_type": "markdown",
   "id": "f62f5cbd",
   "metadata": {},
   "source": [
    "**Data Structure**\n",
    "- 28 x 28 = 784 pixel\n",
    "- pixel-value 0-255\n",
    "- x = i * 28 + j,  i and j are integers between 0 and 27\n",
    "- row i and column j \n",
    "- For example,  pixel31 = 4th col, 2nd row"
   ]
  },
  {
   "cell_type": "markdown",
   "id": "eb1caee3-f394-4200-bf72-cfc80594e057",
   "metadata": {},
   "source": [
    "## 2.1 Data Wrangling"
   ]
  },
  {
   "cell_type": "markdown",
   "id": "95026178-f87e-499c-b3e8-3057c5d28051",
   "metadata": {},
   "source": [
    "Convert the dataframe into a numpy array (matrix)"
   ]
  },
  {
   "cell_type": "code",
   "execution_count": 117,
   "id": "93ced0c3",
   "metadata": {},
   "outputs": [
    {
     "name": "stdout",
     "output_type": "stream",
     "text": [
      "X Data Shape is  (42000, 784)\n",
      "y Data Shape is  (42000,)\n",
      "The Data Shape for Prediction is  (10000, 784)\n",
      "--- 0:00:00.152106 time elapsed ---\n"
     ]
    }
   ],
   "source": [
    "start_time = time.time()\n",
    "\n",
    "mnist = np.array(data)\n",
    "mnist_prediction= np.array(test)\n",
    "X, y= mnist[:,1:], mnist[:,0]\n",
    "print(\"X Data Shape is \", X.shape)\n",
    "print(\"y Data Shape is \", y.shape)\n",
    "print(\"The Data Shape for Prediction is \",mnist_prediction.shape)\n",
    "\n",
    "print(\"--- %s time elapsed ---\" % str(timedelta(seconds=time.time() - start_time)))"
   ]
  },
  {
   "cell_type": "markdown",
   "id": "d12e0b1a-ceb8-4154-b83d-880815dd7907",
   "metadata": {},
   "source": [
    "Let's Visualize the pixels data, randomly pick some samples to review the data.\n",
    "\n",
    "What we need here is reshapeing the array data into 28x28 matrix and show the image by matplotlib package"
   ]
  },
  {
   "cell_type": "code",
   "execution_count": 8,
   "id": "4c430221",
   "metadata": {},
   "outputs": [
    {
     "data": {
      "image/png": "[encoded data removed]",
      "text/plain": [
       "<Figure size 432x288 with 100 Axes>"
      ]
     },
     "metadata": {
      "needs_background": "light"
     },
     "output_type": "display_data"
    },
    {
     "name": "stdout",
     "output_type": "stream",
     "text": [
      "--- 0:00:01.553244 time elapsed ---\n"
     ]
    }
   ],
   "source": [
    "start_time = time.time()\n",
    "\n",
    "categories = [\"0\", \"1\", \"2\", \"3\", \"4\", \"5\", \"6\", \"7\", \"8\", \"9\"]\n",
    "num_cat = len(categories)\n",
    "samples = 10\n",
    "for element, cat in enumerate(categories):\n",
    "    idxs = np.nonzero([i == element for i in y])\n",
    "    idxs = np.random.choice(idxs[0], samples, replace=False)\n",
    "    for i , idx in enumerate(idxs):\n",
    "        plt_idx = i * num_cat + element + 1\n",
    "        plt.subplot(samples, num_cat, plt_idx)\n",
    "        plt.imshow(X[idx].reshape((28, 28)))\n",
    "        plt.axis(\"off\")\n",
    "        if i == 0:\n",
    "            plt.title(cat)\n",
    "        \n",
    "plt.show()\n",
    "\n",
    "print(\"--- %s time elapsed ---\" % str(timedelta(seconds=time.time() - start_time)))"
   ]
  },
  {
   "cell_type": "markdown",
   "id": "120f1237-3a91-4b2b-a820-93921fd1df15",
   "metadata": {},
   "source": [
    "After Checking the major dataset, let's check the testing dataset.\n",
    "\n",
    "We randomly pick one in the testing datasetwe, which is the one we need to predict, and visualize it to an image by a function."
   ]
  },
  {
   "cell_type": "code",
   "execution_count": 121,
   "id": "00aab6d5-389a-4c44-a9c7-0fe661271e21",
   "metadata": {},
   "outputs": [],
   "source": [
    "def showBWImage(data,row):\n",
    "    start_time = time.time()\n",
    "    \n",
    "    plt.imshow(data[row].reshape((28,28)))\n",
    "    plt.show()\n",
    "    print(\"--- %s time elapsed ---\" % str(timedelta(seconds=time.time() - start_time)))"
   ]
  },
  {
   "cell_type": "code",
   "execution_count": 122,
   "id": "8040e4dc-6a5d-475b-b52d-862e412e7f8e",
   "metadata": {},
   "outputs": [
    {
     "data": {
      "image/png": "[encoded data removed]",
      "text/plain": [
       "<Figure size 432x288 with 1 Axes>"
      ]
     },
     "metadata": {
      "needs_background": "light"
     },
     "output_type": "display_data"
    },
    {
     "name": "stdout",
     "output_type": "stream",
     "text": [
      "--- 0:00:00.092179 time elapsed ---\n"
     ]
    }
   ],
   "source": [
    "# Randomly pick one in the dataset we will need to predict\n",
    "# And visualize the image\n",
    "showBWImage(mnist_prediction,6666)"
   ]
  },
  {
   "cell_type": "markdown",
   "id": "85fc5d02",
   "metadata": {},
   "source": [
    "# 3. Model"
   ]
  },
  {
   "cell_type": "markdown",
   "id": "c98dbe38",
   "metadata": {},
   "source": [
    "## 3.0 Normalization"
   ]
  },
  {
   "cell_type": "code",
   "execution_count": 124,
   "id": "8f201e28",
   "metadata": {},
   "outputs": [],
   "source": [
    "#Model Training dataset\n",
    "norm_X = X/ 255.0\n",
    "#StandardScaler() to normalize the data\n",
    "scaler = StandardScaler()\n",
    "sc_X = scaler.fit_transform(X)"
   ]
  },
  {
   "cell_type": "markdown",
   "id": "10789072",
   "metadata": {},
   "source": [
    "## 3.1 Split Data"
   ]
  },
  {
   "cell_type": "markdown",
   "id": "dc838225",
   "metadata": {},
   "source": [
    "Spilt the data into training and testing part.\n",
    "Testing part still from mnist data but for evaluate the model"
   ]
  },
  {
   "cell_type": "code",
   "execution_count": 13,
   "id": "1ed4b9c8",
   "metadata": {},
   "outputs": [
    {
     "name": "stdout",
     "output_type": "stream",
     "text": [
      "--- 0:00:00.276620 time elapsed ---\n"
     ]
    }
   ],
   "source": [
    "start_time = time.time()\n",
    "\n",
    "#Using the normalized data to prepare for traning\n",
    "X_train,X_test,y_train,y_test = train_test_split(norm_X,y,test_size=0.25,random_state = 41, stratify=y)\n",
    "#X_train,X_test,y_train,y_test = train_test_split(X,y,test_size=0.25,random_state = 41, stratify=y)\n",
    "\n",
    "print(\"--- %s time elapsed ---\" % str(timedelta(seconds=time.time() - start_time)))"
   ]
  },
  {
   "cell_type": "code",
   "execution_count": 125,
   "id": "8755d33d-935e-48c0-8cad-b2bf3f47bc00",
   "metadata": {},
   "outputs": [
    {
     "name": "stdout",
     "output_type": "stream",
     "text": [
      "--- 0:00:00.271715 time elapsed ---\n"
     ]
    }
   ],
   "source": [
    "start_time = time.time()\n",
    "\n",
    "#Using the StandardScaler() data to prepare for traning\n",
    "sc_X_train,sc_X_test,sc_y_train,sc_y_test = train_test_split(sc_X,y,test_size=0.25,random_state = 41, stratify=y)\n",
    "print(\"--- %s time elapsed ---\" % str(timedelta(seconds=time.time() - start_time)))"
   ]
  },
  {
   "cell_type": "code",
   "execution_count": 68,
   "id": "4229dbb8-7833-4541-874d-1a00dc409476",
   "metadata": {},
   "outputs": [
    {
     "name": "stderr",
     "output_type": "stream",
     "text": [
      "/Users/chiyunchen/opt/anaconda3/lib/python3.8/site-packages/seaborn/_decorators.py:36: FutureWarning: Pass the following variable as a keyword arg: x. From version 0.12, the only valid positional argument will be `data`, and passing other arguments without an explicit keyword will result in an error or misinterpretation.\n",
      "  warnings.warn(\n"
     ]
    },
    {
     "data": {
      "text/plain": [
       "Text(0.5, 1.0, 'Digits Counts')"
      ]
     },
     "execution_count": 68,
     "metadata": {},
     "output_type": "execute_result"
    },
    {
     "data": {
      "image/png": "[encoded data removed]",
      "text/plain": [
       "<Figure size 576x432 with 1 Axes>"
      ]
     },
     "metadata": {
      "needs_background": "light"
     },
     "output_type": "display_data"
    }
   ],
   "source": [
    "plt.figure(figsize=(8,6))\n",
    "ax = sns.countplot(y, palette = \"ch:s=-.5,r=.1\")\n",
    "plt.title(\"Digits Counts\")"
   ]
  },
  {
   "cell_type": "markdown",
   "id": "1e685ef1",
   "metadata": {},
   "source": [
    "## 3.2 Finding the Best Model"
   ]
  },
  {
   "cell_type": "markdown",
   "id": "851cca26",
   "metadata": {},
   "source": [
    "### 3.2.1 Using Plot to Narrow Down the Range of Best K"
   ]
  },
  {
   "cell_type": "markdown",
   "id": "1be69fe9-77e0-4069-b035-21fdb3338262",
   "metadata": {},
   "source": [
    "By the rule of thumb is k < sqrt(n), which n is the number of the training samples.\n",
    "\n",
    "There are 4,2000 * 0.75 = 31,500 images in training data, so k should smaller than sqrt(31,500) = 178.\n",
    "\n",
    "Let's calculate the error for K values between 1 and 40, and visualize the result first, since checking every possibility is expensive.\n"
   ]
  },
  {
   "cell_type": "code",
   "execution_count": 70,
   "id": "679eec86-b3fa-4ad6-ba76-1d4d567eb6b6",
   "metadata": {},
   "outputs": [
    {
     "name": "stdout",
     "output_type": "stream",
     "text": [
      "Computing knn when n_neighbors= 1...\n",
      "Completed this model in 7.73134970664978 Secs.\n",
      "---------------------------------------\n",
      "Computing knn when n_neighbors= 2...\n",
      "Completed this model in 8.285755157470703 Secs.\n",
      "---------------------------------------\n",
      "Computing knn when n_neighbors= 3...\n",
      "Completed this model in 8.746206283569336 Secs.\n",
      "---------------------------------------\n",
      "Computing knn when n_neighbors= 4...\n",
      "Completed this model in 10.353207111358643 Secs.\n",
      "---------------------------------------\n",
      "Computing knn when n_neighbors= 5...\n",
      "Completed this model in 10.297792911529541 Secs.\n",
      "---------------------------------------\n",
      "Computing knn when n_neighbors= 6...\n",
      "Completed this model in 10.387799978256226 Secs.\n",
      "---------------------------------------\n",
      "Computing knn when n_neighbors= 7...\n",
      "Completed this model in 10.270109176635742 Secs.\n",
      "---------------------------------------\n",
      "Computing knn when n_neighbors= 8...\n",
      "Completed this model in 10.382841110229492 Secs.\n",
      "---------------------------------------\n",
      "Computing knn when n_neighbors= 9...\n",
      "Completed this model in 10.600764036178589 Secs.\n",
      "---------------------------------------\n",
      "Computing knn when n_neighbors= 10...\n",
      "Completed this model in 10.836697101593018 Secs.\n",
      "---------------------------------------\n",
      "Computing knn when n_neighbors= 11...\n",
      "Completed this model in 10.616997957229614 Secs.\n",
      "---------------------------------------\n",
      "Computing knn when n_neighbors= 12...\n",
      "Completed this model in 10.471719980239868 Secs.\n",
      "---------------------------------------\n",
      "Computing knn when n_neighbors= 13...\n",
      "Completed this model in 10.573970794677734 Secs.\n",
      "---------------------------------------\n",
      "Computing knn when n_neighbors= 14...\n",
      "Completed this model in 10.620031833648682 Secs.\n",
      "---------------------------------------\n",
      "Computing knn when n_neighbors= 15...\n",
      "Completed this model in 10.65821886062622 Secs.\n",
      "---------------------------------------\n",
      "Computing knn when n_neighbors= 16...\n",
      "Completed this model in 10.634078979492188 Secs.\n",
      "---------------------------------------\n",
      "Computing knn when n_neighbors= 17...\n",
      "Completed this model in 10.581238031387329 Secs.\n",
      "---------------------------------------\n",
      "Computing knn when n_neighbors= 18...\n",
      "Completed this model in 10.63005018234253 Secs.\n",
      "---------------------------------------\n",
      "Computing knn when n_neighbors= 19...\n",
      "Completed this model in 10.727524280548096 Secs.\n",
      "---------------------------------------\n",
      "Computing knn when n_neighbors= 20...\n",
      "Completed this model in 10.73706316947937 Secs.\n",
      "---------------------------------------\n",
      "Computing knn when n_neighbors= 21...\n",
      "Completed this model in 10.740628004074097 Secs.\n",
      "---------------------------------------\n",
      "Computing knn when n_neighbors= 22...\n",
      "Completed this model in 11.181674003601074 Secs.\n",
      "---------------------------------------\n",
      "Computing knn when n_neighbors= 23...\n",
      "Completed this model in 10.672006130218506 Secs.\n",
      "---------------------------------------\n",
      "Computing knn when n_neighbors= 24...\n",
      "Completed this model in 10.697794914245605 Secs.\n",
      "---------------------------------------\n",
      "Computing knn when n_neighbors= 25...\n",
      "Completed this model in 10.662903785705566 Secs.\n",
      "---------------------------------------\n",
      "Computing knn when n_neighbors= 26...\n",
      "Completed this model in 10.666059017181396 Secs.\n",
      "---------------------------------------\n",
      "Computing knn when n_neighbors= 27...\n",
      "Completed this model in 10.66171908378601 Secs.\n",
      "---------------------------------------\n",
      "Computing knn when n_neighbors= 28...\n",
      "Completed this model in 10.633527755737305 Secs.\n",
      "---------------------------------------\n",
      "Computing knn when n_neighbors= 29...\n",
      "Completed this model in 10.656131982803345 Secs.\n",
      "---------------------------------------\n",
      "Computing knn when n_neighbors= 30...\n",
      "Completed this model in 10.693922996520996 Secs.\n",
      "---------------------------------------\n",
      "Computing knn when n_neighbors= 31...\n",
      "Completed this model in 10.76007604598999 Secs.\n",
      "---------------------------------------\n",
      "Computing knn when n_neighbors= 32...\n",
      "Completed this model in 10.94306993484497 Secs.\n",
      "---------------------------------------\n",
      "Computing knn when n_neighbors= 33...\n",
      "Completed this model in 10.867624998092651 Secs.\n",
      "---------------------------------------\n",
      "Computing knn when n_neighbors= 34...\n",
      "Completed this model in 10.784501075744629 Secs.\n",
      "---------------------------------------\n",
      "Computing knn when n_neighbors= 35...\n",
      "Completed this model in 10.778548955917358 Secs.\n",
      "---------------------------------------\n",
      "Computing knn when n_neighbors= 36...\n",
      "Completed this model in 10.830475091934204 Secs.\n",
      "---------------------------------------\n",
      "Computing knn when n_neighbors= 37...\n",
      "Completed this model in 10.67966604232788 Secs.\n",
      "---------------------------------------\n",
      "Computing knn when n_neighbors= 38...\n",
      "Completed this model in 10.89319396018982 Secs.\n",
      "---------------------------------------\n",
      "Computing knn when n_neighbors= 39...\n",
      "Completed this model in 10.859424829483032 Secs.\n",
      "---------------------------------------\n",
      "Completed All Models.\n"
     ]
    }
   ],
   "source": [
    "error = []\n",
    "\n",
    "for i in range(1, 40):\n",
    "    print(\"Computing knn when n_neighbors= \" + str(i) + \"...\")\n",
    "    tic = time.time()\n",
    "    knn = KNeighborsClassifier(n_neighbors=i)\n",
    "    knn.fit(X_train, y_train)\n",
    "    pred_i = knn.predict(X_test)\n",
    "    toc = time.time()\n",
    "    error.append(np.mean(pred_i != y_test))\n",
    "    print(\"Completed this model in \" + str(toc-tic) + \" Secs.\")\n",
    "    print(\"---------------------------------------\")\n",
    "print(\"Completed All Models.\")"
   ]
  },
  {
   "cell_type": "code",
   "execution_count": 71,
   "id": "8d488ab8-1fae-46bd-9300-57366e6ccb16",
   "metadata": {},
   "outputs": [
    {
     "data": {
      "image/png": "[encoded data removed]",
      "text/plain": [
       "<Figure size 864x432 with 1 Axes>"
      ]
     },
     "metadata": {
      "needs_background": "light"
     },
     "output_type": "display_data"
    }
   ],
   "source": [
    "plt.figure(figsize=(12, 6))\n",
    "plt.plot(range(1, 40), error, color='dimgray', linestyle='dotted', marker='.',\n",
    "         markerfacecolor='darkgrey', markersize = 8)\n",
    "plt.title('Error Rate K Value')\n",
    "plt.xlabel('K Value')\n",
    "plt.ylabel('Mean Error')\n",
    "plt.show()"
   ]
  },
  {
   "cell_type": "markdown",
   "id": "f3b557cc",
   "metadata": {},
   "source": [
    "### 3.2.2 Model fitting with K-cross Validation and GridSearchCV"
   ]
  },
  {
   "cell_type": "markdown",
   "id": "32dd4557-408b-4564-9b69-71f76cf395ad",
   "metadata": {},
   "source": [
    "In previous section we know the best model may happened when n_neighbors < 10.\n",
    "\n",
    "When n_neighbors > 15, the mean error wil exceed the maximum error that n_neighbors < 15.\n",
    "\n",
    "Therefore, let's use GridSearchCV() to double check the model that n_neighbors < 15\n",
    "\n",
    "Let's use GridSearchCV() to double check"
   ]
  },
  {
   "cell_type": "code",
   "execution_count": 72,
   "id": "a187e6f9",
   "metadata": {},
   "outputs": [
    {
     "name": "stdout",
     "output_type": "stream",
     "text": [
      "Fitting 10 folds for each of 14 candidates, totalling 140 fits\n",
      "[CV 1/10] END .................................n_neighbors=1; total time=   2.3s\n",
      "[CV 2/10] END .................................n_neighbors=1; total time=   2.2s\n",
      "[CV 3/10] END .................................n_neighbors=1; total time=   2.2s\n",
      "[CV 4/10] END .................................n_neighbors=1; total time=   2.2s\n",
      "[CV 5/10] END .................................n_neighbors=1; total time=   2.2s\n",
      "[CV 6/10] END .................................n_neighbors=1; total time=   2.2s\n",
      "[CV 7/10] END .................................n_neighbors=1; total time=   2.2s\n",
      "[CV 8/10] END .................................n_neighbors=1; total time=   2.3s\n",
      "[CV 9/10] END .................................n_neighbors=1; total time=   2.2s\n",
      "[CV 10/10] END ................................n_neighbors=1; total time=   2.1s\n",
      "[CV 1/10] END .................................n_neighbors=2; total time=   2.3s\n",
      "[CV 2/10] END .................................n_neighbors=2; total time=   2.3s\n",
      "[CV 3/10] END .................................n_neighbors=2; total time=   2.3s\n",
      "[CV 4/10] END .................................n_neighbors=2; total time=   2.3s\n",
      "[CV 5/10] END .................................n_neighbors=2; total time=   2.4s\n",
      "[CV 6/10] END .................................n_neighbors=2; total time=   2.3s\n",
      "[CV 7/10] END .................................n_neighbors=2; total time=   2.3s\n",
      "[CV 8/10] END .................................n_neighbors=2; total time=   2.3s\n",
      "[CV 9/10] END .................................n_neighbors=2; total time=   2.3s\n",
      "[CV 10/10] END ................................n_neighbors=2; total time=   2.3s\n",
      "[CV 1/10] END .................................n_neighbors=3; total time=   2.5s\n",
      "[CV 2/10] END .................................n_neighbors=3; total time=   2.6s\n",
      "[CV 3/10] END .................................n_neighbors=3; total time=   2.6s\n",
      "[CV 4/10] END .................................n_neighbors=3; total time=   2.5s\n",
      "[CV 5/10] END .................................n_neighbors=3; total time=   2.5s\n",
      "[CV 6/10] END .................................n_neighbors=3; total time=   2.5s\n",
      "[CV 7/10] END .................................n_neighbors=3; total time=   2.4s\n",
      "[CV 8/10] END .................................n_neighbors=3; total time=   2.5s\n",
      "[CV 9/10] END .................................n_neighbors=3; total time=   2.5s\n",
      "[CV 10/10] END ................................n_neighbors=3; total time=   2.5s\n",
      "[CV 1/10] END .................................n_neighbors=4; total time=   3.2s\n",
      "[CV 2/10] END .................................n_neighbors=4; total time=   3.0s\n",
      "[CV 3/10] END .................................n_neighbors=4; total time=   3.0s\n",
      "[CV 4/10] END .................................n_neighbors=4; total time=   3.0s\n",
      "[CV 5/10] END .................................n_neighbors=4; total time=   2.9s\n",
      "[CV 6/10] END .................................n_neighbors=4; total time=   2.8s\n",
      "[CV 7/10] END .................................n_neighbors=4; total time=   2.8s\n",
      "[CV 8/10] END .................................n_neighbors=4; total time=   2.8s\n",
      "[CV 9/10] END .................................n_neighbors=4; total time=   2.8s\n",
      "[CV 10/10] END ................................n_neighbors=4; total time=   3.0s\n",
      "[CV 1/10] END .................................n_neighbors=5; total time=   2.9s\n",
      "[CV 2/10] END .................................n_neighbors=5; total time=   2.9s\n",
      "[CV 3/10] END .................................n_neighbors=5; total time=   3.0s\n",
      "[CV 4/10] END .................................n_neighbors=5; total time=   2.9s\n",
      "[CV 5/10] END .................................n_neighbors=5; total time=   3.0s\n",
      "[CV 6/10] END .................................n_neighbors=5; total time=   2.8s\n",
      "[CV 7/10] END .................................n_neighbors=5; total time=   2.8s\n",
      "[CV 8/10] END .................................n_neighbors=5; total time=   2.8s\n",
      "[CV 9/10] END .................................n_neighbors=5; total time=   2.8s\n",
      "[CV 10/10] END ................................n_neighbors=5; total time=   2.8s\n",
      "[CV 1/10] END .................................n_neighbors=6; total time=   2.9s\n",
      "[CV 2/10] END .................................n_neighbors=6; total time=   3.0s\n",
      "[CV 3/10] END .................................n_neighbors=6; total time=   2.9s\n",
      "[CV 4/10] END .................................n_neighbors=6; total time=   2.9s\n",
      "[CV 5/10] END .................................n_neighbors=6; total time=   2.9s\n",
      "[CV 6/10] END .................................n_neighbors=6; total time=   2.9s\n",
      "[CV 7/10] END .................................n_neighbors=6; total time=   2.8s\n",
      "[CV 8/10] END .................................n_neighbors=6; total time=   2.9s\n",
      "[CV 9/10] END .................................n_neighbors=6; total time=   2.9s\n",
      "[CV 10/10] END ................................n_neighbors=6; total time=   2.9s\n",
      "[CV 1/10] END .................................n_neighbors=7; total time=   3.0s\n",
      "[CV 2/10] END .................................n_neighbors=7; total time=   3.0s\n",
      "[CV 3/10] END .................................n_neighbors=7; total time=   2.9s\n",
      "[CV 4/10] END .................................n_neighbors=7; total time=   3.0s\n",
      "[CV 5/10] END .................................n_neighbors=7; total time=   3.0s\n",
      "[CV 6/10] END .................................n_neighbors=7; total time=   2.8s\n",
      "[CV 7/10] END .................................n_neighbors=7; total time=   2.9s\n",
      "[CV 8/10] END .................................n_neighbors=7; total time=   2.9s\n",
      "[CV 9/10] END .................................n_neighbors=7; total time=   2.8s\n",
      "[CV 10/10] END ................................n_neighbors=7; total time=   2.9s\n",
      "[CV 1/10] END .................................n_neighbors=8; total time=   3.0s\n",
      "[CV 2/10] END .................................n_neighbors=8; total time=   3.0s\n",
      "[CV 3/10] END .................................n_neighbors=8; total time=   3.0s\n",
      "[CV 4/10] END .................................n_neighbors=8; total time=   3.1s\n",
      "[CV 5/10] END .................................n_neighbors=8; total time=   3.0s\n",
      "[CV 6/10] END .................................n_neighbors=8; total time=   2.8s\n",
      "[CV 7/10] END .................................n_neighbors=8; total time=   2.9s\n",
      "[CV 8/10] END .................................n_neighbors=8; total time=   3.0s\n",
      "[CV 9/10] END .................................n_neighbors=8; total time=   2.9s\n",
      "[CV 10/10] END ................................n_neighbors=8; total time=   2.9s\n",
      "[CV 1/10] END .................................n_neighbors=9; total time=   2.9s\n",
      "[CV 2/10] END .................................n_neighbors=9; total time=   3.0s\n",
      "[CV 3/10] END .................................n_neighbors=9; total time=   3.0s\n",
      "[CV 4/10] END .................................n_neighbors=9; total time=   3.0s\n",
      "[CV 5/10] END .................................n_neighbors=9; total time=   3.0s\n",
      "[CV 6/10] END .................................n_neighbors=9; total time=   2.8s\n",
      "[CV 7/10] END .................................n_neighbors=9; total time=   2.8s\n",
      "[CV 8/10] END .................................n_neighbors=9; total time=   2.8s\n",
      "[CV 9/10] END .................................n_neighbors=9; total time=   2.9s\n",
      "[CV 10/10] END ................................n_neighbors=9; total time=   2.9s\n",
      "[CV 1/10] END ................................n_neighbors=10; total time=   2.9s\n",
      "[CV 2/10] END ................................n_neighbors=10; total time=   2.9s\n",
      "[CV 3/10] END ................................n_neighbors=10; total time=   2.9s\n",
      "[CV 4/10] END ................................n_neighbors=10; total time=   3.0s\n",
      "[CV 5/10] END ................................n_neighbors=10; total time=   3.0s\n",
      "[CV 6/10] END ................................n_neighbors=10; total time=   2.8s\n",
      "[CV 7/10] END ................................n_neighbors=10; total time=   2.9s\n",
      "[CV 8/10] END ................................n_neighbors=10; total time=   2.8s\n",
      "[CV 9/10] END ................................n_neighbors=10; total time=   2.8s\n",
      "[CV 10/10] END ...............................n_neighbors=10; total time=   3.0s\n",
      "[CV 1/10] END ................................n_neighbors=11; total time=   3.0s\n",
      "[CV 2/10] END ................................n_neighbors=11; total time=   3.0s\n",
      "[CV 3/10] END ................................n_neighbors=11; total time=   3.0s\n",
      "[CV 4/10] END ................................n_neighbors=11; total time=   3.0s\n",
      "[CV 5/10] END ................................n_neighbors=11; total time=   3.1s\n",
      "[CV 6/10] END ................................n_neighbors=11; total time=   2.8s\n",
      "[CV 7/10] END ................................n_neighbors=11; total time=   2.8s\n",
      "[CV 8/10] END ................................n_neighbors=11; total time=   2.9s\n",
      "[CV 9/10] END ................................n_neighbors=11; total time=   2.8s\n",
      "[CV 10/10] END ...............................n_neighbors=11; total time=   2.9s\n",
      "[CV 1/10] END ................................n_neighbors=12; total time=   2.9s\n",
      "[CV 2/10] END ................................n_neighbors=12; total time=   3.1s\n",
      "[CV 3/10] END ................................n_neighbors=12; total time=   3.0s\n",
      "[CV 4/10] END ................................n_neighbors=12; total time=   3.2s\n",
      "[CV 5/10] END ................................n_neighbors=12; total time=   3.2s\n",
      "[CV 6/10] END ................................n_neighbors=12; total time=   2.9s\n",
      "[CV 7/10] END ................................n_neighbors=12; total time=   2.8s\n",
      "[CV 8/10] END ................................n_neighbors=12; total time=   2.9s\n",
      "[CV 9/10] END ................................n_neighbors=12; total time=   2.9s\n",
      "[CV 10/10] END ...............................n_neighbors=12; total time=   2.9s\n",
      "[CV 1/10] END ................................n_neighbors=13; total time=   3.1s\n",
      "[CV 2/10] END ................................n_neighbors=13; total time=   3.0s\n",
      "[CV 3/10] END ................................n_neighbors=13; total time=   3.0s\n",
      "[CV 4/10] END ................................n_neighbors=13; total time=   3.0s\n",
      "[CV 5/10] END ................................n_neighbors=13; total time=   3.0s\n",
      "[CV 6/10] END ................................n_neighbors=13; total time=   2.8s\n",
      "[CV 7/10] END ................................n_neighbors=13; total time=   3.0s\n",
      "[CV 8/10] END ................................n_neighbors=13; total time=   2.9s\n",
      "[CV 9/10] END ................................n_neighbors=13; total time=   2.8s\n",
      "[CV 10/10] END ...............................n_neighbors=13; total time=   2.9s\n",
      "[CV 1/10] END ................................n_neighbors=14; total time=   3.0s\n",
      "[CV 2/10] END ................................n_neighbors=14; total time=   3.0s\n",
      "[CV 3/10] END ................................n_neighbors=14; total time=   3.0s\n",
      "[CV 4/10] END ................................n_neighbors=14; total time=   3.0s\n",
      "[CV 5/10] END ................................n_neighbors=14; total time=   3.0s\n",
      "[CV 6/10] END ................................n_neighbors=14; total time=   2.9s\n",
      "[CV 7/10] END ................................n_neighbors=14; total time=   2.9s\n",
      "[CV 8/10] END ................................n_neighbors=14; total time=   2.9s\n",
      "[CV 9/10] END ................................n_neighbors=14; total time=   2.9s\n",
      "[CV 10/10] END ...............................n_neighbors=14; total time=   2.9s\n"
     ]
    }
   ],
   "source": [
    "knn = KNeighborsClassifier()\n",
    "parameters = {\"n_neighbors\": range(1, 15)}\n",
    "# Evaluate an algorithm using a cross Validation and set folds = 10\n",
    "gridsearch = GridSearchCV(knn, parameters, cv=10,scoring='accuracy',verbose=3)\n",
    "gridsearch_result = gridsearch.fit(X_train, y_train)"
   ]
  },
  {
   "cell_type": "code",
   "execution_count": 128,
   "id": "88735417-7bb8-4801-a50a-7a42aa8e7ce0",
   "metadata": {},
   "outputs": [
    {
     "name": "stdout",
     "output_type": "stream",
     "text": [
      "Fitting 10 folds for each of 14 candidates, totalling 140 fits\n",
      "[CV 1/10] END .................................n_neighbors=1; total time=   2.5s\n",
      "[CV 2/10] END .................................n_neighbors=1; total time=   2.2s\n",
      "[CV 3/10] END .................................n_neighbors=1; total time=   2.2s\n",
      "[CV 4/10] END .................................n_neighbors=1; total time=   2.2s\n",
      "[CV 5/10] END .................................n_neighbors=1; total time=   2.2s\n",
      "[CV 6/10] END .................................n_neighbors=1; total time=   2.2s\n",
      "[CV 7/10] END .................................n_neighbors=1; total time=   2.2s\n",
      "[CV 8/10] END .................................n_neighbors=1; total time=   2.2s\n",
      "[CV 9/10] END .................................n_neighbors=1; total time=   2.3s\n",
      "[CV 10/10] END ................................n_neighbors=1; total time=   2.3s\n",
      "[CV 1/10] END .................................n_neighbors=2; total time=   2.4s\n",
      "[CV 2/10] END .................................n_neighbors=2; total time=   2.4s\n",
      "[CV 3/10] END .................................n_neighbors=2; total time=   2.5s\n",
      "[CV 4/10] END .................................n_neighbors=2; total time=   2.5s\n",
      "[CV 5/10] END .................................n_neighbors=2; total time=   2.4s\n",
      "[CV 6/10] END .................................n_neighbors=2; total time=   2.4s\n",
      "[CV 7/10] END .................................n_neighbors=2; total time=   2.5s\n",
      "[CV 8/10] END .................................n_neighbors=2; total time=   2.4s\n",
      "[CV 9/10] END .................................n_neighbors=2; total time=   2.5s\n",
      "[CV 10/10] END ................................n_neighbors=2; total time=   2.5s\n",
      "[CV 1/10] END .................................n_neighbors=3; total time=   2.6s\n",
      "[CV 2/10] END .................................n_neighbors=3; total time=   2.6s\n",
      "[CV 3/10] END .................................n_neighbors=3; total time=   2.6s\n",
      "[CV 4/10] END .................................n_neighbors=3; total time=   2.7s\n",
      "[CV 5/10] END .................................n_neighbors=3; total time=   2.6s\n",
      "[CV 6/10] END .................................n_neighbors=3; total time=   2.6s\n",
      "[CV 7/10] END .................................n_neighbors=3; total time=   2.6s\n",
      "[CV 8/10] END .................................n_neighbors=3; total time=   2.7s\n",
      "[CV 9/10] END .................................n_neighbors=3; total time=   2.7s\n",
      "[CV 10/10] END ................................n_neighbors=3; total time=   2.6s\n",
      "[CV 1/10] END .................................n_neighbors=4; total time=   3.0s\n",
      "[CV 2/10] END .................................n_neighbors=4; total time=   3.0s\n",
      "[CV 3/10] END .................................n_neighbors=4; total time=   3.0s\n",
      "[CV 4/10] END .................................n_neighbors=4; total time=   3.1s\n",
      "[CV 5/10] END .................................n_neighbors=4; total time=   3.2s\n",
      "[CV 6/10] END .................................n_neighbors=4; total time=   2.8s\n",
      "[CV 7/10] END .................................n_neighbors=4; total time=   2.8s\n",
      "[CV 8/10] END .................................n_neighbors=4; total time=   2.8s\n",
      "[CV 9/10] END .................................n_neighbors=4; total time=   2.8s\n",
      "[CV 10/10] END ................................n_neighbors=4; total time=   2.8s\n",
      "[CV 1/10] END .................................n_neighbors=5; total time=   3.0s\n",
      "[CV 2/10] END .................................n_neighbors=5; total time=   3.0s\n",
      "[CV 3/10] END .................................n_neighbors=5; total time=   3.1s\n",
      "[CV 4/10] END .................................n_neighbors=5; total time=   3.1s\n",
      "[CV 5/10] END .................................n_neighbors=5; total time=   3.0s\n",
      "[CV 6/10] END .................................n_neighbors=5; total time=   2.8s\n",
      "[CV 7/10] END .................................n_neighbors=5; total time=   2.8s\n",
      "[CV 8/10] END .................................n_neighbors=5; total time=   2.8s\n",
      "[CV 9/10] END .................................n_neighbors=5; total time=   2.8s\n",
      "[CV 10/10] END ................................n_neighbors=5; total time=   2.8s\n",
      "[CV 1/10] END .................................n_neighbors=6; total time=   3.0s\n",
      "[CV 2/10] END .................................n_neighbors=6; total time=   3.0s\n",
      "[CV 3/10] END .................................n_neighbors=6; total time=   3.0s\n",
      "[CV 4/10] END .................................n_neighbors=6; total time=   3.0s\n",
      "[CV 5/10] END .................................n_neighbors=6; total time=   3.0s\n",
      "[CV 6/10] END .................................n_neighbors=6; total time=   2.8s\n",
      "[CV 7/10] END .................................n_neighbors=6; total time=   2.8s\n",
      "[CV 8/10] END .................................n_neighbors=6; total time=   2.8s\n",
      "[CV 9/10] END .................................n_neighbors=6; total time=   2.8s\n",
      "[CV 10/10] END ................................n_neighbors=6; total time=   2.8s\n",
      "[CV 1/10] END .................................n_neighbors=7; total time=   3.0s\n",
      "[CV 2/10] END .................................n_neighbors=7; total time=   3.1s\n",
      "[CV 3/10] END .................................n_neighbors=7; total time=   3.0s\n",
      "[CV 4/10] END .................................n_neighbors=7; total time=   3.1s\n",
      "[CV 5/10] END .................................n_neighbors=7; total time=   3.0s\n",
      "[CV 6/10] END .................................n_neighbors=7; total time=   2.8s\n",
      "[CV 7/10] END .................................n_neighbors=7; total time=   2.8s\n",
      "[CV 8/10] END .................................n_neighbors=7; total time=   2.8s\n",
      "[CV 9/10] END .................................n_neighbors=7; total time=   2.8s\n",
      "[CV 10/10] END ................................n_neighbors=7; total time=   2.8s\n",
      "[CV 1/10] END .................................n_neighbors=8; total time=   3.1s\n",
      "[CV 2/10] END .................................n_neighbors=8; total time=   3.1s\n",
      "[CV 3/10] END .................................n_neighbors=8; total time=   3.1s\n",
      "[CV 4/10] END .................................n_neighbors=8; total time=   3.0s\n",
      "[CV 5/10] END .................................n_neighbors=8; total time=   3.0s\n",
      "[CV 6/10] END .................................n_neighbors=8; total time=   2.8s\n",
      "[CV 7/10] END .................................n_neighbors=8; total time=   2.8s\n",
      "[CV 8/10] END .................................n_neighbors=8; total time=   2.8s\n",
      "[CV 9/10] END .................................n_neighbors=8; total time=   2.8s\n",
      "[CV 10/10] END ................................n_neighbors=8; total time=   2.8s\n",
      "[CV 1/10] END .................................n_neighbors=9; total time=   3.0s\n",
      "[CV 2/10] END .................................n_neighbors=9; total time=   3.2s\n",
      "[CV 3/10] END .................................n_neighbors=9; total time=   3.1s\n",
      "[CV 4/10] END .................................n_neighbors=9; total time=   3.1s\n",
      "[CV 5/10] END .................................n_neighbors=9; total time=   3.1s\n",
      "[CV 6/10] END .................................n_neighbors=9; total time=   2.8s\n",
      "[CV 7/10] END .................................n_neighbors=9; total time=   2.8s\n",
      "[CV 8/10] END .................................n_neighbors=9; total time=   2.8s\n",
      "[CV 9/10] END .................................n_neighbors=9; total time=   2.8s\n",
      "[CV 10/10] END ................................n_neighbors=9; total time=   2.8s\n",
      "[CV 1/10] END ................................n_neighbors=10; total time=   3.0s\n",
      "[CV 2/10] END ................................n_neighbors=10; total time=   3.1s\n",
      "[CV 3/10] END ................................n_neighbors=10; total time=   3.1s\n",
      "[CV 4/10] END ................................n_neighbors=10; total time=   3.1s\n",
      "[CV 5/10] END ................................n_neighbors=10; total time=   3.1s\n",
      "[CV 6/10] END ................................n_neighbors=10; total time=   2.8s\n",
      "[CV 7/10] END ................................n_neighbors=10; total time=   2.8s\n",
      "[CV 8/10] END ................................n_neighbors=10; total time=   2.8s\n",
      "[CV 9/10] END ................................n_neighbors=10; total time=   2.8s\n",
      "[CV 10/10] END ...............................n_neighbors=10; total time=   2.8s\n",
      "[CV 1/10] END ................................n_neighbors=11; total time=   3.0s\n",
      "[CV 2/10] END ................................n_neighbors=11; total time=   3.1s\n",
      "[CV 3/10] END ................................n_neighbors=11; total time=   3.1s\n",
      "[CV 4/10] END ................................n_neighbors=11; total time=   3.1s\n",
      "[CV 5/10] END ................................n_neighbors=11; total time=   3.1s\n",
      "[CV 6/10] END ................................n_neighbors=11; total time=   2.8s\n",
      "[CV 7/10] END ................................n_neighbors=11; total time=   2.9s\n",
      "[CV 8/10] END ................................n_neighbors=11; total time=   2.8s\n",
      "[CV 9/10] END ................................n_neighbors=11; total time=   2.8s\n",
      "[CV 10/10] END ...............................n_neighbors=11; total time=   2.8s\n",
      "[CV 1/10] END ................................n_neighbors=12; total time=   3.0s\n",
      "[CV 2/10] END ................................n_neighbors=12; total time=   3.1s\n",
      "[CV 3/10] END ................................n_neighbors=12; total time=   3.1s\n",
      "[CV 4/10] END ................................n_neighbors=12; total time=   3.1s\n",
      "[CV 5/10] END ................................n_neighbors=12; total time=   3.1s\n",
      "[CV 6/10] END ................................n_neighbors=12; total time=   2.8s\n",
      "[CV 7/10] END ................................n_neighbors=12; total time=   2.9s\n",
      "[CV 8/10] END ................................n_neighbors=12; total time=   2.8s\n",
      "[CV 9/10] END ................................n_neighbors=12; total time=   2.8s\n",
      "[CV 10/10] END ...............................n_neighbors=12; total time=   2.8s\n",
      "[CV 1/10] END ................................n_neighbors=13; total time=   3.0s\n",
      "[CV 2/10] END ................................n_neighbors=13; total time=   3.1s\n",
      "[CV 3/10] END ................................n_neighbors=13; total time=   3.1s\n",
      "[CV 4/10] END ................................n_neighbors=13; total time=   3.1s\n",
      "[CV 5/10] END ................................n_neighbors=13; total time=   3.1s\n",
      "[CV 6/10] END ................................n_neighbors=13; total time=   2.8s\n",
      "[CV 7/10] END ................................n_neighbors=13; total time=   2.8s\n",
      "[CV 8/10] END ................................n_neighbors=13; total time=   2.8s\n",
      "[CV 9/10] END ................................n_neighbors=13; total time=   2.9s\n",
      "[CV 10/10] END ...............................n_neighbors=13; total time=   2.9s\n",
      "[CV 1/10] END ................................n_neighbors=14; total time=   3.1s\n",
      "[CV 2/10] END ................................n_neighbors=14; total time=   3.1s\n",
      "[CV 3/10] END ................................n_neighbors=14; total time=   3.1s\n",
      "[CV 4/10] END ................................n_neighbors=14; total time=   3.1s\n",
      "[CV 5/10] END ................................n_neighbors=14; total time=   3.2s\n",
      "[CV 6/10] END ................................n_neighbors=14; total time=   2.9s\n",
      "[CV 7/10] END ................................n_neighbors=14; total time=   3.0s\n",
      "[CV 8/10] END ................................n_neighbors=14; total time=   2.9s\n",
      "[CV 9/10] END ................................n_neighbors=14; total time=   2.9s\n",
      "[CV 10/10] END ...............................n_neighbors=14; total time=   2.8s\n"
     ]
    }
   ],
   "source": [
    "knn = KNeighborsClassifier()\n",
    "parameters = {\"n_neighbors\": range(1, 15)}\n",
    "# Evaluate an algorithm using a cross Validation and set folds = 10\n",
    "sc_gridsearch = GridSearchCV(knn, parameters, cv=10,scoring='accuracy',verbose=0)\n",
    "sc_gridsearch_result = gridsearch.fit(sc_X_train, sc_y_train)"
   ]
  },
  {
   "cell_type": "markdown",
   "id": "41243af3-9739-41f0-ad64-57651d2d425e",
   "metadata": {},
   "source": [
    "#### Get the best Parameters of the Model"
   ]
  },
  {
   "cell_type": "code",
   "execution_count": 73,
   "id": "6684b8dd",
   "metadata": {},
   "outputs": [
    {
     "name": "stdout",
     "output_type": "stream",
     "text": [
      "Best Parameters of the Model is:  {'n_neighbors': 3}\n",
      "Accuarcy : 96.59%\n"
     ]
    }
   ],
   "source": [
    "accuracy = gridsearch_result.best_score_*100\n",
    "print(\"Best Parameters of the Model is: \",gridsearch_result.best_params_)\n",
    "print(\"Accuarcy : {:.2f}%\".format(accuracy))"
   ]
  },
  {
   "cell_type": "code",
   "execution_count": 129,
   "id": "fd872ddc-75f0-4c40-9042-74c824e5d150",
   "metadata": {},
   "outputs": [
    {
     "name": "stdout",
     "output_type": "stream",
     "text": [
      "Best Parameters of the Model is:  {'n_neighbors': 1}\n",
      "Accuarcy : 93.58%\n"
     ]
    }
   ],
   "source": [
    "accuracy = sc_gridsearch_result.best_score_*100\n",
    "print(\"Best Parameters of the Model is: \",gridsearch_result.best_params_)\n",
    "print(\"Accuarcy : {:.2f}%\".format(accuracy))"
   ]
  },
  {
   "cell_type": "markdown",
   "id": "4e68f18f-6d45-4910-975c-1842870116e3",
   "metadata": {},
   "source": [
    "#### Visulization of Result of Cross Validation"
   ]
  },
  {
   "cell_type": "code",
   "execution_count": 88,
   "id": "8a0ebd40-d03c-4486-a4fb-c58c784043bf",
   "metadata": {},
   "outputs": [
    {
     "data": {
      "text/html": [
       "<div>\n",
       "<style scoped>\n",
       "    .dataframe tbody tr th:only-of-type {\n",
       "        vertical-align: middle;\n",
       "    }\n",
       "\n",
       "    .dataframe tbody tr th {\n",
       "        vertical-align: top;\n",
       "    }\n",
       "\n",
       "    .dataframe thead th {\n",
       "        text-align: right;\n",
       "    }\n",
       "</style>\n",
       "<table border=\"1\" class=\"dataframe\">\n",
       "  <thead>\n",
       "    <tr style=\"text-align: right;\">\n",
       "      <th></th>\n",
       "      <th>n_neighbors</th>\n",
       "      <th>Accuracy</th>\n",
       "    </tr>\n",
       "  </thead>\n",
       "  <tbody>\n",
       "    <tr>\n",
       "      <th>0</th>\n",
       "      <td>1</td>\n",
       "      <td>0.963968</td>\n",
       "    </tr>\n",
       "    <tr>\n",
       "      <th>1</th>\n",
       "      <td>2</td>\n",
       "      <td>0.958254</td>\n",
       "    </tr>\n",
       "    <tr>\n",
       "      <th>2</th>\n",
       "      <td>3</td>\n",
       "      <td>0.965937</td>\n",
       "    </tr>\n",
       "    <tr>\n",
       "      <th>3</th>\n",
       "      <td>4</td>\n",
       "      <td>0.964508</td>\n",
       "    </tr>\n",
       "    <tr>\n",
       "      <th>4</th>\n",
       "      <td>5</td>\n",
       "      <td>0.965238</td>\n",
       "    </tr>\n",
       "    <tr>\n",
       "      <th>5</th>\n",
       "      <td>6</td>\n",
       "      <td>0.964381</td>\n",
       "    </tr>\n",
       "    <tr>\n",
       "      <th>6</th>\n",
       "      <td>7</td>\n",
       "      <td>0.963556</td>\n",
       "    </tr>\n",
       "    <tr>\n",
       "      <th>7</th>\n",
       "      <td>8</td>\n",
       "      <td>0.961968</td>\n",
       "    </tr>\n",
       "    <tr>\n",
       "      <th>8</th>\n",
       "      <td>9</td>\n",
       "      <td>0.961746</td>\n",
       "    </tr>\n",
       "    <tr>\n",
       "      <th>9</th>\n",
       "      <td>10</td>\n",
       "      <td>0.960286</td>\n",
       "    </tr>\n",
       "    <tr>\n",
       "      <th>10</th>\n",
       "      <td>11</td>\n",
       "      <td>0.959365</td>\n",
       "    </tr>\n",
       "    <tr>\n",
       "      <th>11</th>\n",
       "      <td>12</td>\n",
       "      <td>0.958349</td>\n",
       "    </tr>\n",
       "    <tr>\n",
       "      <th>12</th>\n",
       "      <td>13</td>\n",
       "      <td>0.957397</td>\n",
       "    </tr>\n",
       "    <tr>\n",
       "      <th>13</th>\n",
       "      <td>14</td>\n",
       "      <td>0.956984</td>\n",
       "    </tr>\n",
       "  </tbody>\n",
       "</table>\n",
       "</div>"
      ],
      "text/plain": [
       "    n_neighbors  Accuracy\n",
       "0             1  0.963968\n",
       "1             2  0.958254\n",
       "2             3  0.965937\n",
       "3             4  0.964508\n",
       "4             5  0.965238\n",
       "5             6  0.964381\n",
       "6             7  0.963556\n",
       "7             8  0.961968\n",
       "8             9  0.961746\n",
       "9            10  0.960286\n",
       "10           11  0.959365\n",
       "11           12  0.958349\n",
       "12           13  0.957397\n",
       "13           14  0.956984"
      ]
     },
     "execution_count": 88,
     "metadata": {},
     "output_type": "execute_result"
    }
   ],
   "source": [
    "cv_resultDF = pd.concat([pd.DataFrame(gridsearch_result.cv_results_[\"params\"]),pd.DataFrame(gridsearch_result.cv_results_[\"mean_test_score\"], columns=[\"Accuracy\"])],axis=1)\n",
    "cv_resultDF"
   ]
  },
  {
   "cell_type": "code",
   "execution_count": 91,
   "id": "bbe7cf7f-cbc8-49eb-b1cf-3bb5f36585f9",
   "metadata": {},
   "outputs": [
    {
     "data": {
      "image/png": "[encoded data removed]",
      "text/plain": [
       "<Figure size 432x288 with 1 Axes>"
      ]
     },
     "metadata": {
      "needs_background": "light"
     },
     "output_type": "display_data"
    }
   ],
   "source": [
    "x = cv_resultDF['n_neighbors']\n",
    "y = cv_resultDF['Accuracy']*100\n",
    "plt.plot(x, y, color='dimgray', linestyle='dotted', marker='.',\n",
    "         markerfacecolor='darkgrey', markersize = 8)\n",
    "plt.xticks(x)\n",
    "plt.show()"
   ]
  },
  {
   "cell_type": "markdown",
   "id": "e9dde578-8655-4dff-974f-e9a37334403d",
   "metadata": {},
   "source": [
    "From the result of GridSearchCV(), we got that n_neighbors = 3 has the best model.\n",
    "\n",
    "However, n_neighbors = 4 and 5 also have a accuracy.\n",
    "\n",
    "Since the result is very closed, we will discuss the n_neighbors = 3, 4 ,and 5 in the testing data."
   ]
  },
  {
   "cell_type": "code",
   "execution_count": 130,
   "id": "8c0a769c-be18-4522-9c46-e90bb3b600eb",
   "metadata": {},
   "outputs": [
    {
     "data": {
      "image/png": "[encoded data removed]",
      "text/plain": [
       "<Figure size 432x288 with 1 Axes>"
      ]
     },
     "metadata": {
      "needs_background": "light"
     },
     "output_type": "display_data"
    }
   ],
   "source": [
    "sc_cv_resultDF = pd.concat([pd.DataFrame(sc_gridsearch_result.cv_results_[\"params\"]),pd.DataFrame(sc_gridsearch_result.cv_results_[\"mean_test_score\"], columns=[\"Accuracy\"])],axis=1)\n",
    "x = sc_cv_resultDF['n_neighbors']\n",
    "y = sc_cv_resultDF['Accuracy']*100\n",
    "plt.plot(x, y, color='dimgray', linestyle='dotted', marker='.',\n",
    "         markerfacecolor='darkgrey', markersize = 8)\n",
    "plt.xticks(x)\n",
    "plt.show()"
   ]
  },
  {
   "cell_type": "markdown",
   "id": "6f7c2c30-5ef3-4aed-90f5-3ce0cd3ecfda",
   "metadata": {},
   "source": [
    "And We also scaled data by StandardScaler() to run the model.\n",
    "\n",
    "We can clearly see that tha performance of normalized data is better than scaled data.\n",
    "\n",
    "Thus, we will use the normalized data to conduct further analysis."
   ]
  },
  {
   "cell_type": "markdown",
   "id": "c3ed9869",
   "metadata": {},
   "source": [
    "### 3.2.3 Checking Accuracy on Testing Data"
   ]
  },
  {
   "cell_type": "markdown",
   "id": "f1326489",
   "metadata": {},
   "source": [
    "#### n_neighbors=3"
   ]
  },
  {
   "cell_type": "markdown",
   "id": "ebff2b83-f346-4c12-93b3-5bc892cf9aa1",
   "metadata": {},
   "source": [
    "**Training Model**"
   ]
  },
  {
   "cell_type": "code",
   "execution_count": 92,
   "id": "cd7a4b28",
   "metadata": {
    "scrolled": true
   },
   "outputs": [
    {
     "name": "stdout",
     "output_type": "stream",
     "text": [
      "--- 0:00:00.007470 time elapsed ---\n"
     ]
    }
   ],
   "source": [
    "start_time = time.time()\n",
    "\n",
    "knn_3 = KNeighborsClassifier(n_neighbors=3,weights=\"distance\")\n",
    "knn_3.fit(X_train, y_train)\n",
    "\n",
    "print(\"--- %s time elapsed ---\" % str(timedelta(seconds=time.time() - start_time)))"
   ]
  },
  {
   "cell_type": "markdown",
   "id": "c6f1e96f-3999-488f-87a3-2262463d737e",
   "metadata": {},
   "source": [
    "**Prediciton**"
   ]
  },
  {
   "cell_type": "code",
   "execution_count": 93,
   "id": "01cb4c29",
   "metadata": {},
   "outputs": [],
   "source": [
    "y_pred = knn_3.predict(X_test)"
   ]
  },
  {
   "cell_type": "markdown",
   "id": "16d380e7-ccf0-4111-9965-46c0417ffbbd",
   "metadata": {},
   "source": [
    "**Evaluation**"
   ]
  },
  {
   "cell_type": "code",
   "execution_count": 94,
   "id": "d3b7c32a",
   "metadata": {},
   "outputs": [],
   "source": [
    "class_report_3 = classification_report(y_test, y_pred)\n",
    "accuracy_3 = accuracy_score(y_test,y_pred)*100\n",
    "precision_3 = precision_score(y_test,y_pred,average='micro')*100\n",
    "recall_3 = recall_score(y_test,y_pred,average='micro')*100"
   ]
  },
  {
   "cell_type": "code",
   "execution_count": 95,
   "id": "97e772c3",
   "metadata": {},
   "outputs": [
    {
     "name": "stdout",
     "output_type": "stream",
     "text": [
      "              precision    recall  f1-score   support\n",
      "\n",
      "           0       0.98      0.99      0.98      1033\n",
      "           1       0.96      0.99      0.98      1171\n",
      "           2       0.98      0.96      0.97      1044\n",
      "           3       0.97      0.97      0.97      1088\n",
      "           4       0.98      0.96      0.97      1018\n",
      "           5       0.96      0.96      0.96       949\n",
      "           6       0.98      0.98      0.98      1034\n",
      "           7       0.95      0.97      0.96      1100\n",
      "           8       0.98      0.93      0.95      1016\n",
      "           9       0.95      0.96      0.95      1047\n",
      "\n",
      "    accuracy                           0.97     10500\n",
      "   macro avg       0.97      0.97      0.97     10500\n",
      "weighted avg       0.97      0.97      0.97     10500\n",
      "\n",
      "Accuracy of testing dataset of n_neighbors=3 is : 96.79%\n",
      "Precision of testing dataset of n_neighbors=3 is : 96.79%\n",
      "Recall of testing dataset of n_neighbors=3 is : 96.79%\n"
     ]
    }
   ],
   "source": [
    "print(class_report_3)\n",
    "print(\"Accuracy of testing dataset of n_neighbors=3 is : {:.2f}%\".format(accuracy_3) )\n",
    "print(\"Precision of testing dataset of n_neighbors=3 is : {:.2f}%\".format(precision_3) )\n",
    "print(\"Recall of testing dataset of n_neighbors=3 is : {:.2f}%\".format(accuracy_3) )"
   ]
  },
  {
   "cell_type": "markdown",
   "id": "0ea1c45c",
   "metadata": {},
   "source": [
    "#### n_neighbors=4"
   ]
  },
  {
   "cell_type": "markdown",
   "id": "15893ec6-043e-4564-9a7d-6cfd79b94ccc",
   "metadata": {},
   "source": [
    "**Training Model**"
   ]
  },
  {
   "cell_type": "code",
   "execution_count": 96,
   "id": "c788b97a",
   "metadata": {},
   "outputs": [
    {
     "name": "stdout",
     "output_type": "stream",
     "text": [
      "--- 0:00:00.015486 time elapsed ---\n"
     ]
    }
   ],
   "source": [
    "start_time = time.time()\n",
    "\n",
    "knn_4 = KNeighborsClassifier(n_neighbors=4,weights=\"distance\")\n",
    "knn_4.fit(X_train, y_train)\n",
    "\n",
    "print(\"--- %s time elapsed ---\" % str(timedelta(seconds=time.time() - start_time)))"
   ]
  },
  {
   "cell_type": "markdown",
   "id": "f6a9636e-4f39-4518-8039-c8ff59be3cdc",
   "metadata": {},
   "source": [
    "**Prediction**"
   ]
  },
  {
   "cell_type": "code",
   "execution_count": 97,
   "id": "e91eb871",
   "metadata": {},
   "outputs": [],
   "source": [
    "y_pred = knn_4.predict(X_test)"
   ]
  },
  {
   "cell_type": "markdown",
   "id": "276a9e3d-7492-4e9e-81c5-ccf945bc6bac",
   "metadata": {},
   "source": [
    "**Evaluation**"
   ]
  },
  {
   "cell_type": "code",
   "execution_count": 98,
   "id": "54a9034d",
   "metadata": {},
   "outputs": [],
   "source": [
    "class_report_4 = classification_report(y_test, y_pred)\n",
    "accuracy_4 = accuracy_score(y_test,y_pred)*100\n",
    "precision_4 = precision_score(y_test,y_pred,average='micro')*100\n",
    "recall_4 = recall_score(y_test,y_pred,average='micro')*100"
   ]
  },
  {
   "cell_type": "code",
   "execution_count": 99,
   "id": "845b428d",
   "metadata": {},
   "outputs": [
    {
     "name": "stdout",
     "output_type": "stream",
     "text": [
      "              precision    recall  f1-score   support\n",
      "\n",
      "           0       0.98      0.99      0.99      1033\n",
      "           1       0.96      0.99      0.98      1171\n",
      "           2       0.98      0.96      0.97      1044\n",
      "           3       0.97      0.97      0.97      1088\n",
      "           4       0.98      0.96      0.97      1018\n",
      "           5       0.97      0.96      0.96       949\n",
      "           6       0.98      0.98      0.98      1034\n",
      "           7       0.95      0.97      0.96      1100\n",
      "           8       0.99      0.93      0.96      1016\n",
      "           9       0.94      0.96      0.95      1047\n",
      "\n",
      "    accuracy                           0.97     10500\n",
      "   macro avg       0.97      0.97      0.97     10500\n",
      "weighted avg       0.97      0.97      0.97     10500\n",
      "\n",
      "Accuracy of testing dataset of n_neighbors=4 is : 96.83%\n",
      "Precision of testing dataset of n_neighbors=4 is : 96.83%\n",
      "Recall of testing dataset of n_neighbors=4 is : 96.83%\n"
     ]
    }
   ],
   "source": [
    "print(class_report_4)\n",
    "print(\"Accuracy of testing dataset of n_neighbors=4 is : {:.2f}%\".format(accuracy_4) )\n",
    "print(\"Precision of testing dataset of n_neighbors=4 is : {:.2f}%\".format(precision_4) )\n",
    "print(\"Recall of testing dataset of n_neighbors=4 is : {:.2f}%\".format(accuracy_4) )"
   ]
  },
  {
   "cell_type": "markdown",
   "id": "4b291d8b",
   "metadata": {},
   "source": [
    "#### n_neighbors=5"
   ]
  },
  {
   "cell_type": "markdown",
   "id": "c5b00295-9ec7-42f3-a792-606cde1e4fe7",
   "metadata": {},
   "source": [
    "**Training Model**"
   ]
  },
  {
   "cell_type": "code",
   "execution_count": 100,
   "id": "c8ed4565",
   "metadata": {},
   "outputs": [
    {
     "name": "stdout",
     "output_type": "stream",
     "text": [
      "--- 0:00:00.016416 time elapsed ---\n"
     ]
    }
   ],
   "source": [
    "start_time = time.time()\n",
    "\n",
    "knn_5 = KNeighborsClassifier(n_neighbors=5,weights=\"distance\")\n",
    "knn_5.fit(X_train, y_train)\n",
    "\n",
    "print(\"--- %s time elapsed ---\" % str(timedelta(seconds=time.time() - start_time)))"
   ]
  },
  {
   "cell_type": "markdown",
   "id": "e4aa88f9-e53f-4f5b-99d3-32ff628eabcb",
   "metadata": {},
   "source": [
    "**Prediction**"
   ]
  },
  {
   "cell_type": "code",
   "execution_count": 101,
   "id": "df073ab7",
   "metadata": {},
   "outputs": [],
   "source": [
    "y_pred = knn_5.predict(X_test)"
   ]
  },
  {
   "cell_type": "markdown",
   "id": "d0af2bbc-d652-47ee-9312-f6acf79fba7b",
   "metadata": {},
   "source": [
    "**Evaluation**"
   ]
  },
  {
   "cell_type": "code",
   "execution_count": 102,
   "id": "6aa1bb9a",
   "metadata": {},
   "outputs": [],
   "source": [
    "class_report_5 = classification_report(y_test, y_pred)\n",
    "accuracy_5 = accuracy_score(y_test,y_pred)*100\n",
    "precision_5 = precision_score(y_test,y_pred,average='micro')*100\n",
    "recall_5 = recall_score(y_test,y_pred,average='micro')*100"
   ]
  },
  {
   "cell_type": "code",
   "execution_count": 103,
   "id": "1ebccc9d",
   "metadata": {
    "scrolled": true,
    "tags": []
   },
   "outputs": [
    {
     "name": "stdout",
     "output_type": "stream",
     "text": [
      "              precision    recall  f1-score   support\n",
      "\n",
      "           0       0.98      0.99      0.98      1033\n",
      "           1       0.95      0.99      0.97      1171\n",
      "           2       0.99      0.95      0.97      1044\n",
      "           3       0.96      0.96      0.96      1088\n",
      "           4       0.98      0.96      0.97      1018\n",
      "           5       0.96      0.96      0.96       949\n",
      "           6       0.98      0.99      0.98      1034\n",
      "           7       0.95      0.97      0.96      1100\n",
      "           8       0.99      0.92      0.95      1016\n",
      "           9       0.94      0.97      0.95      1047\n",
      "\n",
      "    accuracy                           0.97     10500\n",
      "   macro avg       0.97      0.97      0.97     10500\n",
      "weighted avg       0.97      0.97      0.97     10500\n",
      "\n",
      "Accuracy of testing dataset of n_neighbors=5 is : 96.66%\n",
      "Precision of testing dataset of n_neighbors=5 is : 96.66%\n",
      "Recall of testing dataset of n_neighbors=5 is : 96.66%\n"
     ]
    }
   ],
   "source": [
    "print(class_report_5)\n",
    "print(\"Accuracy of testing dataset of n_neighbors=5 is : {:.2f}%\".format(accuracy_5) )\n",
    "print(\"Precision of testing dataset of n_neighbors=5 is : {:.2f}%\".format(precision_5) )\n",
    "print(\"Recall of testing dataset of n_neighbors=5 is : {:.2f}%\".format(accuracy_5) )"
   ]
  },
  {
   "cell_type": "markdown",
   "id": "ec22fa13-f4fc-4d6e-a0cb-532711c05fc1",
   "metadata": {},
   "source": [
    "### 3.2.4 Result And Decision"
   ]
  },
  {
   "cell_type": "markdown",
   "id": "22585a94",
   "metadata": {},
   "source": [
    "**Consider the testing data result, we will chose n_neighbors=4 be our best knn model.**"
   ]
  },
  {
   "cell_type": "markdown",
   "id": "5b318b72",
   "metadata": {},
   "source": [
    "## 3.4 Model Saving"
   ]
  },
  {
   "cell_type": "code",
   "execution_count": 104,
   "id": "b500d0d5",
   "metadata": {},
   "outputs": [],
   "source": [
    "pickle.dump(knn_4, open(\"Best_knn_model.pkl\", \"wb\"))"
   ]
  },
  {
   "cell_type": "markdown",
   "id": "f2961424",
   "metadata": {},
   "source": [
    "## 3.5 Model Loading"
   ]
  },
  {
   "cell_type": "code",
   "execution_count": 105,
   "id": "95c655c4",
   "metadata": {},
   "outputs": [],
   "source": [
    "loaded_model = pickle.load(open(\"Best_knn_model.pkl\", 'rb'))"
   ]
  },
  {
   "cell_type": "markdown",
   "id": "7a8709c7",
   "metadata": {},
   "source": [
    "# 5. Prediction"
   ]
  },
  {
   "cell_type": "markdown",
   "id": "9734fa94",
   "metadata": {},
   "source": [
    "Normalization"
   ]
  },
  {
   "cell_type": "code",
   "execution_count": 106,
   "id": "40b9799f",
   "metadata": {},
   "outputs": [],
   "source": [
    "mnist_prediction = mnist_prediction/255.0"
   ]
  },
  {
   "cell_type": "markdown",
   "id": "b31448bd",
   "metadata": {},
   "source": [
    "Prediction"
   ]
  },
  {
   "cell_type": "code",
   "execution_count": 107,
   "id": "9c6cb7eb",
   "metadata": {},
   "outputs": [],
   "source": [
    "results = loaded_model.predict(mnist_prediction)"
   ]
  },
  {
   "cell_type": "markdown",
   "id": "e174b29b",
   "metadata": {},
   "source": [
    "# 6. Submission"
   ]
  },
  {
   "cell_type": "code",
   "execution_count": 108,
   "id": "edaf2f79",
   "metadata": {},
   "outputs": [
    {
     "name": "stderr",
     "output_type": "stream",
     "text": [
      "<ipython-input-108-f5d890d7a65e>:1: DeprecationWarning: `np.int` is a deprecated alias for the builtin `int`. To silence this warning, use `int` by itself. Doing this will not modify any behavior and is safe. When replacing `np.int`, you may wish to use e.g. `np.int64` or `np.int32` to specify the precision. If you wish to review your current use, check the release note link for additional information.\n",
      "Deprecated in NumPy 1.20; for more details and guidance: https://numpy.org/devdocs/release/1.20.0-notes.html#deprecations\n",
      "  sub = pd.DataFrame({'ImageId':np.arange(10000),'Label':results.squeeze().astype(np.int)})\n"
     ]
    },
    {
     "data": {
      "text/html": [
       "<div>\n",
       "<style scoped>\n",
       "    .dataframe tbody tr th:only-of-type {\n",
       "        vertical-align: middle;\n",
       "    }\n",
       "\n",
       "    .dataframe tbody tr th {\n",
       "        vertical-align: top;\n",
       "    }\n",
       "\n",
       "    .dataframe thead th {\n",
       "        text-align: right;\n",
       "    }\n",
       "</style>\n",
       "<table border=\"1\" class=\"dataframe\">\n",
       "  <thead>\n",
       "    <tr style=\"text-align: right;\">\n",
       "      <th></th>\n",
       "      <th>ImageId</th>\n",
       "      <th>Label</th>\n",
       "    </tr>\n",
       "  </thead>\n",
       "  <tbody>\n",
       "    <tr>\n",
       "      <th>0</th>\n",
       "      <td>1</td>\n",
       "      <td>7</td>\n",
       "    </tr>\n",
       "    <tr>\n",
       "      <th>1</th>\n",
       "      <td>2</td>\n",
       "      <td>2</td>\n",
       "    </tr>\n",
       "    <tr>\n",
       "      <th>2</th>\n",
       "      <td>3</td>\n",
       "      <td>1</td>\n",
       "    </tr>\n",
       "    <tr>\n",
       "      <th>3</th>\n",
       "      <td>4</td>\n",
       "      <td>0</td>\n",
       "    </tr>\n",
       "    <tr>\n",
       "      <th>4</th>\n",
       "      <td>5</td>\n",
       "      <td>4</td>\n",
       "    </tr>\n",
       "  </tbody>\n",
       "</table>\n",
       "</div>"
      ],
      "text/plain": [
       "   ImageId  Label\n",
       "0        1      7\n",
       "1        2      2\n",
       "2        3      1\n",
       "3        4      0\n",
       "4        5      4"
      ]
     },
     "execution_count": 108,
     "metadata": {},
     "output_type": "execute_result"
    }
   ],
   "source": [
    "sub = pd.DataFrame({'ImageId':np.arange(10000),'Label':results.squeeze().astype(np.int)})\n",
    "sub[\"ImageId\"]=sub[\"ImageId\"]+1\n",
    "sub.head()"
   ]
  },
  {
   "cell_type": "code",
   "execution_count": 119,
   "id": "95f88251-fd64-4b08-a184-991998109c60",
   "metadata": {},
   "outputs": [
    {
     "data": {
      "text/html": [
       "<div>\n",
       "<style scoped>\n",
       "    .dataframe tbody tr th:only-of-type {\n",
       "        vertical-align: middle;\n",
       "    }\n",
       "\n",
       "    .dataframe tbody tr th {\n",
       "        vertical-align: top;\n",
       "    }\n",
       "\n",
       "    .dataframe thead th {\n",
       "        text-align: right;\n",
       "    }\n",
       "</style>\n",
       "<table border=\"1\" class=\"dataframe\">\n",
       "  <thead>\n",
       "    <tr style=\"text-align: right;\">\n",
       "      <th></th>\n",
       "      <th>ImageId</th>\n",
       "      <th>Label</th>\n",
       "    </tr>\n",
       "  </thead>\n",
       "  <tbody>\n",
       "    <tr>\n",
       "      <th>9995</th>\n",
       "      <td>9996</td>\n",
       "      <td>2</td>\n",
       "    </tr>\n",
       "    <tr>\n",
       "      <th>9996</th>\n",
       "      <td>9997</td>\n",
       "      <td>3</td>\n",
       "    </tr>\n",
       "    <tr>\n",
       "      <th>9997</th>\n",
       "      <td>9998</td>\n",
       "      <td>4</td>\n",
       "    </tr>\n",
       "    <tr>\n",
       "      <th>9998</th>\n",
       "      <td>9999</td>\n",
       "      <td>5</td>\n",
       "    </tr>\n",
       "    <tr>\n",
       "      <th>9999</th>\n",
       "      <td>10000</td>\n",
       "      <td>6</td>\n",
       "    </tr>\n",
       "  </tbody>\n",
       "</table>\n",
       "</div>"
      ],
      "text/plain": [
       "      ImageId  Label\n",
       "9995     9996      2\n",
       "9996     9997      3\n",
       "9997     9998      4\n",
       "9998     9999      5\n",
       "9999    10000      6"
      ]
     },
     "execution_count": 119,
     "metadata": {},
     "output_type": "execute_result"
    }
   ],
   "source": [
    "sub.tail()"
   ]
  },
  {
   "cell_type": "markdown",
   "id": "9dbcef90-d0bd-4ad7-95a1-38f0b529e5be",
   "metadata": {},
   "source": [
    "### Randomly Pick One to Check the Prediction"
   ]
  },
  {
   "cell_type": "code",
   "execution_count": 111,
   "id": "d07f50c7",
   "metadata": {},
   "outputs": [
    {
     "name": "stdout",
     "output_type": "stream",
     "text": [
      "ImageId    778\n",
      "Label        1\n",
      "Name: 777, dtype: int64\n"
     ]
    }
   ],
   "source": [
    "print(sub.iloc[777])"
   ]
  },
  {
   "cell_type": "code",
   "execution_count": 123,
   "id": "e7781091",
   "metadata": {},
   "outputs": [
    {
     "data": {
      "image/png": "[encoded data removed]",
      "text/plain": [
       "<Figure size 432x288 with 1 Axes>"
      ]
     },
     "metadata": {
      "needs_background": "light"
     },
     "output_type": "display_data"
    },
    {
     "name": "stdout",
     "output_type": "stream",
     "text": [
      "--- 0:00:00.081015 time elapsed ---\n"
     ]
    }
   ],
   "source": [
    "showBWImage(mnist_prediction,777)"
   ]
  },
  {
   "cell_type": "markdown",
   "id": "b7249099-a4aa-4b5a-add1-d6da22bd24d9",
   "metadata": {},
   "source": [
    "We successfully predict the digit for the random sample here by given data.\n",
    "\n",
    "Let's save the results into CVS file."
   ]
  },
  {
   "cell_type": "code",
   "execution_count": 120,
   "id": "ff26db2b",
   "metadata": {},
   "outputs": [],
   "source": [
    "sub.to_csv('hw01_submission.csv', index=False)"
   ]
  },
  {
   "cell_type": "code",
   "execution_count": null,
   "id": "2e249f88-2bf6-4732-9b4a-c861ffe82bbc",
   "metadata": {},
   "outputs": [],
   "source": []
  }
 ],
 "metadata": {
  "kernelspec": {
   "display_name": "Python 3",
   "language": "python",
   "name": "python3"
  },
  "language_info": {
   "codemirror_mode": {
    "name": "ipython",
    "version": 3
   },
   "file_extension": ".py",
   "mimetype": "text/x-python",
   "name": "python",
   "nbconvert_exporter": "python",
   "pygments_lexer": "ipython3",
   "version": "3.8.8"
  }
 },
 "nbformat": 4,
 "nbformat_minor": 5
}
